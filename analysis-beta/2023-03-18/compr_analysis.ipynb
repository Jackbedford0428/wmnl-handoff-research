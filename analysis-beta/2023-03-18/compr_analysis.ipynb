{
 "cells": [
  {
   "cell_type": "code",
   "execution_count": 9,
   "metadata": {},
   "outputs": [],
   "source": [
    "import os, sys\n",
    "import pandas as pd\n",
    "import numpy as np\n",
    "import datetime as dt\n",
    "from pprint import pprint\n",
    "import csv\n",
    "from nanrms import nansumsq, nanrms\n",
    "\n",
    "pd.set_option('display.max_columns', 200)\n",
    "# pd.set_option('display.max_rows', 200)"
   ]
  },
  {
   "attachments": {},
   "cell_type": "markdown",
   "metadata": {},
   "source": [
    "# Collect Data Files"
   ]
  },
  {
   "cell_type": "code",
   "execution_count": 10,
   "metadata": {},
   "outputs": [],
   "source": [
    "datadir = \"/Users/jackbedford/Desktop/MOXA/Code/data\"\n",
    "exp = \"_Bandlock_Udp_B1_B3_B7_B8_RM500Q\"\n",
    "devices = [\n",
    "    'qc00',\n",
    "    # 'qc01',\n",
    "    'qc02',\n",
    "    'qc03',\n",
    "]\n",
    "schemes = [\n",
    "    'B1',\n",
    "    # 'B3',\n",
    "    'B7',\n",
    "    'B8',\n",
    "]\n",
    "dates = {\n",
    "    \"2023-03-15\": [*['#{:02d}'.format(i+1) for i in range(1, 4)], '#06'],\n",
    "    \"2023-03-16\": ['#{:02d}'.format(i+1) for i in range(16)],\n",
    "}"
   ]
  },
  {
   "cell_type": "code",
   "execution_count": 11,
   "metadata": {},
   "outputs": [],
   "source": [
    "def set_data(df):\n",
    "    df['seq'] = df['seq'].astype('Int32')\n",
    "    df['rpkg'] = df['rpkg'].astype('Int8')\n",
    "    df['frame_id'] = df['frame_id'].astype('Int32')\n",
    "    df['Timestamp'] = pd.to_datetime(df['Timestamp'])\n",
    "    df['xmit_time'] = pd.to_datetime(df['xmit_time'])\n",
    "    df['arr_time'] = pd.to_datetime(df['arr_time'])\n",
    "    df['Timestamp_epoch'] = df['Timestamp_epoch'].astype('float32')\n",
    "    df['xmit_time_epoch'] = df['xmit_time_epoch'].astype('float32')\n",
    "    df['arr_time_epoch'] = df['arr_time_epoch'].astype('float32')\n",
    "    df['lost'] = df['lost'].astype('boolean')\n",
    "    df['excl'] = df['excl'].astype('boolean')\n",
    "    df['latency'] = df['latency'].astype('float32')\n",
    "    return df"
   ]
  },
  {
   "attachments": {},
   "cell_type": "markdown",
   "metadata": {},
   "source": [
    "## Uplink"
   ]
  },
  {
   "cell_type": "code",
   "execution_count": 12,
   "metadata": {},
   "outputs": [
    {
     "name": "stdout",
     "output_type": "stream",
     "text": [
      "20\n"
     ]
    }
   ],
   "source": [
    "i = -1\n",
    "dfs_ul = []\n",
    "for date, traces in dates.items():\n",
    "    for trace in traces:\n",
    "        i += 1\n",
    "        if i in [16,17,18,19]:\n",
    "            dfs_ul.append([pd.DataFrame()]*len(devices))\n",
    "            continue\n",
    "        dfs_ul.append([])\n",
    "        st, et = [], []\n",
    "        for j, (dev, schm) in enumerate(zip(devices, schemes)):\n",
    "            data = os.path.join(datadir, date, exp, dev, trace, 'data', 'udp_uplk_loss_latency.csv')\n",
    "            # print(data, os.path.isfile(data))\n",
    "            df = pd.read_csv(data)\n",
    "            df = set_data(df)\n",
    "            dfs_ul[i].append(df.copy())\n",
    "            st.append(df['seq'].array[0])\n",
    "            et.append(df['seq'].array[-1])\n",
    "        st, et = max(st), min(et)\n",
    "        for j, (dev, schm) in enumerate(zip(devices, schemes)):\n",
    "            dfs_ul[i][j] = dfs_ul[i][j][(dfs_ul[i][j]['seq'] >= st) & (dfs_ul[i][j]['seq'] <= et)].reset_index(drop=True)\n",
    "print(len(dfs_ul))"
   ]
  },
  {
   "attachments": {},
   "cell_type": "markdown",
   "metadata": {},
   "source": [
    "## Downlink"
   ]
  },
  {
   "cell_type": "code",
   "execution_count": 13,
   "metadata": {},
   "outputs": [
    {
     "name": "stdout",
     "output_type": "stream",
     "text": [
      "20\n"
     ]
    }
   ],
   "source": [
    "i = -1\n",
    "dfs_dl = []\n",
    "for date, traces in dates.items():\n",
    "    for trace in traces:\n",
    "        i += 1\n",
    "        if i in [0,1,2,3]:\n",
    "            dfs_dl.append([pd.DataFrame()]*len(devices))\n",
    "            continue\n",
    "        dfs_dl.append([])\n",
    "        st, et = [], []\n",
    "        for j, (dev, schm) in enumerate(zip(devices, schemes)):\n",
    "            data = os.path.join(datadir, date, exp, dev, trace, 'data', 'udp_dnlk_loss_latency.csv')\n",
    "            # print(data, os.path.isfile(data))\n",
    "            df = pd.read_csv(data)\n",
    "            df = set_data(df)\n",
    "            dfs_dl[i].append(df.copy())\n",
    "            st.append(df['seq'].array[0])\n",
    "            et.append(df['seq'].array[-1])\n",
    "        st, et = max(st), min(et)\n",
    "        for j, (dev, schm) in enumerate(zip(devices, schemes)):\n",
    "            dfs_dl[i][j] = dfs_dl[i][j][(dfs_dl[i][j]['seq'] >= st) & (dfs_dl[i][j]['seq'] <= et)].reset_index(drop=True)\n",
    "print(len(dfs_dl))"
   ]
  },
  {
   "cell_type": "code",
   "execution_count": 14,
   "metadata": {},
   "outputs": [
    {
     "name": "stdout",
     "output_type": "stream",
     "text": [
      "packet loss rate (%):       0.1094\n",
      "excessive latency rate (%): 0.0007\n",
      "plr + elr (%):              0.1101\n",
      "average latency:            0.015278\n",
      "min latency:                0.004967\n",
      "max latency:                0.100752\n",
      "median latency:             0.014498\n",
      "latency variance:           1.5e-05\n",
      "latency standard deviation: 0.003862\n",
      "latency jitter:             0.001796\n"
     ]
    }
   ],
   "source": [
    "df = dfs_ul[0][0]\n",
    "\n",
    "plr = round(df.lost.mean() * 100, 4)\n",
    "elr = round(df[~df.lost].excl.mean() * 100, 4)\n",
    "plelr = round(df.excl.mean() * 100, 4)\n",
    "avg_l = round(df[~df.lost].latency.mean(), 6)\n",
    "min_l = round(df[~df.lost].latency.min(), 6)\n",
    "max_l = round(df[~df.lost].latency.max(), 6)\n",
    "mdn_l = round(df[~df.lost].latency.median(), 6)\n",
    "var_l = round(df[~df.lost].latency.var(), 6)\n",
    "std_l = round(df[~df.lost].latency.std(), 6)\n",
    "jitter = round(df.loc[~df.lost, 'latency'].diff().abs().mean(), 6)\n",
    "\n",
    "print('packet loss rate (%):      ', plr)\n",
    "print('excessive latency rate (%):', elr)\n",
    "print('plr + elr (%):             ', plelr)\n",
    "print('average latency:           ', avg_l)\n",
    "print('min latency:               ', min_l)\n",
    "print('max latency:               ', max_l)\n",
    "print('median latency:            ', mdn_l)\n",
    "print('latency variance:          ', var_l)\n",
    "print('latency standard deviation:', std_l)\n",
    "print('latency jitter:            ', jitter)"
   ]
  },
  {
   "attachments": {},
   "cell_type": "markdown",
   "metadata": {},
   "source": [
    "# Statistics"
   ]
  },
  {
   "cell_type": "code",
   "execution_count": 15,
   "metadata": {},
   "outputs": [],
   "source": [
    "i = -1\n",
    "table = []\n",
    "for date, traces in dates.items():\n",
    "    for trace in traces:\n",
    "        i += 1\n",
    "        row = []\n",
    "        for j, (dev, schm) in enumerate(zip(devices, schemes)):\n",
    "            lost_ul = dfs_ul[i][j].lost.sum() if not dfs_ul[i][j].empty else np.nan\n",
    "            excl_ul = dfs_ul[i][j][~dfs_ul[i][j].lost].excl.sum() if not dfs_ul[i][j].empty else np.nan\n",
    "            sent_ul = dfs_ul[i][j].seq.count() if not dfs_ul[i][j].empty else np.nan\n",
    "            lost_dl = dfs_dl[i][j].lost.sum() if not dfs_dl[i][j].empty else np.nan\n",
    "            excl_dl = dfs_dl[i][j][~dfs_dl[i][j].lost].excl.sum() if not dfs_dl[i][j].empty else np.nan\n",
    "            sent_dl = dfs_dl[i][j].seq.count() if not dfs_dl[i][j].empty else np.nan\n",
    "            # print(lost_ul, excl_ul, sent_ul, lost_dl, excl_dl, sent_dl, sep='\\t', end='\\t')\n",
    "            row = [*row, lost_ul, excl_ul, sent_ul, lost_dl, excl_dl, sent_dl]\n",
    "        # print()\n",
    "        table.append(row)\n",
    "\n",
    "header = []\n",
    "for dev, schm in zip(devices, schemes):\n",
    "    header = [*header, f'ul_lost_{schm}', f'ul_excl_{schm}', f'ul_total_{schm}', f'dl_lost_{schm}', f'dl_excl_{schm}', f'dl_total_{schm}']\n",
    "average = [round(s, 1) for s in np.nanmean(table, axis=0)]\n",
    "with open(\"stats_lost_excl.csv\", 'w') as file:\n",
    "    writer = csv.writer(file)\n",
    "    writer.writerow(header)\n",
    "    writer.writerows(table)\n",
    "    writer.writerow(average)"
   ]
  },
  {
   "cell_type": "code",
   "execution_count": 16,
   "metadata": {},
   "outputs": [],
   "source": [
    "i = -1\n",
    "table = []\n",
    "for date, traces in dates.items():\n",
    "    for trace in traces:\n",
    "        i += 1\n",
    "        row = []\n",
    "        for j, (dev, schm) in enumerate(zip(devices, schemes)):\n",
    "            plr_ul = round(dfs_ul[i][j].lost.mean() * 100, 4) if not dfs_ul[i][j].empty else np.nan\n",
    "            elr_ul = round(dfs_ul[i][j][~dfs_ul[i][j].lost].excl.mean() * 100, 4) if not dfs_ul[i][j].empty else np.nan\n",
    "            plr_dl = round(dfs_dl[i][j].lost.mean() * 100, 4) if not dfs_dl[i][j].empty else np.nan\n",
    "            elr_dl = round(dfs_dl[i][j][~dfs_dl[i][j].lost].excl.mean() * 100, 4) if not dfs_dl[i][j].empty else np.nan\n",
    "            # print(plr_ul, elr_ul, plr_dl, elr_dl, sep='\\t', end='\\t')\n",
    "            row = [*row, plr_ul, elr_ul, plr_dl, elr_dl]\n",
    "        # print()\n",
    "        table.append(row)\n",
    "\n",
    "header = []\n",
    "for dev, schm in zip(devices, schemes):\n",
    "    header = [*header, f'ul_PLR_{schm}', f'ul_ELR_{schm}', f'dl_PLR_{schm}', f'dl_ELR_{schm}']\n",
    "average = [round(s, 4) for s in np.nanmean(table, axis=0)]\n",
    "with open(\"stats_plr_elr.csv\", 'w') as file:\n",
    "    writer = csv.writer(file)\n",
    "    writer.writerow(header)\n",
    "    writer.writerows(table)\n",
    "    writer.writerow(average)"
   ]
  },
  {
   "cell_type": "code",
   "execution_count": 229,
   "metadata": {},
   "outputs": [],
   "source": [
    "i = -1\n",
    "table = []\n",
    "for date, traces in dates.items():\n",
    "    for trace in traces:\n",
    "        i += 1\n",
    "        row = []\n",
    "        for j, (dev, schm) in enumerate(zip(devices, schemes)):\n",
    "            avg_l_ul = round(dfs_ul[i][j][~dfs_ul[i][j].lost].latency.mean(), 6) if not dfs_ul[i][j].empty else np.nan\n",
    "            std_l_ul = round(dfs_ul[i][j][~dfs_ul[i][j].lost].latency.std(), 6) if not dfs_ul[i][j].empty else np.nan\n",
    "            jitter_ul = round(dfs_ul[i][j].loc[~dfs_ul[i][j].lost, 'latency'].diff().abs().mean(), 6) if not dfs_ul[i][j].empty else np.nan\n",
    "            avg_l_dl = round(dfs_dl[i][j][~dfs_dl[i][j].lost].latency.mean(), 6) if not dfs_dl[i][j].empty else np.nan\n",
    "            std_l_dl = round(dfs_dl[i][j][~dfs_dl[i][j].lost].latency.std(), 6) if not dfs_dl[i][j].empty else np.nan\n",
    "            jitter_dl = round(dfs_dl[i][j].loc[~dfs_dl[i][j].lost, 'latency'].diff().abs().mean(), 6) if not dfs_dl[i][j].empty else np.nan\n",
    "            # print(avg_l_ul, std_l_ul, jitter_ul, avg_l_dl, std_l_dl, jitter_dl, sep='\\t', end='\\t')\n",
    "            row = [*row, avg_l_ul, std_l_ul, jitter_ul, avg_l_dl, std_l_dl, jitter_dl]\n",
    "        # print()    \n",
    "        table.append(row)\n",
    "\n",
    "header = []\n",
    "for dev, schm in zip(devices, schemes):\n",
    "    header = [*header, f'ul_avg_L_{schm}', f'ul_std_L_{schm}', f'ul_jitter_{schm}', f'dl_avg_L_{schm}', f'dl_std_L_{schm}', f'dl_jitter_{schm}']\n",
    "average = [round(s[1], 6) if i%3 == 1 else round(s[0], 6) for i, s in enumerate(zip(np.nanmean(table, axis=0), nanrms(table, axis=0)))]\n",
    "with open(\"stats_latency.csv\", 'w') as file:\n",
    "    writer = csv.writer(file)\n",
    "    writer.writerow(header)\n",
    "    writer.writerows(table)\n",
    "    writer.writerow(average)"
   ]
  },
  {
   "attachments": {},
   "cell_type": "markdown",
   "metadata": {},
   "source": [
    "# Handover Info"
   ]
  },
  {
   "cell_type": "code",
   "execution_count": 7,
   "metadata": {},
   "outputs": [
    {
     "name": "stdout",
     "output_type": "stream",
     "text": [
      "/Users/jackbedford/Desktop/MOXA/Code/data/2023-03-15/_Bandlock_Udp_B1_B3_B7_B8_RM500Q/qc00/#02/data/diag_log_qc00_2023-03-15_15-15-41_rrc.csv True\n",
      "/Users/jackbedford/Desktop/MOXA/Code/data/2023-03-15/_Bandlock_Udp_B1_B3_B7_B8_RM500Q/qc02/#02/data/diag_log_qc02_2023-03-15_15-15-41_rrc.csv True\n",
      "/Users/jackbedford/Desktop/MOXA/Code/data/2023-03-15/_Bandlock_Udp_B1_B3_B7_B8_RM500Q/qc03/#02/data/diag_log_qc03_2023-03-15_15-15-41_rrc.csv True\n",
      "/Users/jackbedford/Desktop/MOXA/Code/data/2023-03-15/_Bandlock_Udp_B1_B3_B7_B8_RM500Q/qc00/#03/data/diag_log_qc00_2023-03-15_15-57-16_rrc.csv True\n",
      "/Users/jackbedford/Desktop/MOXA/Code/data/2023-03-15/_Bandlock_Udp_B1_B3_B7_B8_RM500Q/qc02/#03/data/diag_log_qc02_2023-03-15_15-57-16_rrc.csv True\n",
      "/Users/jackbedford/Desktop/MOXA/Code/data/2023-03-15/_Bandlock_Udp_B1_B3_B7_B8_RM500Q/qc03/#03/data/diag_log_qc03_2023-03-15_15-57-16_rrc.csv True\n",
      "/Users/jackbedford/Desktop/MOXA/Code/data/2023-03-15/_Bandlock_Udp_B1_B3_B7_B8_RM500Q/qc00/#04/data/diag_log_qc00_2023-03-15_16-16-59_rrc.csv True\n",
      "/Users/jackbedford/Desktop/MOXA/Code/data/2023-03-15/_Bandlock_Udp_B1_B3_B7_B8_RM500Q/qc02/#04/data/diag_log_qc02_2023-03-15_16-16-59_rrc.csv True\n",
      "/Users/jackbedford/Desktop/MOXA/Code/data/2023-03-15/_Bandlock_Udp_B1_B3_B7_B8_RM500Q/qc03/#04/data/diag_log_qc03_2023-03-15_16-16-59_rrc.csv True\n",
      "/Users/jackbedford/Desktop/MOXA/Code/data/2023-03-15/_Bandlock_Udp_B1_B3_B7_B8_RM500Q/qc00/#06/data/diag_log_qc00_2023-03-15_16-57-25_rrc.csv True\n",
      "/Users/jackbedford/Desktop/MOXA/Code/data/2023-03-15/_Bandlock_Udp_B1_B3_B7_B8_RM500Q/qc02/#06/data/diag_log_qc02_2023-03-15_16-57-25_rrc.csv True\n",
      "/Users/jackbedford/Desktop/MOXA/Code/data/2023-03-15/_Bandlock_Udp_B1_B3_B7_B8_RM500Q/qc03/#06/data/diag_log_qc03_2023-03-15_16-57-25_rrc.csv True\n",
      "/Users/jackbedford/Desktop/MOXA/Code/data/2023-03-16/_Bandlock_Udp_B1_B3_B7_B8_RM500Q/qc00/#01/data/diag_log_qc00_2023-03-16_19-23-29_rrc.csv True\n",
      "/Users/jackbedford/Desktop/MOXA/Code/data/2023-03-16/_Bandlock_Udp_B1_B3_B7_B8_RM500Q/qc02/#01/data/diag_log_qc02_2023-03-16_19-23-29_rrc.csv True\n",
      "/Users/jackbedford/Desktop/MOXA/Code/data/2023-03-16/_Bandlock_Udp_B1_B3_B7_B8_RM500Q/qc03/#01/data/diag_log_qc03_2023-03-16_19-23-29_rrc.csv True\n",
      "/Users/jackbedford/Desktop/MOXA/Code/data/2023-03-16/_Bandlock_Udp_B1_B3_B7_B8_RM500Q/qc00/#02/data/diag_log_qc00_2023-03-16_19-32-43_rrc.csv True\n",
      "/Users/jackbedford/Desktop/MOXA/Code/data/2023-03-16/_Bandlock_Udp_B1_B3_B7_B8_RM500Q/qc02/#02/data/diag_log_qc02_2023-03-16_19-32-43_rrc.csv True\n",
      "/Users/jackbedford/Desktop/MOXA/Code/data/2023-03-16/_Bandlock_Udp_B1_B3_B7_B8_RM500Q/qc03/#02/data/diag_log_qc03_2023-03-16_19-32-43_rrc.csv True\n",
      "/Users/jackbedford/Desktop/MOXA/Code/data/2023-03-16/_Bandlock_Udp_B1_B3_B7_B8_RM500Q/qc00/#03/data/diag_log_qc00_2023-03-16_19-38-36_rrc.csv True\n",
      "/Users/jackbedford/Desktop/MOXA/Code/data/2023-03-16/_Bandlock_Udp_B1_B3_B7_B8_RM500Q/qc02/#03/data/diag_log_qc02_2023-03-16_19-38-36_rrc.csv True\n",
      "/Users/jackbedford/Desktop/MOXA/Code/data/2023-03-16/_Bandlock_Udp_B1_B3_B7_B8_RM500Q/qc03/#03/data/diag_log_qc03_2023-03-16_19-38-36_rrc.csv True\n",
      "/Users/jackbedford/Desktop/MOXA/Code/data/2023-03-16/_Bandlock_Udp_B1_B3_B7_B8_RM500Q/qc00/#04/data/diag_log_qc00_2023-03-16_19-47-07_rrc.csv True\n",
      "/Users/jackbedford/Desktop/MOXA/Code/data/2023-03-16/_Bandlock_Udp_B1_B3_B7_B8_RM500Q/qc02/#04/data/diag_log_qc02_2023-03-16_19-47-07_rrc.csv True\n",
      "/Users/jackbedford/Desktop/MOXA/Code/data/2023-03-16/_Bandlock_Udp_B1_B3_B7_B8_RM500Q/qc03/#04/data/diag_log_qc03_2023-03-16_19-47-07_rrc.csv True\n",
      "/Users/jackbedford/Desktop/MOXA/Code/data/2023-03-16/_Bandlock_Udp_B1_B3_B7_B8_RM500Q/qc00/#05/data/diag_log_qc00_2023-03-16_19-55-14_rrc.csv True\n",
      "/Users/jackbedford/Desktop/MOXA/Code/data/2023-03-16/_Bandlock_Udp_B1_B3_B7_B8_RM500Q/qc02/#05/data/diag_log_qc02_2023-03-16_19-55-14_rrc.csv True\n",
      "/Users/jackbedford/Desktop/MOXA/Code/data/2023-03-16/_Bandlock_Udp_B1_B3_B7_B8_RM500Q/qc03/#05/data/diag_log_qc03_2023-03-16_19-55-14_rrc.csv True\n",
      "/Users/jackbedford/Desktop/MOXA/Code/data/2023-03-16/_Bandlock_Udp_B1_B3_B7_B8_RM500Q/qc00/#06/data/diag_log_qc00_2023-03-16_20-03-44_rrc.csv True\n",
      "/Users/jackbedford/Desktop/MOXA/Code/data/2023-03-16/_Bandlock_Udp_B1_B3_B7_B8_RM500Q/qc02/#06/data/diag_log_qc02_2023-03-16_20-03-44_rrc.csv True\n",
      "/Users/jackbedford/Desktop/MOXA/Code/data/2023-03-16/_Bandlock_Udp_B1_B3_B7_B8_RM500Q/qc03/#06/data/diag_log_qc03_2023-03-16_20-03-44_rrc.csv True\n",
      "/Users/jackbedford/Desktop/MOXA/Code/data/2023-03-16/_Bandlock_Udp_B1_B3_B7_B8_RM500Q/qc00/#07/data/diag_log_qc00_2023-03-16_20-09-26_rrc.csv True\n",
      "/Users/jackbedford/Desktop/MOXA/Code/data/2023-03-16/_Bandlock_Udp_B1_B3_B7_B8_RM500Q/qc02/#07/data/diag_log_qc02_2023-03-16_20-09-26_rrc.csv True\n",
      "/Users/jackbedford/Desktop/MOXA/Code/data/2023-03-16/_Bandlock_Udp_B1_B3_B7_B8_RM500Q/qc03/#07/data/diag_log_qc03_2023-03-16_20-09-26_rrc.csv True\n",
      "/Users/jackbedford/Desktop/MOXA/Code/data/2023-03-16/_Bandlock_Udp_B1_B3_B7_B8_RM500Q/qc00/#08/data/diag_log_qc00_2023-03-16_20-17-10_rrc.csv True\n",
      "/Users/jackbedford/Desktop/MOXA/Code/data/2023-03-16/_Bandlock_Udp_B1_B3_B7_B8_RM500Q/qc02/#08/data/diag_log_qc02_2023-03-16_20-17-10_rrc.csv True\n",
      "/Users/jackbedford/Desktop/MOXA/Code/data/2023-03-16/_Bandlock_Udp_B1_B3_B7_B8_RM500Q/qc03/#08/data/diag_log_qc03_2023-03-16_20-17-10_rrc.csv True\n",
      "/Users/jackbedford/Desktop/MOXA/Code/data/2023-03-16/_Bandlock_Udp_B1_B3_B7_B8_RM500Q/qc00/#09/data/diag_log_qc00_2023-03-16_20-25-39_rrc.csv True\n",
      "/Users/jackbedford/Desktop/MOXA/Code/data/2023-03-16/_Bandlock_Udp_B1_B3_B7_B8_RM500Q/qc02/#09/data/diag_log_qc02_2023-03-16_20-25-39_rrc.csv True\n",
      "/Users/jackbedford/Desktop/MOXA/Code/data/2023-03-16/_Bandlock_Udp_B1_B3_B7_B8_RM500Q/qc03/#09/data/diag_log_qc03_2023-03-16_20-25-39_rrc.csv True\n",
      "/Users/jackbedford/Desktop/MOXA/Code/data/2023-03-16/_Bandlock_Udp_B1_B3_B7_B8_RM500Q/qc00/#10/data/diag_log_qc00_2023-03-16_20-33-14_rrc.csv True\n",
      "/Users/jackbedford/Desktop/MOXA/Code/data/2023-03-16/_Bandlock_Udp_B1_B3_B7_B8_RM500Q/qc02/#10/data/diag_log_qc02_2023-03-16_20-33-14_rrc.csv True\n",
      "/Users/jackbedford/Desktop/MOXA/Code/data/2023-03-16/_Bandlock_Udp_B1_B3_B7_B8_RM500Q/qc03/#10/data/diag_log_qc03_2023-03-16_20-33-14_rrc.csv True\n",
      "/Users/jackbedford/Desktop/MOXA/Code/data/2023-03-16/_Bandlock_Udp_B1_B3_B7_B8_RM500Q/qc00/#11/data/diag_log_qc00_2023-03-16_20-41-22_rrc.csv True\n",
      "/Users/jackbedford/Desktop/MOXA/Code/data/2023-03-16/_Bandlock_Udp_B1_B3_B7_B8_RM500Q/qc02/#11/data/diag_log_qc02_2023-03-16_20-41-22_rrc.csv True\n",
      "/Users/jackbedford/Desktop/MOXA/Code/data/2023-03-16/_Bandlock_Udp_B1_B3_B7_B8_RM500Q/qc03/#11/data/diag_log_qc03_2023-03-16_20-41-22_rrc.csv True\n",
      "/Users/jackbedford/Desktop/MOXA/Code/data/2023-03-16/_Bandlock_Udp_B1_B3_B7_B8_RM500Q/qc00/#12/data/diag_log_qc00_2023-03-16_20-49-00_rrc.csv True\n",
      "/Users/jackbedford/Desktop/MOXA/Code/data/2023-03-16/_Bandlock_Udp_B1_B3_B7_B8_RM500Q/qc02/#12/data/diag_log_qc02_2023-03-16_20-49-00_rrc.csv True\n",
      "/Users/jackbedford/Desktop/MOXA/Code/data/2023-03-16/_Bandlock_Udp_B1_B3_B7_B8_RM500Q/qc03/#12/data/diag_log_qc03_2023-03-16_20-49-00_rrc.csv True\n",
      "/Users/jackbedford/Desktop/MOXA/Code/data/2023-03-16/_Bandlock_Udp_B1_B3_B7_B8_RM500Q/qc00/#13/data/diag_log_qc00_2023-03-16_20-57-57_rrc.csv True\n",
      "/Users/jackbedford/Desktop/MOXA/Code/data/2023-03-16/_Bandlock_Udp_B1_B3_B7_B8_RM500Q/qc02/#13/data/diag_log_qc02_2023-03-16_20-57-57_rrc.csv True\n",
      "/Users/jackbedford/Desktop/MOXA/Code/data/2023-03-16/_Bandlock_Udp_B1_B3_B7_B8_RM500Q/qc03/#13/data/diag_log_qc03_2023-03-16_20-57-57_rrc.csv True\n",
      "/Users/jackbedford/Desktop/MOXA/Code/data/2023-03-16/_Bandlock_Udp_B1_B3_B7_B8_RM500Q/qc00/#14/data/diag_log_qc00_2023-03-16_21-08-23_rrc.csv True\n",
      "/Users/jackbedford/Desktop/MOXA/Code/data/2023-03-16/_Bandlock_Udp_B1_B3_B7_B8_RM500Q/qc02/#14/data/diag_log_qc02_2023-03-16_21-08-23_rrc.csv True\n",
      "/Users/jackbedford/Desktop/MOXA/Code/data/2023-03-16/_Bandlock_Udp_B1_B3_B7_B8_RM500Q/qc03/#14/data/diag_log_qc03_2023-03-16_21-08-23_rrc.csv True\n",
      "/Users/jackbedford/Desktop/MOXA/Code/data/2023-03-16/_Bandlock_Udp_B1_B3_B7_B8_RM500Q/qc00/#15/data/diag_log_qc00_2023-03-16_21-18-34_rrc.csv True\n",
      "/Users/jackbedford/Desktop/MOXA/Code/data/2023-03-16/_Bandlock_Udp_B1_B3_B7_B8_RM500Q/qc02/#15/data/diag_log_qc02_2023-03-16_21-18-34_rrc.csv True\n",
      "/Users/jackbedford/Desktop/MOXA/Code/data/2023-03-16/_Bandlock_Udp_B1_B3_B7_B8_RM500Q/qc03/#15/data/diag_log_qc03_2023-03-16_21-18-34_rrc.csv True\n",
      "/Users/jackbedford/Desktop/MOXA/Code/data/2023-03-16/_Bandlock_Udp_B1_B3_B7_B8_RM500Q/qc00/#16/data/diag_log_qc00_2023-03-16_21-28-58_rrc.csv True\n",
      "/Users/jackbedford/Desktop/MOXA/Code/data/2023-03-16/_Bandlock_Udp_B1_B3_B7_B8_RM500Q/qc02/#16/data/diag_log_qc02_2023-03-16_21-28-58_rrc.csv True\n",
      "/Users/jackbedford/Desktop/MOXA/Code/data/2023-03-16/_Bandlock_Udp_B1_B3_B7_B8_RM500Q/qc03/#16/data/diag_log_qc03_2023-03-16_21-28-58_rrc.csv True\n",
      "20\n"
     ]
    }
   ],
   "source": [
    "from handover import mi_parse_ho, get_ho_interval, label_ho_info\n",
    "\n",
    "i = -1\n",
    "dfs_ho = []\n",
    "for date, traces in dates.items():\n",
    "    for trace in traces:\n",
    "        i += 1\n",
    "        dfs_ho.append([])\n",
    "        for j, (dev, schm) in enumerate(zip(devices, schemes)):\n",
    "            path = os.path.join(datadir, date, exp, dev, trace, 'data')\n",
    "            data = os.path.join(path, [s for s in os.listdir(path) if s.startswith('diag_log_') and s.endswith('_rrc.csv')][0])\n",
    "            print(data, os.path.isfile(data))\n",
    "            df = pd.read_csv(data)\n",
    "            df, _, _ = mi_parse_ho(df, tz=8)\n",
    "            dfs_ho[i].append(df.copy())\n",
    "print(len(dfs_ho))"
   ]
  },
  {
   "cell_type": "code",
   "execution_count": null,
   "metadata": {},
   "outputs": [],
   "source": []
  }
 ],
 "metadata": {
  "kernelspec": {
   "display_name": "moxa",
   "language": "python",
   "name": "python3"
  },
  "language_info": {
   "codemirror_mode": {
    "name": "ipython",
    "version": 3
   },
   "file_extension": ".py",
   "mimetype": "text/x-python",
   "name": "python",
   "nbconvert_exporter": "python",
   "pygments_lexer": "ipython3",
   "version": "3.8.16"
  },
  "orig_nbformat": 4
 },
 "nbformat": 4,
 "nbformat_minor": 2
}
