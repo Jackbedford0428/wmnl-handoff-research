{
 "cells": [
  {
   "cell_type": "code",
   "execution_count": 35,
   "metadata": {},
   "outputs": [
    {
     "name": "stdout",
     "output_type": "stream",
     "text": [
      "2023-03-16 19:32:47\n"
     ]
    },
    {
     "name": "stderr",
     "output_type": "stream",
     "text": [
      "editcap: The file \"server_pcap_BL_qc00_3270_3271_2023-03-16_19-23-46_sock.pcap\" appears to have been cut short in the middle of a packet.\n"
     ]
    }
   ],
   "source": [
    "import subprocess\n",
    "import os\n",
    "import sys\n",
    "import time\n",
    "import argparse\n",
    "import traceback\n",
    "from operator import sub\n",
    "from pprint import pprint\n",
    "from pytictoc import TicToc\n",
    "\n",
    "before = \"server_pcap_BL_qc00_3270_3271_2023-03-16_19-23-46_sock.pcap\"\n",
    "after = \"server_pcap_BL_qc00_3270_3271_2023-03-16_19-32-47_sock.pcap\"\n",
    "ss = after[30:49].split('_')\n",
    "ss = ' '.join([ss[0], ':'.join(ss[1].split('-'))])\n",
    "print(ss)\n",
    "s = f'editcap -F libpcap -B \"{ss}\" {before} output.pcap'\n",
    "subprocess.Popen(s, shell=True)\n",
    "time.sleep(10)\n",
    "\n",
    "# ref. https://stackoverflow.com/questions/19952991/filter-a-pcap-dump-file-for-a-specific-time-range"
   ]
  },
  {
   "cell_type": "code",
   "execution_count": 36,
   "metadata": {},
   "outputs": [
    {
     "name": "stdout",
     "output_type": "stream",
     "text": [
      "2023-03-16 19:32:47\n",
      "editcap -F libpcap -B \"2023-03-16 19:32:47\" /home/wmnlab/D/database/2023-03-16/_Bandlock_Udp_B1_B3_B7_B8_RM500Q/qc00/#01/raw/server_pcap_BL_qc00_3270_3271_2023-03-16_19-23-46_sock.pcap /home/wmnlab/D/database/2023-03-16/_Bandlock_Udp_B1_B3_B7_B8_RM500Q/qc00/#01/raw/server_pcap_BL_qc00_3270_3271_2023-03-16_19-23-46_sock.pcap_new.pcap\n"
     ]
    },
    {
     "name": "stderr",
     "output_type": "stream",
     "text": [
      "editcap: The file \"/home/wmnlab/D/database/2023-03-16/_Bandlock_Udp_B1_B3_B7_B8_RM500Q/qc00/#01/raw/server_pcap_BL_qc00_3270_3271_2023-03-16_19-23-46_sock.pcap\" appears to be damaged or corrupt.\n",
      "(pcap: File has 289407040-byte packet, bigger than maximum of 262144)\n"
     ]
    },
    {
     "name": "stdout",
     "output_type": "stream",
     "text": [
      "2023-03-16 19:38:51\n",
      "editcap -F libpcap -B \"2023-03-16 19:38:51\" /home/wmnlab/D/database/2023-03-16/_Bandlock_Udp_B1_B3_B7_B8_RM500Q/qc00/#02/raw/server_pcap_BL_qc00_3270_3271_2023-03-16_19-32-47_sock.pcap /home/wmnlab/D/database/2023-03-16/_Bandlock_Udp_B1_B3_B7_B8_RM500Q/qc00/#02/raw/server_pcap_BL_qc00_3270_3271_2023-03-16_19-32-47_sock.pcap_new.pcap\n"
     ]
    },
    {
     "name": "stderr",
     "output_type": "stream",
     "text": [
      "editcap: The file \"/home/wmnlab/D/database/2023-03-16/_Bandlock_Udp_B1_B3_B7_B8_RM500Q/qc00/#02/raw/server_pcap_BL_qc00_3270_3271_2023-03-16_19-32-47_sock.pcap\" appears to be damaged or corrupt.\n",
      "(pcap: File has 3956360945-byte packet, bigger than maximum of 262144)\n"
     ]
    },
    {
     "name": "stdout",
     "output_type": "stream",
     "text": [
      "2023-03-16 19:47:46\n",
      "editcap -F libpcap -B \"2023-03-16 19:47:46\" /home/wmnlab/D/database/2023-03-16/_Bandlock_Udp_B1_B3_B7_B8_RM500Q/qc00/#03/raw/server_pcap_BL_qc00_3270_3271_2023-03-16_19-38-51_sock.pcap /home/wmnlab/D/database/2023-03-16/_Bandlock_Udp_B1_B3_B7_B8_RM500Q/qc00/#03/raw/server_pcap_BL_qc00_3270_3271_2023-03-16_19-38-51_sock.pcap_new.pcap\n"
     ]
    },
    {
     "name": "stderr",
     "output_type": "stream",
     "text": [
      "editcap: The file \"/home/wmnlab/D/database/2023-03-16/_Bandlock_Udp_B1_B3_B7_B8_RM500Q/qc00/#03/raw/server_pcap_BL_qc00_3270_3271_2023-03-16_19-38-51_sock.pcap\" appears to be damaged or corrupt.\n",
      "(pcap: File has 3401108043-byte packet, bigger than maximum of 262144)\n"
     ]
    },
    {
     "name": "stdout",
     "output_type": "stream",
     "text": [
      "2023-03-16 19:55:46\n",
      "editcap -F libpcap -B \"2023-03-16 19:55:46\" /home/wmnlab/D/database/2023-03-16/_Bandlock_Udp_B1_B3_B7_B8_RM500Q/qc00/#04/raw/server_pcap_BL_qc00_3270_3271_2023-03-16_19-47-46_sock.pcap /home/wmnlab/D/database/2023-03-16/_Bandlock_Udp_B1_B3_B7_B8_RM500Q/qc00/#04/raw/server_pcap_BL_qc00_3270_3271_2023-03-16_19-47-46_sock.pcap_new.pcap\n"
     ]
    },
    {
     "name": "stderr",
     "output_type": "stream",
     "text": [
      "editcap: The file \"/home/wmnlab/D/database/2023-03-16/_Bandlock_Udp_B1_B3_B7_B8_RM500Q/qc00/#04/raw/server_pcap_BL_qc00_3270_3271_2023-03-16_19-47-46_sock.pcap\" appears to be damaged or corrupt.\n",
      "(pcap: File has 3200935661-byte packet, bigger than maximum of 262144)\n"
     ]
    },
    {
     "name": "stdout",
     "output_type": "stream",
     "text": [
      "2023-03-16 20:03:47\n",
      "editcap -F libpcap -B \"2023-03-16 20:03:47\" /home/wmnlab/D/database/2023-03-16/_Bandlock_Udp_B1_B3_B7_B8_RM500Q/qc00/#05/raw/server_pcap_BL_qc00_3270_3271_2023-03-16_19-55-46_sock.pcap /home/wmnlab/D/database/2023-03-16/_Bandlock_Udp_B1_B3_B7_B8_RM500Q/qc00/#05/raw/server_pcap_BL_qc00_3270_3271_2023-03-16_19-55-46_sock.pcap_new.pcap\n"
     ]
    },
    {
     "name": "stderr",
     "output_type": "stream",
     "text": [
      "editcap: The file \"/home/wmnlab/D/database/2023-03-16/_Bandlock_Udp_B1_B3_B7_B8_RM500Q/qc00/#05/raw/server_pcap_BL_qc00_3270_3271_2023-03-16_19-55-46_sock.pcap\" appears to be damaged or corrupt.\n",
      "(pcap: File has 875960497-byte packet, bigger than maximum of 262144)\n"
     ]
    },
    {
     "name": "stdout",
     "output_type": "stream",
     "text": [
      "2023-03-16 20:09:34\n",
      "editcap -F libpcap -B \"2023-03-16 20:09:34\" /home/wmnlab/D/database/2023-03-16/_Bandlock_Udp_B1_B3_B7_B8_RM500Q/qc00/#06/raw/server_pcap_BL_qc00_3270_3271_2023-03-16_20-03-47_sock.pcap /home/wmnlab/D/database/2023-03-16/_Bandlock_Udp_B1_B3_B7_B8_RM500Q/qc00/#06/raw/server_pcap_BL_qc00_3270_3271_2023-03-16_20-03-47_sock.pcap_new.pcap\n"
     ]
    },
    {
     "name": "stderr",
     "output_type": "stream",
     "text": [
      "editcap: The file \"/home/wmnlab/D/database/2023-03-16/_Bandlock_Udp_B1_B3_B7_B8_RM500Q/qc00/#06/raw/server_pcap_BL_qc00_3270_3271_2023-03-16_20-03-47_sock.pcap\" appears to be damaged or corrupt.\n",
      "(pcap: File has 563750996-byte packet, bigger than maximum of 262144)\n"
     ]
    },
    {
     "name": "stdout",
     "output_type": "stream",
     "text": [
      "2023-03-16 20:18:07\n",
      "editcap -F libpcap -B \"2023-03-16 20:18:07\" /home/wmnlab/D/database/2023-03-16/_Bandlock_Udp_B1_B3_B7_B8_RM500Q/qc00/#07/raw/server_pcap_BL_qc00_3270_3271_2023-03-16_20-09-34_sock.pcap /home/wmnlab/D/database/2023-03-16/_Bandlock_Udp_B1_B3_B7_B8_RM500Q/qc00/#07/raw/server_pcap_BL_qc00_3270_3271_2023-03-16_20-09-34_sock.pcap_new.pcap\n"
     ]
    },
    {
     "name": "stderr",
     "output_type": "stream",
     "text": [
      "editcap: The file \"/home/wmnlab/D/database/2023-03-16/_Bandlock_Udp_B1_B3_B7_B8_RM500Q/qc00/#07/raw/server_pcap_BL_qc00_3270_3271_2023-03-16_20-09-34_sock.pcap\" appears to have been cut short in the middle of a packet.\n"
     ]
    },
    {
     "name": "stdout",
     "output_type": "stream",
     "text": [
      "2023-03-16 20:26:44\n",
      "editcap -F libpcap -B \"2023-03-16 20:26:44\" /home/wmnlab/D/database/2023-03-16/_Bandlock_Udp_B1_B3_B7_B8_RM500Q/qc00/#08/raw/server_pcap_BL_qc00_3270_3271_2023-03-16_20-18-07_sock.pcap /home/wmnlab/D/database/2023-03-16/_Bandlock_Udp_B1_B3_B7_B8_RM500Q/qc00/#08/raw/server_pcap_BL_qc00_3270_3271_2023-03-16_20-18-07_sock.pcap_new.pcap\n"
     ]
    },
    {
     "name": "stderr",
     "output_type": "stream",
     "text": [
      "editcap: The file \"/home/wmnlab/D/database/2023-03-16/_Bandlock_Udp_B1_B3_B7_B8_RM500Q/qc00/#08/raw/server_pcap_BL_qc00_3270_3271_2023-03-16_20-18-07_sock.pcap\" appears to have been cut short in the middle of a packet.\n"
     ]
    },
    {
     "name": "stdout",
     "output_type": "stream",
     "text": [
      "2023-03-16 20:33:33\n",
      "editcap -F libpcap -B \"2023-03-16 20:33:33\" /home/wmnlab/D/database/2023-03-16/_Bandlock_Udp_B1_B3_B7_B8_RM500Q/qc00/#09/raw/server_pcap_BL_qc00_3270_3271_2023-03-16_20-26-44_sock.pcap /home/wmnlab/D/database/2023-03-16/_Bandlock_Udp_B1_B3_B7_B8_RM500Q/qc00/#09/raw/server_pcap_BL_qc00_3270_3271_2023-03-16_20-26-44_sock.pcap_new.pcap\n"
     ]
    },
    {
     "name": "stderr",
     "output_type": "stream",
     "text": [
      "editcap: The file \"/home/wmnlab/D/database/2023-03-16/_Bandlock_Udp_B1_B3_B7_B8_RM500Q/qc00/#09/raw/server_pcap_BL_qc00_3270_3271_2023-03-16_20-26-44_sock.pcap\" appears to have been cut short in the middle of a packet.\n"
     ]
    },
    {
     "name": "stdout",
     "output_type": "stream",
     "text": [
      "2023-03-16 20:42:30\n",
      "editcap -F libpcap -B \"2023-03-16 20:42:30\" /home/wmnlab/D/database/2023-03-16/_Bandlock_Udp_B1_B3_B7_B8_RM500Q/qc00/#10/raw/server_pcap_BL_qc00_3270_3271_2023-03-16_20-33-33_sock.pcap /home/wmnlab/D/database/2023-03-16/_Bandlock_Udp_B1_B3_B7_B8_RM500Q/qc00/#10/raw/server_pcap_BL_qc00_3270_3271_2023-03-16_20-33-33_sock.pcap_new.pcap\n"
     ]
    },
    {
     "name": "stderr",
     "output_type": "stream",
     "text": [
      "editcap: The file \"/home/wmnlab/D/database/2023-03-16/_Bandlock_Udp_B1_B3_B7_B8_RM500Q/qc00/#10/raw/server_pcap_BL_qc00_3270_3271_2023-03-16_20-33-33_sock.pcap\" appears to have been cut short in the middle of a packet.\n"
     ]
    },
    {
     "name": "stdout",
     "output_type": "stream",
     "text": [
      "2023-03-16 20:49:06\n",
      "editcap -F libpcap -B \"2023-03-16 20:49:06\" /home/wmnlab/D/database/2023-03-16/_Bandlock_Udp_B1_B3_B7_B8_RM500Q/qc00/#11/raw/server_pcap_BL_qc00_3270_3271_2023-03-16_20-42-30_sock.pcap /home/wmnlab/D/database/2023-03-16/_Bandlock_Udp_B1_B3_B7_B8_RM500Q/qc00/#11/raw/server_pcap_BL_qc00_3270_3271_2023-03-16_20-42-30_sock.pcap_new.pcap\n"
     ]
    },
    {
     "name": "stderr",
     "output_type": "stream",
     "text": [
      "editcap: The file \"/home/wmnlab/D/database/2023-03-16/_Bandlock_Udp_B1_B3_B7_B8_RM500Q/qc00/#11/raw/server_pcap_BL_qc00_3270_3271_2023-03-16_20-42-30_sock.pcap\" appears to have been cut short in the middle of a packet.\n"
     ]
    },
    {
     "name": "stdout",
     "output_type": "stream",
     "text": [
      "2023-03-16 20:58:59\n",
      "editcap -F libpcap -B \"2023-03-16 20:58:59\" /home/wmnlab/D/database/2023-03-16/_Bandlock_Udp_B1_B3_B7_B8_RM500Q/qc00/#12/raw/server_pcap_BL_qc00_3270_3271_2023-03-16_20-49-06_sock.pcap /home/wmnlab/D/database/2023-03-16/_Bandlock_Udp_B1_B3_B7_B8_RM500Q/qc00/#12/raw/server_pcap_BL_qc00_3270_3271_2023-03-16_20-49-06_sock.pcap_new.pcap\n"
     ]
    },
    {
     "name": "stderr",
     "output_type": "stream",
     "text": [
      "editcap: The file \"/home/wmnlab/D/database/2023-03-16/_Bandlock_Udp_B1_B3_B7_B8_RM500Q/qc00/#12/raw/server_pcap_BL_qc00_3270_3271_2023-03-16_20-49-06_sock.pcap\" appears to have been cut short in the middle of a packet.\n"
     ]
    },
    {
     "name": "stdout",
     "output_type": "stream",
     "text": [
      "2023-03-16 19:32:47\n",
      "editcap -F libpcap -B \"2023-03-16 19:32:47\" /home/wmnlab/D/database/2023-03-16/_Bandlock_Udp_B1_B3_B7_B8_RM500Q/qc01/#01/raw/server_pcap_BL_qc01_3272_3273_2023-03-16_19-23-46_sock.pcap /home/wmnlab/D/database/2023-03-16/_Bandlock_Udp_B1_B3_B7_B8_RM500Q/qc01/#01/raw/server_pcap_BL_qc01_3272_3273_2023-03-16_19-23-46_sock.pcap_new.pcap\n",
      "2023-03-16 19:38:51\n",
      "editcap -F libpcap -B \"2023-03-16 19:38:51\" /home/wmnlab/D/database/2023-03-16/_Bandlock_Udp_B1_B3_B7_B8_RM500Q/qc01/#02/raw/server_pcap_BL_qc01_3272_3273_2023-03-16_19-32-47_sock.pcap /home/wmnlab/D/database/2023-03-16/_Bandlock_Udp_B1_B3_B7_B8_RM500Q/qc01/#02/raw/server_pcap_BL_qc01_3272_3273_2023-03-16_19-32-47_sock.pcap_new.pcap\n"
     ]
    },
    {
     "name": "stderr",
     "output_type": "stream",
     "text": [
      "editcap: The file \"/home/wmnlab/D/database/2023-03-16/_Bandlock_Udp_B1_B3_B7_B8_RM500Q/qc01/#01/raw/server_pcap_BL_qc01_3272_3273_2023-03-16_19-23-46_sock.pcap\" appears to have been cut short in the middle of a packet.\n"
     ]
    },
    {
     "name": "stdout",
     "output_type": "stream",
     "text": [
      "2023-03-16 19:47:46\n",
      "editcap -F libpcap -B \"2023-03-16 19:47:46\" /home/wmnlab/D/database/2023-03-16/_Bandlock_Udp_B1_B3_B7_B8_RM500Q/qc01/#03/raw/server_pcap_BL_qc01_3272_3273_2023-03-16_19-38-51_sock.pcap /home/wmnlab/D/database/2023-03-16/_Bandlock_Udp_B1_B3_B7_B8_RM500Q/qc01/#03/raw/server_pcap_BL_qc01_3272_3273_2023-03-16_19-38-51_sock.pcap_new.pcap\n",
      "2023-03-16 19:55:46\n",
      "editcap -F libpcap -B \"2023-03-16 19:55:46\" /home/wmnlab/D/database/2023-03-16/_Bandlock_Udp_B1_B3_B7_B8_RM500Q/qc01/#04/raw/server_pcap_BL_qc01_3272_3273_2023-03-16_19-47-46_sock.pcap /home/wmnlab/D/database/2023-03-16/_Bandlock_Udp_B1_B3_B7_B8_RM500Q/qc01/#04/raw/server_pcap_BL_qc01_3272_3273_2023-03-16_19-47-46_sock.pcap_new.pcap\n"
     ]
    },
    {
     "name": "stderr",
     "output_type": "stream",
     "text": [
      "editcap: The file \"/home/wmnlab/D/database/2023-03-16/_Bandlock_Udp_B1_B3_B7_B8_RM500Q/qc01/#02/raw/server_pcap_BL_qc01_3272_3273_2023-03-16_19-32-47_sock.pcap\" appears to have been cut short in the middle of a packet.\n"
     ]
    },
    {
     "name": "stdout",
     "output_type": "stream",
     "text": [
      "2023-03-16 20:03:47\n",
      "editcap -F libpcap -B \"2023-03-16 20:03:47\" /home/wmnlab/D/database/2023-03-16/_Bandlock_Udp_B1_B3_B7_B8_RM500Q/qc01/#05/raw/server_pcap_BL_qc01_3272_3273_2023-03-16_19-55-46_sock.pcap /home/wmnlab/D/database/2023-03-16/_Bandlock_Udp_B1_B3_B7_B8_RM500Q/qc01/#05/raw/server_pcap_BL_qc01_3272_3273_2023-03-16_19-55-46_sock.pcap_new.pcap\n"
     ]
    },
    {
     "name": "stderr",
     "output_type": "stream",
     "text": [
      "editcap: The file \"/home/wmnlab/D/database/2023-03-16/_Bandlock_Udp_B1_B3_B7_B8_RM500Q/qc01/#03/raw/server_pcap_BL_qc01_3272_3273_2023-03-16_19-38-51_sock.pcap\" appears to have been cut short in the middle of a packet.\n"
     ]
    },
    {
     "name": "stdout",
     "output_type": "stream",
     "text": [
      "2023-03-16 20:09:34\n",
      "editcap -F libpcap -B \"2023-03-16 20:09:34\" /home/wmnlab/D/database/2023-03-16/_Bandlock_Udp_B1_B3_B7_B8_RM500Q/qc01/#06/raw/server_pcap_BL_qc01_3272_3273_2023-03-16_20-03-47_sock.pcap /home/wmnlab/D/database/2023-03-16/_Bandlock_Udp_B1_B3_B7_B8_RM500Q/qc01/#06/raw/server_pcap_BL_qc01_3272_3273_2023-03-16_20-03-47_sock.pcap_new.pcap\n"
     ]
    },
    {
     "name": "stderr",
     "output_type": "stream",
     "text": [
      "editcap: The file \"/home/wmnlab/D/database/2023-03-16/_Bandlock_Udp_B1_B3_B7_B8_RM500Q/qc01/#04/raw/server_pcap_BL_qc01_3272_3273_2023-03-16_19-47-46_sock.pcap\" appears to have been cut short in the middle of a packet.\n"
     ]
    },
    {
     "name": "stdout",
     "output_type": "stream",
     "text": [
      "2023-03-16 20:18:07\n",
      "editcap -F libpcap -B \"2023-03-16 20:18:07\" /home/wmnlab/D/database/2023-03-16/_Bandlock_Udp_B1_B3_B7_B8_RM500Q/qc01/#07/raw/server_pcap_BL_qc01_3272_3273_2023-03-16_20-09-34_sock.pcap /home/wmnlab/D/database/2023-03-16/_Bandlock_Udp_B1_B3_B7_B8_RM500Q/qc01/#07/raw/server_pcap_BL_qc01_3272_3273_2023-03-16_20-09-34_sock.pcap_new.pcap\n"
     ]
    },
    {
     "name": "stderr",
     "output_type": "stream",
     "text": [
      "editcap: The file \"/home/wmnlab/D/database/2023-03-16/_Bandlock_Udp_B1_B3_B7_B8_RM500Q/qc01/#05/raw/server_pcap_BL_qc01_3272_3273_2023-03-16_19-55-46_sock.pcap\" appears to have been cut short in the middle of a packet.\n"
     ]
    },
    {
     "name": "stdout",
     "output_type": "stream",
     "text": [
      "2023-03-16 20:26:44\n",
      "editcap -F libpcap -B \"2023-03-16 20:26:44\" /home/wmnlab/D/database/2023-03-16/_Bandlock_Udp_B1_B3_B7_B8_RM500Q/qc01/#08/raw/server_pcap_BL_qc01_3272_3273_2023-03-16_20-18-07_sock.pcap /home/wmnlab/D/database/2023-03-16/_Bandlock_Udp_B1_B3_B7_B8_RM500Q/qc01/#08/raw/server_pcap_BL_qc01_3272_3273_2023-03-16_20-18-07_sock.pcap_new.pcap\n"
     ]
    },
    {
     "name": "stderr",
     "output_type": "stream",
     "text": [
      "editcap: The file \"/home/wmnlab/D/database/2023-03-16/_Bandlock_Udp_B1_B3_B7_B8_RM500Q/qc01/#06/raw/server_pcap_BL_qc01_3272_3273_2023-03-16_20-03-47_sock.pcap\" appears to have been cut short in the middle of a packet.\n",
      "editcap: The file \"/home/wmnlab/D/database/2023-03-16/_Bandlock_Udp_B1_B3_B7_B8_RM500Q/qc01/#07/raw/server_pcap_BL_qc01_3272_3273_2023-03-16_20-09-34_sock.pcap\" appears to have been cut short in the middle of a packet.\n",
      "editcap: The file \"/home/wmnlab/D/database/2023-03-16/_Bandlock_Udp_B1_B3_B7_B8_RM500Q/qc01/#08/raw/server_pcap_BL_qc01_3272_3273_2023-03-16_20-18-07_sock.pcap\" appears to have been cut short in the middle of a packet.\n"
     ]
    },
    {
     "name": "stdout",
     "output_type": "stream",
     "text": [
      "2023-03-16 20:33:33\n",
      "editcap -F libpcap -B \"2023-03-16 20:33:33\" /home/wmnlab/D/database/2023-03-16/_Bandlock_Udp_B1_B3_B7_B8_RM500Q/qc01/#09/raw/server_pcap_BL_qc01_3272_3273_2023-03-16_20-26-44_sock.pcap /home/wmnlab/D/database/2023-03-16/_Bandlock_Udp_B1_B3_B7_B8_RM500Q/qc01/#09/raw/server_pcap_BL_qc01_3272_3273_2023-03-16_20-26-44_sock.pcap_new.pcap\n"
     ]
    },
    {
     "name": "stderr",
     "output_type": "stream",
     "text": [
      "editcap: The file \"/home/wmnlab/D/database/2023-03-16/_Bandlock_Udp_B1_B3_B7_B8_RM500Q/qc01/#09/raw/server_pcap_BL_qc01_3272_3273_2023-03-16_20-26-44_sock.pcap\" appears to have been cut short in the middle of a packet.\n"
     ]
    },
    {
     "name": "stdout",
     "output_type": "stream",
     "text": [
      "2023-03-16 20:42:30\n",
      "editcap -F libpcap -B \"2023-03-16 20:42:30\" /home/wmnlab/D/database/2023-03-16/_Bandlock_Udp_B1_B3_B7_B8_RM500Q/qc01/#10/raw/server_pcap_BL_qc01_3272_3273_2023-03-16_20-33-33_sock.pcap /home/wmnlab/D/database/2023-03-16/_Bandlock_Udp_B1_B3_B7_B8_RM500Q/qc01/#10/raw/server_pcap_BL_qc01_3272_3273_2023-03-16_20-33-33_sock.pcap_new.pcap\n"
     ]
    },
    {
     "name": "stderr",
     "output_type": "stream",
     "text": [
      "editcap: The file \"/home/wmnlab/D/database/2023-03-16/_Bandlock_Udp_B1_B3_B7_B8_RM500Q/qc01/#10/raw/server_pcap_BL_qc01_3272_3273_2023-03-16_20-33-33_sock.pcap\" appears to have been cut short in the middle of a packet.\n"
     ]
    },
    {
     "name": "stdout",
     "output_type": "stream",
     "text": [
      "2023-03-16 20:49:06\n",
      "editcap -F libpcap -B \"2023-03-16 20:49:06\" /home/wmnlab/D/database/2023-03-16/_Bandlock_Udp_B1_B3_B7_B8_RM500Q/qc01/#11/raw/server_pcap_BL_qc01_3272_3273_2023-03-16_20-42-30_sock.pcap /home/wmnlab/D/database/2023-03-16/_Bandlock_Udp_B1_B3_B7_B8_RM500Q/qc01/#11/raw/server_pcap_BL_qc01_3272_3273_2023-03-16_20-42-30_sock.pcap_new.pcap\n"
     ]
    },
    {
     "name": "stderr",
     "output_type": "stream",
     "text": [
      "editcap: The file \"/home/wmnlab/D/database/2023-03-16/_Bandlock_Udp_B1_B3_B7_B8_RM500Q/qc01/#11/raw/server_pcap_BL_qc01_3272_3273_2023-03-16_20-42-30_sock.pcap\" appears to have been cut short in the middle of a packet.\n"
     ]
    },
    {
     "name": "stdout",
     "output_type": "stream",
     "text": [
      "2023-03-16 20:58:59\n",
      "editcap -F libpcap -B \"2023-03-16 20:58:59\" /home/wmnlab/D/database/2023-03-16/_Bandlock_Udp_B1_B3_B7_B8_RM500Q/qc01/#12/raw/server_pcap_BL_qc01_3272_3273_2023-03-16_20-49-06_sock.pcap /home/wmnlab/D/database/2023-03-16/_Bandlock_Udp_B1_B3_B7_B8_RM500Q/qc01/#12/raw/server_pcap_BL_qc01_3272_3273_2023-03-16_20-49-06_sock.pcap_new.pcap\n"
     ]
    },
    {
     "name": "stderr",
     "output_type": "stream",
     "text": [
      "editcap: The file \"/home/wmnlab/D/database/2023-03-16/_Bandlock_Udp_B1_B3_B7_B8_RM500Q/qc01/#12/raw/server_pcap_BL_qc01_3272_3273_2023-03-16_20-49-06_sock.pcap\" appears to have been cut short in the middle of a packet.\n"
     ]
    },
    {
     "name": "stdout",
     "output_type": "stream",
     "text": [
      "2023-03-16 19:32:47\n",
      "editcap -F libpcap -B \"2023-03-16 19:32:47\" /home/wmnlab/D/database/2023-03-16/_Bandlock_Udp_B1_B3_B7_B8_RM500Q/qc02/#01/raw/server_pcap_BL_qc02_3274_3275_2023-03-16_19-23-46_sock.pcap /home/wmnlab/D/database/2023-03-16/_Bandlock_Udp_B1_B3_B7_B8_RM500Q/qc02/#01/raw/server_pcap_BL_qc02_3274_3275_2023-03-16_19-23-46_sock.pcap_new.pcap\n",
      "2023-03-16 19:38:51\n",
      "editcap -F libpcap -B \"2023-03-16 19:38:51\" /home/wmnlab/D/database/2023-03-16/_Bandlock_Udp_B1_B3_B7_B8_RM500Q/qc02/#02/raw/server_pcap_BL_qc02_3274_3275_2023-03-16_19-32-47_sock.pcap /home/wmnlab/D/database/2023-03-16/_Bandlock_Udp_B1_B3_B7_B8_RM500Q/qc02/#02/raw/server_pcap_BL_qc02_3274_3275_2023-03-16_19-32-47_sock.pcap_new.pcap\n"
     ]
    },
    {
     "name": "stderr",
     "output_type": "stream",
     "text": [
      "editcap: The file \"/home/wmnlab/D/database/2023-03-16/_Bandlock_Udp_B1_B3_B7_B8_RM500Q/qc02/#01/raw/server_pcap_BL_qc02_3274_3275_2023-03-16_19-23-46_sock.pcap\" appears to have been cut short in the middle of a packet.\n"
     ]
    },
    {
     "name": "stdout",
     "output_type": "stream",
     "text": [
      "2023-03-16 19:47:46\n",
      "editcap -F libpcap -B \"2023-03-16 19:47:46\" /home/wmnlab/D/database/2023-03-16/_Bandlock_Udp_B1_B3_B7_B8_RM500Q/qc02/#03/raw/server_pcap_BL_qc02_3274_3275_2023-03-16_19-38-51_sock.pcap /home/wmnlab/D/database/2023-03-16/_Bandlock_Udp_B1_B3_B7_B8_RM500Q/qc02/#03/raw/server_pcap_BL_qc02_3274_3275_2023-03-16_19-38-51_sock.pcap_new.pcap\n",
      "2023-03-16 19:55:46\n",
      "editcap -F libpcap -B \"2023-03-16 19:55:46\" /home/wmnlab/D/database/2023-03-16/_Bandlock_Udp_B1_B3_B7_B8_RM500Q/qc02/#04/raw/server_pcap_BL_qc02_3274_3275_2023-03-16_19-47-46_sock.pcap /home/wmnlab/D/database/2023-03-16/_Bandlock_Udp_B1_B3_B7_B8_RM500Q/qc02/#04/raw/server_pcap_BL_qc02_3274_3275_2023-03-16_19-47-46_sock.pcap_new.pcap\n"
     ]
    },
    {
     "name": "stderr",
     "output_type": "stream",
     "text": [
      "editcap: The file \"/home/wmnlab/D/database/2023-03-16/_Bandlock_Udp_B1_B3_B7_B8_RM500Q/qc02/#02/raw/server_pcap_BL_qc02_3274_3275_2023-03-16_19-32-47_sock.pcap\" appears to have been cut short in the middle of a packet.\n"
     ]
    },
    {
     "name": "stdout",
     "output_type": "stream",
     "text": [
      "2023-03-16 20:03:47\n",
      "editcap -F libpcap -B \"2023-03-16 20:03:47\" /home/wmnlab/D/database/2023-03-16/_Bandlock_Udp_B1_B3_B7_B8_RM500Q/qc02/#05/raw/server_pcap_BL_qc02_3274_3275_2023-03-16_19-55-46_sock.pcap /home/wmnlab/D/database/2023-03-16/_Bandlock_Udp_B1_B3_B7_B8_RM500Q/qc02/#05/raw/server_pcap_BL_qc02_3274_3275_2023-03-16_19-55-46_sock.pcap_new.pcap\n"
     ]
    },
    {
     "name": "stderr",
     "output_type": "stream",
     "text": [
      "editcap: The file \"/home/wmnlab/D/database/2023-03-16/_Bandlock_Udp_B1_B3_B7_B8_RM500Q/qc02/#03/raw/server_pcap_BL_qc02_3274_3275_2023-03-16_19-38-51_sock.pcap\" appears to have been cut short in the middle of a packet.\n"
     ]
    },
    {
     "name": "stdout",
     "output_type": "stream",
     "text": [
      "2023-03-16 20:09:34\n",
      "editcap -F libpcap -B \"2023-03-16 20:09:34\" /home/wmnlab/D/database/2023-03-16/_Bandlock_Udp_B1_B3_B7_B8_RM500Q/qc02/#06/raw/server_pcap_BL_qc02_3274_3275_2023-03-16_20-03-47_sock.pcap /home/wmnlab/D/database/2023-03-16/_Bandlock_Udp_B1_B3_B7_B8_RM500Q/qc02/#06/raw/server_pcap_BL_qc02_3274_3275_2023-03-16_20-03-47_sock.pcap_new.pcap\n"
     ]
    },
    {
     "name": "stderr",
     "output_type": "stream",
     "text": [
      "editcap: The file \"/home/wmnlab/D/database/2023-03-16/_Bandlock_Udp_B1_B3_B7_B8_RM500Q/qc02/#04/raw/server_pcap_BL_qc02_3274_3275_2023-03-16_19-47-46_sock.pcap\" appears to have been cut short in the middle of a packet.\n"
     ]
    },
    {
     "name": "stdout",
     "output_type": "stream",
     "text": [
      "2023-03-16 20:18:07\n",
      "editcap -F libpcap -B \"2023-03-16 20:18:07\" /home/wmnlab/D/database/2023-03-16/_Bandlock_Udp_B1_B3_B7_B8_RM500Q/qc02/#07/raw/server_pcap_BL_qc02_3274_3275_2023-03-16_20-09-34_sock.pcap /home/wmnlab/D/database/2023-03-16/_Bandlock_Udp_B1_B3_B7_B8_RM500Q/qc02/#07/raw/server_pcap_BL_qc02_3274_3275_2023-03-16_20-09-34_sock.pcap_new.pcap\n"
     ]
    },
    {
     "name": "stderr",
     "output_type": "stream",
     "text": [
      "editcap: The file \"/home/wmnlab/D/database/2023-03-16/_Bandlock_Udp_B1_B3_B7_B8_RM500Q/qc02/#05/raw/server_pcap_BL_qc02_3274_3275_2023-03-16_19-55-46_sock.pcap\" appears to have been cut short in the middle of a packet.\n",
      "editcap: The file \"/home/wmnlab/D/database/2023-03-16/_Bandlock_Udp_B1_B3_B7_B8_RM500Q/qc02/#06/raw/server_pcap_BL_qc02_3274_3275_2023-03-16_20-03-47_sock.pcap\" appears to have been cut short in the middle of a packet.\n"
     ]
    },
    {
     "name": "stdout",
     "output_type": "stream",
     "text": [
      "2023-03-16 20:26:44\n",
      "editcap -F libpcap -B \"2023-03-16 20:26:44\" /home/wmnlab/D/database/2023-03-16/_Bandlock_Udp_B1_B3_B7_B8_RM500Q/qc02/#08/raw/server_pcap_BL_qc02_3274_3275_2023-03-16_20-18-07_sock.pcap /home/wmnlab/D/database/2023-03-16/_Bandlock_Udp_B1_B3_B7_B8_RM500Q/qc02/#08/raw/server_pcap_BL_qc02_3274_3275_2023-03-16_20-18-07_sock.pcap_new.pcap\n"
     ]
    },
    {
     "name": "stderr",
     "output_type": "stream",
     "text": [
      "editcap: The file \"/home/wmnlab/D/database/2023-03-16/_Bandlock_Udp_B1_B3_B7_B8_RM500Q/qc02/#07/raw/server_pcap_BL_qc02_3274_3275_2023-03-16_20-09-34_sock.pcap\" appears to have been cut short in the middle of a packet.\n",
      "editcap: The file \"/home/wmnlab/D/database/2023-03-16/_Bandlock_Udp_B1_B3_B7_B8_RM500Q/qc02/#08/raw/server_pcap_BL_qc02_3274_3275_2023-03-16_20-18-07_sock.pcap\" appears to have been cut short in the middle of a packet.\n"
     ]
    },
    {
     "name": "stdout",
     "output_type": "stream",
     "text": [
      "2023-03-16 20:33:33\n",
      "editcap -F libpcap -B \"2023-03-16 20:33:33\" /home/wmnlab/D/database/2023-03-16/_Bandlock_Udp_B1_B3_B7_B8_RM500Q/qc02/#09/raw/server_pcap_BL_qc02_3274_3275_2023-03-16_20-26-44_sock.pcap /home/wmnlab/D/database/2023-03-16/_Bandlock_Udp_B1_B3_B7_B8_RM500Q/qc02/#09/raw/server_pcap_BL_qc02_3274_3275_2023-03-16_20-26-44_sock.pcap_new.pcap\n"
     ]
    },
    {
     "name": "stderr",
     "output_type": "stream",
     "text": [
      "editcap: The file \"/home/wmnlab/D/database/2023-03-16/_Bandlock_Udp_B1_B3_B7_B8_RM500Q/qc02/#09/raw/server_pcap_BL_qc02_3274_3275_2023-03-16_20-26-44_sock.pcap\" appears to have been cut short in the middle of a packet.\n"
     ]
    },
    {
     "name": "stdout",
     "output_type": "stream",
     "text": [
      "2023-03-16 20:42:30\n",
      "editcap -F libpcap -B \"2023-03-16 20:42:30\" /home/wmnlab/D/database/2023-03-16/_Bandlock_Udp_B1_B3_B7_B8_RM500Q/qc02/#10/raw/server_pcap_BL_qc02_3274_3275_2023-03-16_20-33-33_sock.pcap /home/wmnlab/D/database/2023-03-16/_Bandlock_Udp_B1_B3_B7_B8_RM500Q/qc02/#10/raw/server_pcap_BL_qc02_3274_3275_2023-03-16_20-33-33_sock.pcap_new.pcap\n"
     ]
    },
    {
     "name": "stderr",
     "output_type": "stream",
     "text": [
      "editcap: The file \"/home/wmnlab/D/database/2023-03-16/_Bandlock_Udp_B1_B3_B7_B8_RM500Q/qc02/#10/raw/server_pcap_BL_qc02_3274_3275_2023-03-16_20-33-33_sock.pcap\" appears to have been cut short in the middle of a packet.\n"
     ]
    },
    {
     "name": "stdout",
     "output_type": "stream",
     "text": [
      "2023-03-16 20:49:06\n",
      "editcap -F libpcap -B \"2023-03-16 20:49:06\" /home/wmnlab/D/database/2023-03-16/_Bandlock_Udp_B1_B3_B7_B8_RM500Q/qc02/#11/raw/server_pcap_BL_qc02_3274_3275_2023-03-16_20-42-30_sock.pcap /home/wmnlab/D/database/2023-03-16/_Bandlock_Udp_B1_B3_B7_B8_RM500Q/qc02/#11/raw/server_pcap_BL_qc02_3274_3275_2023-03-16_20-42-30_sock.pcap_new.pcap\n"
     ]
    },
    {
     "name": "stderr",
     "output_type": "stream",
     "text": [
      "editcap: The file \"/home/wmnlab/D/database/2023-03-16/_Bandlock_Udp_B1_B3_B7_B8_RM500Q/qc02/#11/raw/server_pcap_BL_qc02_3274_3275_2023-03-16_20-42-30_sock.pcap\" appears to have been cut short in the middle of a packet.\n"
     ]
    },
    {
     "name": "stdout",
     "output_type": "stream",
     "text": [
      "2023-03-16 20:58:59\n",
      "editcap -F libpcap -B \"2023-03-16 20:58:59\" /home/wmnlab/D/database/2023-03-16/_Bandlock_Udp_B1_B3_B7_B8_RM500Q/qc02/#12/raw/server_pcap_BL_qc02_3274_3275_2023-03-16_20-49-06_sock.pcap /home/wmnlab/D/database/2023-03-16/_Bandlock_Udp_B1_B3_B7_B8_RM500Q/qc02/#12/raw/server_pcap_BL_qc02_3274_3275_2023-03-16_20-49-06_sock.pcap_new.pcap\n"
     ]
    },
    {
     "name": "stderr",
     "output_type": "stream",
     "text": [
      "editcap: The file \"/home/wmnlab/D/database/2023-03-16/_Bandlock_Udp_B1_B3_B7_B8_RM500Q/qc02/#12/raw/server_pcap_BL_qc02_3274_3275_2023-03-16_20-49-06_sock.pcap\" appears to have been cut short in the middle of a packet.\n"
     ]
    },
    {
     "name": "stdout",
     "output_type": "stream",
     "text": [
      "2023-03-16 19:32:47\n",
      "editcap -F libpcap -B \"2023-03-16 19:32:47\" /home/wmnlab/D/database/2023-03-16/_Bandlock_Udp_B1_B3_B7_B8_RM500Q/qc03/#01/raw/server_pcap_BL_qc03_3276_3277_2023-03-16_19-23-46_sock.pcap /home/wmnlab/D/database/2023-03-16/_Bandlock_Udp_B1_B3_B7_B8_RM500Q/qc03/#01/raw/server_pcap_BL_qc03_3276_3277_2023-03-16_19-23-46_sock.pcap_new.pcap\n",
      "2023-03-16 19:38:51\n",
      "editcap -F libpcap -B \"2023-03-16 19:38:51\" /home/wmnlab/D/database/2023-03-16/_Bandlock_Udp_B1_B3_B7_B8_RM500Q/qc03/#02/raw/server_pcap_BL_qc03_3276_3277_2023-03-16_19-32-47_sock.pcap /home/wmnlab/D/database/2023-03-16/_Bandlock_Udp_B1_B3_B7_B8_RM500Q/qc03/#02/raw/server_pcap_BL_qc03_3276_3277_2023-03-16_19-32-47_sock.pcap_new.pcap\n"
     ]
    },
    {
     "name": "stderr",
     "output_type": "stream",
     "text": [
      "editcap: The file \"/home/wmnlab/D/database/2023-03-16/_Bandlock_Udp_B1_B3_B7_B8_RM500Q/qc03/#01/raw/server_pcap_BL_qc03_3276_3277_2023-03-16_19-23-46_sock.pcap\" appears to have been cut short in the middle of a packet.\n"
     ]
    },
    {
     "name": "stdout",
     "output_type": "stream",
     "text": [
      "2023-03-16 19:47:46\n",
      "editcap -F libpcap -B \"2023-03-16 19:47:46\" /home/wmnlab/D/database/2023-03-16/_Bandlock_Udp_B1_B3_B7_B8_RM500Q/qc03/#03/raw/server_pcap_BL_qc03_3276_3277_2023-03-16_19-38-51_sock.pcap /home/wmnlab/D/database/2023-03-16/_Bandlock_Udp_B1_B3_B7_B8_RM500Q/qc03/#03/raw/server_pcap_BL_qc03_3276_3277_2023-03-16_19-38-51_sock.pcap_new.pcap\n",
      "2023-03-16 19:55:46\n",
      "editcap -F libpcap -B \"2023-03-16 19:55:46\" /home/wmnlab/D/database/2023-03-16/_Bandlock_Udp_B1_B3_B7_B8_RM500Q/qc03/#04/raw/server_pcap_BL_qc03_3276_3277_2023-03-16_19-47-46_sock.pcap /home/wmnlab/D/database/2023-03-16/_Bandlock_Udp_B1_B3_B7_B8_RM500Q/qc03/#04/raw/server_pcap_BL_qc03_3276_3277_2023-03-16_19-47-46_sock.pcap_new.pcap\n"
     ]
    },
    {
     "name": "stderr",
     "output_type": "stream",
     "text": [
      "editcap: The file \"/home/wmnlab/D/database/2023-03-16/_Bandlock_Udp_B1_B3_B7_B8_RM500Q/qc03/#02/raw/server_pcap_BL_qc03_3276_3277_2023-03-16_19-32-47_sock.pcap\" appears to have been cut short in the middle of a packet.\n"
     ]
    },
    {
     "name": "stdout",
     "output_type": "stream",
     "text": [
      "2023-03-16 20:03:47\n",
      "editcap -F libpcap -B \"2023-03-16 20:03:47\" /home/wmnlab/D/database/2023-03-16/_Bandlock_Udp_B1_B3_B7_B8_RM500Q/qc03/#05/raw/server_pcap_BL_qc03_3276_3277_2023-03-16_19-55-46_sock.pcap /home/wmnlab/D/database/2023-03-16/_Bandlock_Udp_B1_B3_B7_B8_RM500Q/qc03/#05/raw/server_pcap_BL_qc03_3276_3277_2023-03-16_19-55-46_sock.pcap_new.pcap\n"
     ]
    },
    {
     "name": "stderr",
     "output_type": "stream",
     "text": [
      "editcap: The file \"/home/wmnlab/D/database/2023-03-16/_Bandlock_Udp_B1_B3_B7_B8_RM500Q/qc03/#03/raw/server_pcap_BL_qc03_3276_3277_2023-03-16_19-38-51_sock.pcap\" appears to have been cut short in the middle of a packet.\n"
     ]
    },
    {
     "name": "stdout",
     "output_type": "stream",
     "text": [
      "2023-03-16 20:09:34\n",
      "editcap -F libpcap -B \"2023-03-16 20:09:34\" /home/wmnlab/D/database/2023-03-16/_Bandlock_Udp_B1_B3_B7_B8_RM500Q/qc03/#06/raw/server_pcap_BL_qc03_3276_3277_2023-03-16_20-03-47_sock.pcap /home/wmnlab/D/database/2023-03-16/_Bandlock_Udp_B1_B3_B7_B8_RM500Q/qc03/#06/raw/server_pcap_BL_qc03_3276_3277_2023-03-16_20-03-47_sock.pcap_new.pcap\n"
     ]
    },
    {
     "name": "stderr",
     "output_type": "stream",
     "text": [
      "editcap: The file \"/home/wmnlab/D/database/2023-03-16/_Bandlock_Udp_B1_B3_B7_B8_RM500Q/qc03/#04/raw/server_pcap_BL_qc03_3276_3277_2023-03-16_19-47-46_sock.pcap\" appears to have been cut short in the middle of a packet.\n"
     ]
    },
    {
     "name": "stdout",
     "output_type": "stream",
     "text": [
      "2023-03-16 20:18:07\n",
      "editcap -F libpcap -B \"2023-03-16 20:18:07\" /home/wmnlab/D/database/2023-03-16/_Bandlock_Udp_B1_B3_B7_B8_RM500Q/qc03/#07/raw/server_pcap_BL_qc03_3276_3277_2023-03-16_20-09-34_sock.pcap /home/wmnlab/D/database/2023-03-16/_Bandlock_Udp_B1_B3_B7_B8_RM500Q/qc03/#07/raw/server_pcap_BL_qc03_3276_3277_2023-03-16_20-09-34_sock.pcap_new.pcap\n"
     ]
    },
    {
     "name": "stderr",
     "output_type": "stream",
     "text": [
      "editcap: The file \"/home/wmnlab/D/database/2023-03-16/_Bandlock_Udp_B1_B3_B7_B8_RM500Q/qc03/#05/raw/server_pcap_BL_qc03_3276_3277_2023-03-16_19-55-46_sock.pcap\" appears to have been cut short in the middle of a packet.\n"
     ]
    },
    {
     "name": "stdout",
     "output_type": "stream",
     "text": [
      "2023-03-16 20:26:44\n",
      "editcap -F libpcap -B \"2023-03-16 20:26:44\" /home/wmnlab/D/database/2023-03-16/_Bandlock_Udp_B1_B3_B7_B8_RM500Q/qc03/#08/raw/server_pcap_BL_qc03_3276_3277_2023-03-16_20-18-07_sock.pcap /home/wmnlab/D/database/2023-03-16/_Bandlock_Udp_B1_B3_B7_B8_RM500Q/qc03/#08/raw/server_pcap_BL_qc03_3276_3277_2023-03-16_20-18-07_sock.pcap_new.pcap\n"
     ]
    },
    {
     "name": "stderr",
     "output_type": "stream",
     "text": [
      "editcap: The file \"/home/wmnlab/D/database/2023-03-16/_Bandlock_Udp_B1_B3_B7_B8_RM500Q/qc03/#06/raw/server_pcap_BL_qc03_3276_3277_2023-03-16_20-03-47_sock.pcap\" appears to have been cut short in the middle of a packet.\n",
      "editcap: The file \"/home/wmnlab/D/database/2023-03-16/_Bandlock_Udp_B1_B3_B7_B8_RM500Q/qc03/#07/raw/server_pcap_BL_qc03_3276_3277_2023-03-16_20-09-34_sock.pcap\" appears to have been cut short in the middle of a packet.\n",
      "editcap: The file \"/home/wmnlab/D/database/2023-03-16/_Bandlock_Udp_B1_B3_B7_B8_RM500Q/qc03/#08/raw/server_pcap_BL_qc03_3276_3277_2023-03-16_20-18-07_sock.pcap\" appears to have been cut short in the middle of a packet.\n"
     ]
    },
    {
     "name": "stdout",
     "output_type": "stream",
     "text": [
      "2023-03-16 20:33:33\n",
      "editcap -F libpcap -B \"2023-03-16 20:33:33\" /home/wmnlab/D/database/2023-03-16/_Bandlock_Udp_B1_B3_B7_B8_RM500Q/qc03/#09/raw/server_pcap_BL_qc03_3276_3277_2023-03-16_20-26-44_sock.pcap /home/wmnlab/D/database/2023-03-16/_Bandlock_Udp_B1_B3_B7_B8_RM500Q/qc03/#09/raw/server_pcap_BL_qc03_3276_3277_2023-03-16_20-26-44_sock.pcap_new.pcap\n"
     ]
    },
    {
     "name": "stderr",
     "output_type": "stream",
     "text": [
      "editcap: The file \"/home/wmnlab/D/database/2023-03-16/_Bandlock_Udp_B1_B3_B7_B8_RM500Q/qc03/#09/raw/server_pcap_BL_qc03_3276_3277_2023-03-16_20-26-44_sock.pcap\" appears to have been cut short in the middle of a packet.\n"
     ]
    },
    {
     "name": "stdout",
     "output_type": "stream",
     "text": [
      "2023-03-16 20:42:30\n",
      "editcap -F libpcap -B \"2023-03-16 20:42:30\" /home/wmnlab/D/database/2023-03-16/_Bandlock_Udp_B1_B3_B7_B8_RM500Q/qc03/#10/raw/server_pcap_BL_qc03_3276_3277_2023-03-16_20-33-33_sock.pcap /home/wmnlab/D/database/2023-03-16/_Bandlock_Udp_B1_B3_B7_B8_RM500Q/qc03/#10/raw/server_pcap_BL_qc03_3276_3277_2023-03-16_20-33-33_sock.pcap_new.pcap\n"
     ]
    },
    {
     "name": "stderr",
     "output_type": "stream",
     "text": [
      "editcap: The file \"/home/wmnlab/D/database/2023-03-16/_Bandlock_Udp_B1_B3_B7_B8_RM500Q/qc03/#10/raw/server_pcap_BL_qc03_3276_3277_2023-03-16_20-33-33_sock.pcap\" appears to have been cut short in the middle of a packet.\n"
     ]
    },
    {
     "name": "stdout",
     "output_type": "stream",
     "text": [
      "2023-03-16 20:49:06\n",
      "editcap -F libpcap -B \"2023-03-16 20:49:06\" /home/wmnlab/D/database/2023-03-16/_Bandlock_Udp_B1_B3_B7_B8_RM500Q/qc03/#11/raw/server_pcap_BL_qc03_3276_3277_2023-03-16_20-42-30_sock.pcap /home/wmnlab/D/database/2023-03-16/_Bandlock_Udp_B1_B3_B7_B8_RM500Q/qc03/#11/raw/server_pcap_BL_qc03_3276_3277_2023-03-16_20-42-30_sock.pcap_new.pcap\n"
     ]
    },
    {
     "name": "stderr",
     "output_type": "stream",
     "text": [
      "editcap: The file \"/home/wmnlab/D/database/2023-03-16/_Bandlock_Udp_B1_B3_B7_B8_RM500Q/qc03/#11/raw/server_pcap_BL_qc03_3276_3277_2023-03-16_20-42-30_sock.pcap\" appears to have been cut short in the middle of a packet.\n"
     ]
    },
    {
     "name": "stdout",
     "output_type": "stream",
     "text": [
      "2023-03-16 20:58:59\n",
      "editcap -F libpcap -B \"2023-03-16 20:58:59\" /home/wmnlab/D/database/2023-03-16/_Bandlock_Udp_B1_B3_B7_B8_RM500Q/qc03/#12/raw/server_pcap_BL_qc03_3276_3277_2023-03-16_20-49-06_sock.pcap /home/wmnlab/D/database/2023-03-16/_Bandlock_Udp_B1_B3_B7_B8_RM500Q/qc03/#12/raw/server_pcap_BL_qc03_3276_3277_2023-03-16_20-49-06_sock.pcap_new.pcap\n"
     ]
    },
    {
     "name": "stderr",
     "output_type": "stream",
     "text": [
      "editcap: The file \"/home/wmnlab/D/database/2023-03-16/_Bandlock_Udp_B1_B3_B7_B8_RM500Q/qc03/#12/raw/server_pcap_BL_qc03_3276_3277_2023-03-16_20-49-06_sock.pcap\" appears to have been cut short in the middle of a packet.\n"
     ]
    }
   ],
   "source": [
    "import subprocess\n",
    "import os\n",
    "import sys\n",
    "import time\n",
    "import argparse\n",
    "import traceback\n",
    "from operator import sub\n",
    "from pprint import pprint\n",
    "from pytictoc import TicToc\n",
    "\n",
    "database = \"/home/wmnlab/D/database/\"\n",
    "date = \"2023-03-16\"\n",
    "devices = ['qc00','qc01','qc02','qc03']\n",
    "exp = \"_Bandlock_Udp_B1_B3_B7_B8_RM500Q\"\n",
    "traces1 = [\"#{:02d}\".format(i+1) for i in range(12)]\n",
    "traces2 = [\"#{:02d}\".format(i+1) for i in range(1, 13)]\n",
    "\n",
    "for dev in devices:\n",
    "    for trace1, trace2 in zip(traces1, traces2):\n",
    "        path1 = os.path.join(database, date, exp, dev, trace1, 'raw')\n",
    "        path2 = os.path.join(database, date, exp, dev, trace2, 'raw')\n",
    "        before = [s for s in os.listdir(path1) if s.startswith('server_pcap_BL_')][0]\n",
    "        after = [s for s in os.listdir(path2) if s.startswith('server_pcap_BL_')][0]\n",
    "        # print(before)\n",
    "        # print(after)\n",
    "        \n",
    "        ss = after[30:49].split('_')\n",
    "        ss = ' '.join([ss[0], ':'.join(ss[1].split('-'))])\n",
    "        print(ss)\n",
    "        \n",
    "        before = os.path.join(path1, before)\n",
    "        after = os.path.join(path2, after)\n",
    "        # print(before)\n",
    "        # print(after)\n",
    "        \n",
    "        s = f'editcap -F libpcap -B \"{ss}\" {before} {before}_new.pcap'\n",
    "        print(s)\n",
    "        subprocess.Popen(s, shell=True)\n",
    "        time.sleep(10)\n",
    "        os.system(f'rm {before}')\n",
    "        os.system(f'mv {before}_new.pcap {before}')\n",
    "        time.sleep(1)"
   ]
  },
  {
   "cell_type": "code",
   "execution_count": null,
   "metadata": {},
   "outputs": [],
   "source": []
  }
 ],
 "metadata": {
  "kernelspec": {
   "display_name": "Python 3",
   "language": "python",
   "name": "python3"
  },
  "language_info": {
   "codemirror_mode": {
    "name": "ipython",
    "version": 3
   },
   "file_extension": ".py",
   "mimetype": "text/x-python",
   "name": "python",
   "nbconvert_exporter": "python",
   "pygments_lexer": "ipython3",
   "version": "3.8.10"
  },
  "orig_nbformat": 4
 },
 "nbformat": 4,
 "nbformat_minor": 2
}
