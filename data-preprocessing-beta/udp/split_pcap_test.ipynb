{
 "cells": [
  {
   "cell_type": "code",
   "execution_count": 1,
   "metadata": {},
   "outputs": [
    {
     "name": "stdout",
     "output_type": "stream",
     "text": [
      "83.88608\n"
     ]
    }
   ],
   "source": [
    "import subprocess\n",
    "import os\n",
    "import sys\n",
    "import time\n",
    "import argparse\n",
    "import traceback\n",
    "from operator import sub\n",
    "from pprint import pprint\n",
    "from pytictoc import TicToc\n",
    "\n",
    "before = \"/Users/jackbedford/Desktop/MOXA/testset/server_pcap_BL_sm00_3200_3201_2023-06-12_16-38-58_sock.pcap\"\n",
    "\n",
    "max_size = '10 MB'\n",
    "bitrate = '1 Mbps'\n",
    "\n",
    "max_duration = 10 * 1024 * 1024 * 8 / (1 * 1000 * 1000)\n",
    "print(max_duration)\n",
    "\n",
    "\n",
    "s = f'editcap -F libpcap -i {max_duration} {before} {before}'\n",
    "subprocess.Popen(s, shell=True)\n",
    "time.sleep(10)\n",
    "\n",
    "# # ref. https://stackoverflow.com/questions/19952991/filter-a-pcap-dump-file-for-a-specific-time-range"
   ]
  },
  {
   "cell_type": "code",
   "execution_count": null,
   "metadata": {},
   "outputs": [],
   "source": []
  }
 ],
 "metadata": {
  "kernelspec": {
   "display_name": "moxa",
   "language": "python",
   "name": "python3"
  },
  "language_info": {
   "codemirror_mode": {
    "name": "ipython",
    "version": 3
   },
   "file_extension": ".py",
   "mimetype": "text/x-python",
   "name": "python",
   "nbconvert_exporter": "python",
   "pygments_lexer": "ipython3",
   "version": "3.8.16"
  },
  "orig_nbformat": 4
 },
 "nbformat": 4,
 "nbformat_minor": 2
}
