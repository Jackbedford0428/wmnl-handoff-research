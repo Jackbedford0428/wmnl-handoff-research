{
 "cells": [
  {
   "cell_type": "code",
   "execution_count": 24,
   "metadata": {},
   "outputs": [
    {
     "name": "stdout",
     "output_type": "stream",
     "text": [
      "2023-03-16\n",
      "{'UDP_Bandlock_B1_B7_B8_RM500Q': {'route': 'BR', 'devices': {'qc00': 'B1', 'qc02': 'B7', 'qc03': 'B8'}, 'ods': [[0, 'Origin Station', 'Destination Station', 'Departure Time', 'Notes'], [1, '萬芳醫院', '動物園', '19:23', ''], [2, '動物園', '萬芳醫院', '19:32', ''], [3, '萬芳醫院', '動物園', '19:39', ''], [4, '動物園', '萬芳醫院', '19:47', ''], [5, '萬芳醫院', '動物園', '19:55', ''], [6, '動物園', '萬芳醫院', '20:03', ''], [7, '萬芳醫院', '動物園', '20:09', ''], [8, '動物園', '萬芳醫院', '20:18', ''], [9, '萬芳醫院', '動物園', '20:27', ''], [10, '動物園', '萬芳醫院', '20:33', ''], [11, '萬芳醫院', '動物園', '20:42', ''], [12, '動物園', '萬芳醫院', '20:49', '']], 'stations': ['動物園', '木柵', '萬芳社區', '萬芳醫院'], 'telecom': 'CHT', 'protocol': 'UDP', 'length': [250, 'byte'], 'bitrate': [1, 'Mbps'], 'notes': ''}}\n",
      "2023-03-26\n",
      "{'UDP_Bandlock_All_RM500Q': {'route': 'BR', 'devices': {'qc00': 'All', 'qc02': 'All', 'qc03': 'All'}, 'ods': [[0, 'Origin Station', 'Destination Station', 'Departure Time', 'Notes'], [1, '萬芳醫院', '動物園', '16:36', ''], [2, '動物園', '萬芳醫院', '16:46', ''], [3, '萬芳醫院', '動物園', '16:56', ''], [4, '動物園', '萬芳醫院', '17:25', '']], 'stations': ['動物園', '木柵', '萬芳社區', '萬芳醫院'], 'telecom': 'CHT', 'protocol': 'UDP', 'length': [250, 'byte'], 'bitrate': [1, 'Mbps'], 'notes': ''}}\n",
      "2023-04-01\n",
      "{'UDP_Bandlock_B1_B3_B7_B8_RM500Q': {'route': 'BR', 'devices': {'qc00': 'B1', 'qc01': 'B3', 'qc02': 'B7', 'qc03': 'B8'}, 'ods': [[0, 'Origin Station', 'Destination Station', 'Departure Time', 'Notes'], [1, '萬芳醫院', '動物園', '14:07', ''], [2, '動物園', '萬芳醫院', '14:21', ''], [3, '萬芳醫院', '動物園', '14:32', ''], [4, '動物園', '萬芳醫院', '14:45', ''], [5, '萬芳醫院', '動物園', '14:56', ''], [6, '動物園', '萬芳醫院', '15:06', '']], 'stations': ['動物園', '木柵', '萬芳社區', '萬芳醫院'], 'telecom': 'CHT', 'protocol': 'UDP', 'length': [250, 'byte'], 'bitrate': [1, 'Mbps'], 'notes': ''}}\n",
      "{'UDP_Bandlock_B1B3_B1B8_All_LTE_RM500Q': {'route': 'BR', 'devices': {'qc00': 'B1B3', 'qc01': 'B1B8', 'qc02': 'LTE', 'qc03': 'All'}, 'ods': [[0, 'Origin Station', 'Destination Station', 'Departure Time', 'Notes'], [1, '萬芳醫院', '動物園', '15:21', ''], [2, '動物園', '萬芳醫院', '15:30', ''], [3, '萬芳醫院', '動物園', '15:37', ''], [4, '動物園', '萬芳醫院', '15:51', '']], 'stations': ['動物園', '木柵', '萬芳社區', '萬芳醫院'], 'telecom': 'CHT', 'protocol': 'UDP', 'length': [250, 'byte'], 'bitrate': [1, 'Mbps'], 'notes': ''}}\n",
      "2023-04-10\n",
      "{'UDP_Bandlock_All_RM500Q': {'route': 'BR', 'devices': {'qc00': 'All', 'qc01': 'All', 'qc02': 'All', 'qc03': 'All'}, 'ods': [[0, 'Origin Station', 'Destination Station', 'Departure Time', 'Notes'], [1, '萬芳醫院', '動物園', '15:05', ''], [2, '動物園', '萬芳醫院', '15:19', '']], 'stations': ['動物園', '木柵', '萬芳社區', '萬芳醫院'], 'telecom': 'CHT', 'protocol': 'UDP', 'length': [250, 'byte'], 'bitrate': [1, 'Mbps'], 'notes': ''}}\n",
      "{'UDP_Bandlock_B1_B3_B7_B8_RM500Q': {'route': 'BR', 'devices': {'qc00': 'B1', 'qc01': 'B3', 'qc02': 'B7', 'qc03': 'B8'}, 'ods': [[0, 'Origin Station', 'Destination Station', 'Departure Time', 'Notes'], [1, '萬芳醫院', '動物園', '15:45', ''], [2, '動物園', '萬芳醫院', '16:07', '']], 'stations': ['動物園', '木柵', '萬芳社區', '萬芳醫院'], 'telecom': 'CHT', 'protocol': 'UDP', 'length': [250, 'byte'], 'bitrate': [1, 'Mbps'], 'notes': ''}}\n",
      "{'UDP_Bandlock_LTE_All_B7B8_B7_RM500Q': {'route': 'BR', 'devices': {'qc00': 'LTE', 'qc01': 'All', 'qc02': 'B7B7', 'qc03': 'B7'}, 'ods': [[0, 'Origin Station', 'Destination Station', 'Departure Time', 'Notes'], [1, '萬芳醫院', '動物園', '16:29', ''], [2, '動物園', '萬芳醫院', '16:42', '']], 'stations': ['動物園', '木柵', '萬芳社區', '萬芳醫院'], 'telecom': 'CHT', 'protocol': 'UDP', 'length': [250, 'byte'], 'bitrate': [1, 'Mbps'], 'notes': ''}}\n",
      "2023-04-17\n",
      "{'UDP_Bandlock_All_LTE_B1B3_B3B7_RM500Q': {'route': 'BR', 'devices': {'qc00': 'All', 'qc01': 'LTE', 'qc02': 'B1B3', 'qc03': 'B3B7'}, 'ods': [[0, 'Origin Station', 'Destination Station', 'Departure Time', 'Notes'], [1, '萬芳醫院', '動物園', '14:16', ''], [2, '動物園', '萬芳醫院', '14:23', ''], [3, '萬芳醫院', '動物園', '14:36', 'qc03 mi2log too small'], [4, '動物園', '萬芳醫院', '14:44', 'qc03 mi2log too small']], 'stations': ['動物園', '木柵', '萬芳社區', '萬芳醫院'], 'telecom': 'CHT', 'protocol': 'UDP', 'length': [250, 'byte'], 'bitrate': [1, 'Mbps'], 'notes': ''}}\n",
      "{'UDP_Bandlock_All_LTE_B1B7_B7B8_RM500Q': {'route': 'BR', 'devices': {'qc00': 'All', 'qc01': 'LTE', 'qc02': 'B1B7', 'qc03': 'B7B8'}, 'ods': [[0, 'Origin Station', 'Destination Station', 'Departure Time', 'Notes'], [1, '萬芳醫院', '動物園', '14:56', ''], [2, '動物園', '萬芳醫院', '15:03', ''], [3, '萬芳醫院', '動物園', '15:10', ''], [4, '動物園', '萬芳醫院', '15:19', '']], 'stations': ['動物園', '木柵', '萬芳社區', '萬芳醫院'], 'telecom': 'CHT', 'protocol': 'UDP', 'length': [250, 'byte'], 'bitrate': [1, 'Mbps'], 'notes': ''}}\n",
      "{'UDP_Bandlock_All_LTE_B1B8_B3B8_RM500Q': {'route': 'BR', 'devices': {'qc00': 'All', 'qc01': 'LTE', 'qc02': 'B1B8', 'qc03': 'B3B8'}, 'ods': [[0, 'Origin Station', 'Destination Station', 'Departure Time', 'Notes'], [1, '萬芳醫院', '動物園', '15:25', ''], [2, '動物園', '萬芳醫院', '15:34', ''], [3, '萬芳醫院', '動物園', '15:41', ''], [4, '動物園', '萬芳醫院', '15:49', '']], 'stations': ['動物園', '木柵', '萬芳社區', '萬芳醫院'], 'telecom': 'CHT', 'protocol': 'UDP', 'length': [250, 'byte'], 'bitrate': [1, 'Mbps'], 'notes': ''}}\n",
      "{'UDP_Bandlock_All_LTE_RM500Q': {'route': 'BR', 'devices': {'qc00': 'All', 'qc01': 'LTE', 'qc02': 'All', 'qc03': 'LTE'}, 'ods': [[0, 'Origin Station', 'Destination Station', 'Departure Time', 'Notes'], [1, '動物園', '萬芳醫院', '16:17', ''], [2, '動物園', '萬芳醫院', '16:36', ''], [3, '萬芳醫院', '動物園', '16:43', ''], [4, '動物園', '萬芳醫院', '16:51', '']], 'stations': ['動物園', '木柵', '萬芳社區', '萬芳醫院'], 'telecom': 'CHT', 'protocol': 'UDP', 'length': [250, 'byte'], 'bitrate': [1, 'Mbps'], 'notes': ''}}\n",
      "{'UDP_Bandlock_All_LTE_B1_B3_RM500Q': {'route': 'BR', 'devices': {'qc00': 'All', 'qc01': 'LTE', 'qc02': 'B1', 'qc03': 'B3'}, 'ods': [[0, 'Origin Station', 'Destination Station', 'Departure Time', 'Notes'], [1, '萬芳醫院', '動物園', '17:01', ''], [2, '動物園', '萬芳醫院', '17:09', '']], 'stations': ['動物園', '木柵', '萬芳社區', '萬芳醫院'], 'telecom': 'CHT', 'protocol': 'UDP', 'length': [250, 'byte'], 'bitrate': [1, 'Mbps'], 'notes': ''}}\n",
      "{'UDP_Bandlock_All_LTE_B7_B8_RM500Q': {'route': 'BR', 'devices': {'qc00': 'All', 'qc01': 'LTE', 'qc02': 'B7', 'qc03': 'B8'}, 'ods': [[0, 'Origin Station', 'Destination Station', 'Departure Time', 'Notes'], [1, '萬芳醫院', '動物園', '17:18', ''], [2, '動物園', '萬芳醫院', '17:27', '']], 'stations': ['動物園', '木柵', '萬芳社區', '萬芳醫院'], 'telecom': 'CHT', 'protocol': 'UDP', 'length': [250, 'byte'], 'bitrate': [1, 'Mbps'], 'notes': ''}}\n",
      "2023-05-04\n",
      "{'UDP_Bandlock_8S_Phone': {'route': 'BR', 'devices': {'sm00': 'All', 'sm01': 'B3', 'sm02': 'B7', 'sm03': 'B8', 'sm04': 'B3B7', 'sm05': 'B3B8', 'sm06': 'B7B8', 'sm07': 'LTE'}, 'ods': [[0, 'Origin Station', 'Destination Station', 'Departure Time', 'Notes'], [1, '萬芳醫院', '動物園', '13:54', ''], [2, '動物園', '萬芳醫院', '14:04', ''], [3, '萬芳醫院', '動物園', '14:14', ''], [4, '動物園', '萬芳醫院', '14:24', ''], [5, '萬芳醫院', '動物園', '14:31', ''], [6, '動物園', '萬芳醫院', '14:49', '']], 'stations': ['動物園', '木柵', '萬芳社區', '萬芳醫院'], 'telecom': 'CHT', 'protocol': 'UDP', 'length': [250, 'byte'], 'bitrate': [1, 'Mbps'], 'notes': ''}}\n",
      "2023-05-07\n",
      "{'UDP_Bandlock_8S_Phone': {'route': 'BR', 'devices': {'sm00': 'All', 'sm01': 'B3', 'sm02': 'B7', 'sm03': 'B8', 'sm04': 'B3B7', 'sm05': 'B3B8', 'sm06': 'B7B8', 'sm07': 'LTE'}, 'ods': [[0, 'Origin Station', 'Destination Station', 'Departure Time', 'Notes'], [1, '萬芳醫院', '動物園', '12:42', ''], [2, '動物園', '萬芳醫院', '12:51', ''], [3, '萬芳醫院', '動物園', '13:06', ''], [4, '動物園', '萬芳醫院', '13:15', ''], [5, '萬芳醫院', '動物園', '13:34', ''], [6, '動物園', '萬芳醫院', '13:44', ''], [7, '萬芳醫院', '動物園', '13:55', '']], 'stations': ['動物園', '木柵', '萬芳社區', '萬芳醫院'], 'telecom': 'CHT', 'protocol': 'UDP', 'length': [250, 'byte'], 'bitrate': [1, 'Mbps'], 'notes': ''}}\n",
      "2023-05-15\n",
      "{'UDP_Bandlock_8S_Phone': {'route': 'BR', 'devices': {'sm00': 'All', 'sm01': 'B3', 'sm02': 'B7', 'sm03': 'B8', 'sm04': 'B3B7', 'sm05': 'B3B8', 'sm06': 'B7B8', 'sm07': 'LTE'}, 'ods': [[0, 'Origin Station', 'Destination Station', 'Departure Time', 'Notes'], [1, '萬芳醫院', '動物園', '14:50', ''], [2, '動物園', '萬芳醫院', '15:19', ''], [3, '萬芳醫院', '動物園', '15:35', ''], [4, '動物園', '萬芳醫院', '15:54', '']], 'stations': ['動物園', '木柵', '萬芳社區', '萬芳醫院'], 'telecom': 'CHT', 'protocol': 'UDP', 'length': [250, 'byte'], 'bitrate': [1, 'Mbps'], 'notes': ''}}\n",
      "2023-05-24\n",
      "{'UDP_Bandlock_8S_Phone': {'route': 'BR', 'devices': {'sm00': 'All', 'sm01': 'B3', 'sm02': 'B7', 'sm03': 'B8', 'sm04': 'B3B7', 'sm05': 'B3B8', 'sm06': 'B7B8', 'sm07': 'LTE'}, 'ods': [[0, 'Origin Station', 'Destination Station', 'Departure Time', 'Notes'], [1, '萬芳醫院', '動物園', '14:26', ''], [2, '動物園', '萬芳醫院', '14:59', ''], [3, '萬芳醫院', '動物園', '15:10', ''], [4, '動物園', '萬芳醫院', '15:24', ''], [5, '萬芳醫院', '動物園', '15:35', ''], [6, '動物園', '萬芳醫院', '15:44', ''], [7, '萬芳醫院', '動物園', '15:55', ''], [8, '動物園', '萬芳醫院', '16:14', '']], 'stations': ['動物園', '木柵', '萬芳社區', '萬芳醫院'], 'telecom': 'CHT', 'protocol': 'UDP', 'length': [250, 'byte'], 'bitrate': [1, 'Mbps'], 'notes': ''}}\n",
      "2023-05-26\n",
      "{'UDP_Bandlock_8S_Phone': {'route': 'BR', 'devices': {'sm00': 'All', 'sm01': 'B3', 'sm02': 'B7', 'sm03': 'B8', 'sm04': 'B3B7', 'sm05': 'B3B8', 'sm06': 'B7B8', 'sm07': 'LTE'}, 'ods': [[0, 'Origin Station', 'Destination Station', 'Departure Time', 'Notes'], [1, '萬芳醫院', '動物園', '13;27', ''], [2, '動物園', '萬芳醫院', '13:36', ''], [3, '萬芳醫院', '動物園', '13:51', ''], [4, '動物園', '萬芳醫院', '14:01', ''], [5, '萬芳醫院', '動物園', '14:15', ''], [6, '動物園', '萬芳醫院', '14:31', ''], [7, '萬芳醫院', '動物園', '14:55', ''], [8, '動物園', '萬芳醫院', '15:06', ''], [9, '萬芳醫院', '動物園', '15:20', ''], [10, '動物園', '萬芳醫院', '15:31', '']], 'stations': ['動物園', '木柵', '萬芳社區', '萬芳醫院'], 'telecom': 'CHT', 'protocol': 'UDP', 'length': [250, 'byte'], 'bitrate': [1, 'Mbps'], 'notes': ''}}\n",
      "2023-06-12\n",
      "{'UDP_Bandlock_8S_Phone': {'route': 'BR', 'devices': {'sm00': 'All', 'sm01': 'B3', 'sm02': 'B7', 'sm03': 'B8', 'sm04': 'B3B7', 'sm05': 'B3B8', 'sm06': 'B7B8', 'sm07': 'LTE'}, 'ods': [[0, 'Origin Station', 'Destination Station', 'Departure Time', 'Notes'], [1, '萬芳醫院', '動物園', '16:30', ''], [2, '動物園', '萬芳醫院', '16:39', ''], [3, '萬芳醫院', '動物園', '16:51', ''], [4, '動物園', '萬芳醫院', '17:00', ''], [5, '萬芳醫院', '動物園', '17:07', ''], [6, '動物園', '萬芳醫院', '17:16', ''], [7, '萬芳醫院', '動物園', '17:23', ''], [8, '動物園', '萬芳醫院', '17:31', ''], [9, '萬芳醫院', '動物園', '17:37', ''], [10, '動物園', '萬芳醫院', '17:44', '']], 'stations': ['動物園', '木柵', '萬芳社區', '萬芳醫院'], 'telecom': 'CHT', 'protocol': 'UDP', 'length': [250, 'byte'], 'bitrate': [1, 'Mbps'], 'notes': ''}}\n",
      "2023-06-13\n",
      "{'UDP_Bandlock_8S_Phone': {'route': 'BR', 'devices': {'sm00': 'All', 'sm01': 'B3', 'sm02': 'B7', 'sm03': 'B8', 'sm04': 'B3B7', 'sm05': 'B3B8', 'sm06': 'B7B8', 'sm07': 'LTE'}, 'ods': [[0, 'Origin Station', 'Destination Station', 'Departure Time', 'Notes'], [2, '動物園', '萬芳醫院', '15:08', ''], [3, '萬芳醫院', '動物園', '15:16', ''], [4, '動物園', '萬芳醫院', '15:24', ''], [5, '萬芳醫院', '動物園', '15:31', ''], [6, '動物園', '萬芳醫院', '15:39', ''], [7, '萬芳醫院', '動物園', '15:46', ''], [8, '動物園', '萬芳醫院', '15:54', ''], [9, '萬芳醫院', '動物園', '16:01', ''], [10, '動物園', '萬芳醫院', '16:11', '']], 'stations': ['動物園', '木柵', '萬芳社區', '萬芳醫院'], 'telecom': 'CHT', 'protocol': 'UDP', 'length': [250, 'byte'], 'bitrate': [1, 'Mbps'], 'notes': ''}}\n",
      "2023-06-15\n",
      "{'UDP_Bandlock_B1_B3_B7_B8_Dupl_Phone': {'route': 'BR', 'devices': {'sm00': 'B1', 'sm01': 'B1', 'sm02': 'B3', 'sm03': 'B3', 'sm04': 'B7', 'sm05': 'B7', 'sm06': 'B8', 'sm07': 'B8'}, 'ods': [[0, 'Origin Station', 'Destination Station', 'Departure Time', 'Notes'], [1, '萬芳醫院', '動物園', '15:00', ''], [2, '動物園', '萬芳醫院', '15:09', ''], [3, '萬芳醫院', '動物園', '15:15', ''], [4, '動物園', '萬芳醫院', '14:24', '']], 'stations': ['動物園', '木柵', '萬芳社區', '萬芳醫院'], 'telecom': 'CHT', 'protocol': 'UDP', 'length': [250, 'byte'], 'bitrate': [1, 'Mbps'], 'notes': ''}}\n",
      "{'UDP_Bandlock_All_B3_B7_B8_Dupl_Phone': {'route': 'BR', 'devices': {'sm00': 'All', 'sm01': 'All', 'sm02': 'B3', 'sm03': 'B3', 'sm04': 'B7', 'sm05': 'B7', 'sm06': 'B8', 'sm07': 'B8'}, 'ods': [[0, 'Origin Station', 'Destination Station', 'Departure Time', 'Notes'], [1, '萬芳醫院', '動物園', '15:30', ''], [2, '動物園', '萬芳醫院', '15:39', ''], [3, '萬芳醫院', '動物園', '15:45', ''], [4, '動物園', '萬芳醫院', '15:54', '']], 'stations': ['動物園', '木柵', '萬芳社區', '萬芳醫院'], 'telecom': 'CHT', 'protocol': 'UDP', 'length': [250, 'byte'], 'bitrate': [1, 'Mbps'], 'notes': ''}}\n",
      "{'UDP_Bandlock_LTE_B3_B7_B8_Dupl_Phone': {'route': 'BR', 'devices': {'sm00': 'LTE', 'sm01': 'LTE', 'sm02': 'B3', 'sm03': 'B3', 'sm04': 'B7', 'sm05': 'B7', 'sm06': 'B8', 'sm07': 'B8'}, 'ods': [[0, 'Origin Station', 'Destination Station', 'Departure Time', 'Notes'], [1, '萬芳醫院', '動物園', '16:00', ''], [2, '動物園', '萬芳醫院', '16:07', ''], [3, '萬芳醫院', '動物園', '16:20', ''], [4, '動物園', '萬芳醫院', '16:26', ''], [5, '萬芳醫院', '動物園', '16:34', ''], [6, '動物園', '萬芳醫院', '16:42', '']], 'stations': ['動物園', '木柵', '萬芳社區', '萬芳醫院'], 'telecom': 'CHT', 'protocol': 'UDP', 'length': [250, 'byte'], 'bitrate': [1, 'Mbps'], 'notes': ''}}\n",
      "{'UDP_Bandlock_LTE_LTEb3_LTEb7_LTEb8_Dupl_Phone': {'route': 'BR', 'devices': {'sm00': 'LTE', 'sm01': 'LTE', 'sm02': 'LTEb3', 'sm03': 'LTEb3', 'sm04': 'LTEb7', 'sm05': 'LTEb7', 'sm06': 'LTEb8', 'sm07': 'LTEb8'}, 'ods': [[0, 'Origin Station', 'Destination Station', 'Departure Time', 'Notes'], [1, '萬芳醫院', '動物園', '16:56', ''], [2, '動物園', '萬芳醫院', '17:03', ''], [3, '萬芳醫院', '動物園', '17:12', 'sm03 adb disconnected (keep transferring packets but miss mi2log)'], [4, '動物園', '萬芳醫院', '17:22', '']], 'stations': ['動物園', '木柵', '萬芳社區', '萬芳醫院'], 'telecom': 'CHT', 'protocol': 'UDP', 'length': [250, 'byte'], 'bitrate': [1, 'Mbps'], 'notes': ''}}\n",
      "{'UDP_Bandlock_LTEb1_LTEb3_LTEb7_LTEb8_Dupl_Phone': {'route': 'BR', 'devices': {'sm00': 'LTEb1', 'sm01': 'LTEb1', 'sm02': 'LTEb3', 'sm03': 'LTEb3', 'sm04': 'LTEb7', 'sm05': 'LTEb7', 'sm06': 'LTEb8', 'sm07': 'LTEb8'}, 'ods': [[0, 'Origin Station', 'Destination Station', 'Departure Time', 'Notes'], [1, '萬芳醫院', '動物園', '17:30', ''], [2, '動物園', '萬芳醫院', '17:38', ''], [3, '萬芳醫院', '動物園', '17:44', ''], [4, '動物園', '萬芳醫院', '17:52', '']], 'stations': ['動物園', '木柵', '萬芳社區', '萬芳醫院'], 'telecom': 'CHT', 'protocol': 'UDP', 'length': [250, 'byte'], 'bitrate': [1, 'Mbps'], 'notes': ''}}\n",
      "2023-08-16\n",
      "{'UDP_Phone_LTE_NR': {'route': 'BR', 'devices': {'sm00': 'LTE', 'sm01': 'All'}, 'ods': [[0, 'Origin Station', 'Destination Station', 'Departure Time', 'Notes'], [1, '辛亥', '動物園', '15:03', ''], [2, '動物園', '辛亥', '15:14', ''], [3, '辛亥', '動物園', '15:29', ''], [4, '動物園', '辛亥', '15:39', ''], [5, '辛亥', '動物園', '15:54', ''], [6, '動物園', '辛亥', '16:07', '']], 'stations': ['動物園', '木柵', '萬芳社區', '萬芳醫院', '辛亥'], 'telecom': 'CHT', 'protocol': 'UDP', 'length': [250, 'byte'], 'bitrate': [1, 'Mbps'], 'notes': ''}}\n",
      "2023-08-21\n",
      "{'UDP_Phone_NR_LTE': {'route': 'BR', 'devices': {'sm00': 'All', 'sm01': 'LTE'}, 'ods': [[0, 'Origin Station', 'Destination Station', 'Departure Time', 'Notes'], [1, '科技大樓', '中山國中', '14:33', ''], [2, '中山國中', '科技大樓', '14:44', ''], [3, '科技大樓', '中山國中', '14:58', ''], [4, '中山國中', '科技大樓', '15:09', ''], [5, '科技大樓', '中山國中', '15:23', ''], [6, '中山國中', '科技大樓', '15:34', '']], 'stations': ['科技大樓', '大安', '忠孝復興', '南京復興', '中山國中'], 'telecom': 'CHT', 'protocol': 'UDP', 'length': [250, 'byte'], 'bitrate': [1, 'Mbps'], 'notes': ''}}\n",
      "2023-09-12\n",
      "{'UDP_Bandlock_9S_Phone_Brown': {'route': 'BR', 'devices': {'sm00': 'All', 'sm01': 'All', 'sm02': 'B3', 'sm03': 'B7', 'sm04': 'B8', 'sm05': 'B3B7', 'sm06': 'B3B8', 'sm07': 'B7B8', 'sm08': 'LTE'}, 'ods': [[0, 'Origin Station', 'Destination Station', 'Departure Time', 'Notes'], [1, '動物園', '南港展覽館', '13:34', '到木柵才想起要開GPS'], [2, '南港展覽館', '動物園', '14:52', '']], 'stations': ['動物園', '木柵', '萬芳社區', '萬芳醫院', '辛亥', '麟光', '六張犁', '科技大樓', '大安', '忠孝復興', '南京復興', '中山國中', '松山機場', '大直', '劍南路', '西湖', '港墘', '文德', '內湖', '大湖公園', '葫洲', '東湖', '南港軟體園區', '南港展覽館'], 'telecom': 'CHT', 'protocol': 'UDP', 'length': [250, 'byte'], 'bitrate': [1, 'Mbps'], 'notes': ''}}\n",
      "2023-09-21\n",
      "{'UDP_Bandlock_9S_Phone_Brown': {'route': 'BR', 'devices': {'sm00': 'All', 'sm01': 'All', 'sm02': 'B3', 'sm03': 'B7', 'sm04': 'B8', 'sm05': 'B3B7', 'sm06': 'B3B8', 'sm07': 'B7B8', 'sm08': 'LTE'}, 'ods': [[0, 'Origin Station', 'Destination Station', 'Departure Time', 'Notes'], [1, '動物園', '南港展覽館', '14:29', ''], [2, '南港展覽館', '動物園', '15:09', '']], 'stations': ['動物園', '木柵', '萬芳社區', '萬芳醫院', '辛亥', '麟光', '六張犁', '科技大樓', '大安', '忠孝復興', '南京復興', '中山國中', '松山機場', '大直', '劍南路', '西湖', '港墘', '文德', '內湖', '大湖公園', '葫洲', '東湖', '南港軟體園區', '南港展覽館'], 'telecom': 'CHT', 'protocol': 'UDP', 'length': [250, 'byte'], 'bitrate': [1, 'Mbps'], 'notes': ''}}\n",
      "2023-10-05\n",
      "{'UDP_Bandlock_9S_Phone_Green': {'route': 'G', 'devices': {'sm00': 'All', 'sm01': 'All', 'sm02': 'B3', 'sm03': 'B7', 'sm04': 'B8', 'sm05': 'B3B7', 'sm06': 'B3B8', 'sm07': 'B7B8', 'sm08': 'LTE'}, 'ods': [[0, 'Origin Station', 'Destination Station', 'Departure Time', 'Notes'], [1, '新店區公所', '松山', '14:24', '本來要在新店開始，但有點意外發生，不想回頭搭'], [2, '松山', '新店', '15:14', '']], 'stations': ['新店', '新店區公所', '七張', '大坪林', '景美', '萬隆', '公館', '台電大樓', '古亭', '中正紀念堂', '小南門', '西門', '北門', '中山', '松江南京', '南京復興', '台北小巨蛋', '南京三民', '松山'], 'telecom': 'CHT', 'protocol': 'UDP', 'length': [250, 'byte'], 'bitrate': [1, 'Mbps'], 'notes': ''}}\n",
      "2023-10-19\n",
      "{'UDP_Bandlock_9S_Phone_Red': {'route': 'R', 'devices': {'sm00': 'All', 'sm01': 'All', 'sm02': 'B3', 'sm03': 'B7', 'sm04': 'B8', 'sm05': 'B3B7', 'sm06': 'B3B8', 'sm07': 'B7B8', 'sm08': 'LTE'}, 'ods': [[0, 'Origin Station', 'Destination Station', 'Departure Time', 'Notes'], [1, '象山', '淡水', '14:37', ''], [2, '淡水', '象山', '15:54', '']], 'stations': ['象山', '台北101/世貿', '信義安和', '大安', '大安森林公園', '東門', '中正紀念堂', '台大醫院', '台北車站', '中山', '雙連', '民權西路', '圓山', '劍潭', '士林', '芝山', '明德', '石牌', '唭哩岸', '奇岩', '北投', '復興崗', '忠義', '關渡', '竹圍', '紅樹林', '淡水'], 'telecom': 'CHT', 'protocol': 'UDP', 'length': [250, 'byte'], 'bitrate': [1, 'Mbps'], 'notes': ''}}\n",
      "2023-10-26\n",
      "{'UDP_Bandlock_9S_Phone_Airport': {'route': 'A', 'devices': {'sm00': 'All', 'sm01': 'All', 'sm02': 'B3', 'sm03': 'B7', 'sm04': 'B8', 'sm05': 'B3B7', 'sm06': 'B3B8', 'sm07': 'B7B8', 'sm08': 'LTE'}, 'ods': [[0, 'Origin Station', 'Destination Station', 'Departure Time', 'Notes'], [1, '台北車站', '機場第二航廈', '13:30', '直達車'], [2, '機場第二航廈', '台北車站', '14:25', '直達車']], 'stations': ['台北車站', '三重', '新北產業園區', '新莊副都心', '泰山', '泰山貴和', '體育大學', '長庚醫院', '林口', '山鼻', '坑口', '機場第一航廈', '機場第二航廈'], 'telecom': 'CHT', 'protocol': 'UDP', 'length': [250, 'byte'], 'bitrate': [1, 'Mbps'], 'notes': ''}}\n",
      "2023-11-01\n",
      "{'UDP_Bandlock_9S_Phone_Airport': {'route': 'A', 'devices': {'sm00': 'All', 'sm01': 'All', 'sm02': 'B3', 'sm03': 'B7', 'sm04': 'B8', 'sm05': 'B3B7', 'sm06': 'B3B8', 'sm07': 'B7B8', 'sm08': 'LTE'}, 'ods': [[0, 'Origin Station', 'Destination Station', 'Departure Time', 'Notes'], [1, '台北車站', '機場第二航廈', '14:52', '普通車'], [2, '機場第二航廈', '台北車站', '16:04', '普通車']], 'stations': ['台北車站', '三重', '新北產業園區', '新莊副都心', '泰山', '泰山貴和', '體育大學', '長庚醫院', '林口', '山鼻', '坑口', '機場第一航廈', '機場第二航廈'], 'telecom': 'CHT', 'protocol': 'UDP', 'length': [250, 'byte'], 'bitrate': [1, 'Mbps'], 'notes': ''}}\n",
      "2023-11-02\n",
      "{'UDP_Bandlock_9S_Phone_Airport': {'route': 'A', 'devices': {'sm00': 'All', 'sm01': 'All', 'sm02': 'B3', 'sm03': 'B7', 'sm04': 'B8', 'sm05': 'B3B7', 'sm06': 'B3B8', 'sm07': 'B7B8', 'sm08': 'LTE'}, 'ods': [[0, 'Origin Station', 'Destination Station', 'Departure Time', 'Notes'], [1, '體育大學', '機場第二航廈', '16:45', '普通車'], [2, '機場第二航廈', '台北車站', '17:55', '直達車']], 'stations': ['台北車站', '三重', '新北產業園區', '新莊副都心', '泰山', '泰山貴和', '體育大學', '長庚醫院', '林口', '山鼻', '坑口', '機場第一航廈', '機場第二航廈'], 'telecom': 'CHT', 'protocol': 'UDP', 'length': [250, 'byte'], 'bitrate': [1, 'Mbps'], 'notes': ''}}\n",
      "2023-11-09\n",
      "{'UDP_Bandlock_9S_Phone_Brown': {'route': 'BR', 'devices': {'sm00': 'All', 'sm01': 'All', 'sm02': 'B3', 'sm03': 'B7', 'sm04': 'B8', 'sm05': 'B3B7', 'sm06': 'B3B8', 'sm07': 'B7B8', 'sm08': 'LTE'}, 'ods': [[0, 'Origin Station', 'Destination Station', 'Departure Time', 'Notes'], [1, '木柵', '南港展覽館', '12:21', ''], [2, '南港展覽館', '動物園', '13:41', '']], 'stations': ['動物園', '木柵', '萬芳社區', '萬芳醫院', '辛亥', '麟光', '六張犁', '科技大樓', '大安', '忠孝復興', '南京復興', '中山國中', '松山機場', '大直', '劍南路', '西湖', '港墘', '文德', '內湖', '大湖公園', '葫洲', '東湖', '南港軟體園區', '南港展覽館'], 'telecom': 'CHT', 'protocol': 'UDP', 'length': [250, 'byte'], 'bitrate': [1, 'Mbps'], 'notes': ''}}\n"
     ]
    }
   ],
   "source": [
    "import os\n",
    "import json\n",
    "\n",
    "# Specify root directory\n",
    "root_dir = \"/Users/jackbedford/Desktop/MOXA/Code/data\"\n",
    "\n",
    "# Collect dates\n",
    "dates = [s for s in sorted(os.listdir(root_dir)) if os.path.isdir(os.path.join(root_dir, s))]\n",
    "date_dirs = [os.path.join(root_dir, s) for s in dates]\n",
    "\n",
    "for date, date_dir in zip(dates, date_dirs):\n",
    "    # Specify the path to your JSON file\n",
    "    date = os.path.basename(date_dir)\n",
    "    json_filepath = os.path.join(date_dir, f'{date}.json')\n",
    "    \n",
    "    # Read the JSON file and load its contents into a dictionary\n",
    "    with open(json_filepath, 'r', encoding='utf-8') as json_file:\n",
    "        my_dict = json.load(json_file)\n",
    "        \n",
    "    print(date)\n",
    "    \n",
    "    for expr, item in my_dict.items():\n",
    "        print({expr: item})"
   ]
  },
  {
   "cell_type": "markdown",
   "metadata": {},
   "source": [
    "# Select Dates"
   ]
  },
  {
   "cell_type": "code",
   "execution_count": 29,
   "metadata": {},
   "outputs": [
    {
     "name": "stdout",
     "output_type": "stream",
     "text": [
      "2023-09-12\n",
      "{'UDP_Bandlock_9S_Phone_Brown': {'route': 'BR', 'devices': {'sm00': 'All', 'sm01': 'All', 'sm02': 'B3', 'sm03': 'B7', 'sm04': 'B8', 'sm05': 'B3B7', 'sm06': 'B3B8', 'sm07': 'B7B8', 'sm08': 'LTE'}, 'ods': [[0, 'Origin Station', 'Destination Station', 'Departure Time', 'Notes'], [1, '動物園', '南港展覽館', '13:34', '到木柵才想起要開GPS'], [2, '南港展覽館', '動物園', '14:52', '']], 'stations': ['動物園', '木柵', '萬芳社區', '萬芳醫院', '辛亥', '麟光', '六張犁', '科技大樓', '大安', '忠孝復興', '南京復興', '中山國中', '松山機場', '大直', '劍南路', '西湖', '港墘', '文德', '內湖', '大湖公園', '葫洲', '東湖', '南港軟體園區', '南港展覽館'], 'telecom': 'CHT', 'protocol': 'UDP', 'length': [250, 'byte'], 'bitrate': [1, 'Mbps'], 'notes': ''}}\n",
      "2023-09-21\n",
      "{'UDP_Bandlock_9S_Phone_Brown': {'route': 'BR', 'devices': {'sm00': 'All', 'sm01': 'All', 'sm02': 'B3', 'sm03': 'B7', 'sm04': 'B8', 'sm05': 'B3B7', 'sm06': 'B3B8', 'sm07': 'B7B8', 'sm08': 'LTE'}, 'ods': [[0, 'Origin Station', 'Destination Station', 'Departure Time', 'Notes'], [1, '動物園', '南港展覽館', '14:29', ''], [2, '南港展覽館', '動物園', '15:09', '']], 'stations': ['動物園', '木柵', '萬芳社區', '萬芳醫院', '辛亥', '麟光', '六張犁', '科技大樓', '大安', '忠孝復興', '南京復興', '中山國中', '松山機場', '大直', '劍南路', '西湖', '港墘', '文德', '內湖', '大湖公園', '葫洲', '東湖', '南港軟體園區', '南港展覽館'], 'telecom': 'CHT', 'protocol': 'UDP', 'length': [250, 'byte'], 'bitrate': [1, 'Mbps'], 'notes': ''}}\n",
      "2023-10-05\n",
      "{'UDP_Bandlock_9S_Phone_Green': {'route': 'G', 'devices': {'sm00': 'All', 'sm01': 'All', 'sm02': 'B3', 'sm03': 'B7', 'sm04': 'B8', 'sm05': 'B3B7', 'sm06': 'B3B8', 'sm07': 'B7B8', 'sm08': 'LTE'}, 'ods': [[0, 'Origin Station', 'Destination Station', 'Departure Time', 'Notes'], [1, '新店區公所', '松山', '14:24', '本來要在新店開始，但有點意外發生，不想回頭搭'], [2, '松山', '新店', '15:14', '']], 'stations': ['新店', '新店區公所', '七張', '大坪林', '景美', '萬隆', '公館', '台電大樓', '古亭', '中正紀念堂', '小南門', '西門', '北門', '中山', '松江南京', '南京復興', '台北小巨蛋', '南京三民', '松山'], 'telecom': 'CHT', 'protocol': 'UDP', 'length': [250, 'byte'], 'bitrate': [1, 'Mbps'], 'notes': ''}}\n",
      "2023-10-19\n",
      "{'UDP_Bandlock_9S_Phone_Red': {'route': 'R', 'devices': {'sm00': 'All', 'sm01': 'All', 'sm02': 'B3', 'sm03': 'B7', 'sm04': 'B8', 'sm05': 'B3B7', 'sm06': 'B3B8', 'sm07': 'B7B8', 'sm08': 'LTE'}, 'ods': [[0, 'Origin Station', 'Destination Station', 'Departure Time', 'Notes'], [1, '象山', '淡水', '14:37', ''], [2, '淡水', '象山', '15:54', '']], 'stations': ['象山', '台北101/世貿', '信義安和', '大安', '大安森林公園', '東門', '中正紀念堂', '台大醫院', '台北車站', '中山', '雙連', '民權西路', '圓山', '劍潭', '士林', '芝山', '明德', '石牌', '唭哩岸', '奇岩', '北投', '復興崗', '忠義', '關渡', '竹圍', '紅樹林', '淡水'], 'telecom': 'CHT', 'protocol': 'UDP', 'length': [250, 'byte'], 'bitrate': [1, 'Mbps'], 'notes': ''}}\n",
      "2023-10-26\n",
      "{'UDP_Bandlock_9S_Phone_Airport': {'route': 'A', 'devices': {'sm00': 'All', 'sm01': 'All', 'sm02': 'B3', 'sm03': 'B7', 'sm04': 'B8', 'sm05': 'B3B7', 'sm06': 'B3B8', 'sm07': 'B7B8', 'sm08': 'LTE'}, 'ods': [[0, 'Origin Station', 'Destination Station', 'Departure Time', 'Notes'], [1, '台北車站', '機場第二航廈', '13:30', '直達車'], [2, '機場第二航廈', '台北車站', '14:25', '直達車']], 'stations': ['台北車站', '三重', '新北產業園區', '新莊副都心', '泰山', '泰山貴和', '體育大學', '長庚醫院', '林口', '山鼻', '坑口', '機場第一航廈', '機場第二航廈'], 'telecom': 'CHT', 'protocol': 'UDP', 'length': [250, 'byte'], 'bitrate': [1, 'Mbps'], 'notes': ''}}\n",
      "2023-11-01\n",
      "{'UDP_Bandlock_9S_Phone_Airport': {'route': 'A', 'devices': {'sm00': 'All', 'sm01': 'All', 'sm02': 'B3', 'sm03': 'B7', 'sm04': 'B8', 'sm05': 'B3B7', 'sm06': 'B3B8', 'sm07': 'B7B8', 'sm08': 'LTE'}, 'ods': [[0, 'Origin Station', 'Destination Station', 'Departure Time', 'Notes'], [1, '台北車站', '機場第二航廈', '14:52', '普通車'], [2, '機場第二航廈', '台北車站', '16:04', '普通車']], 'stations': ['台北車站', '三重', '新北產業園區', '新莊副都心', '泰山', '泰山貴和', '體育大學', '長庚醫院', '林口', '山鼻', '坑口', '機場第一航廈', '機場第二航廈'], 'telecom': 'CHT', 'protocol': 'UDP', 'length': [250, 'byte'], 'bitrate': [1, 'Mbps'], 'notes': ''}}\n",
      "2023-11-02\n",
      "{'UDP_Bandlock_9S_Phone_Airport': {'route': 'A', 'devices': {'sm00': 'All', 'sm01': 'All', 'sm02': 'B3', 'sm03': 'B7', 'sm04': 'B8', 'sm05': 'B3B7', 'sm06': 'B3B8', 'sm07': 'B7B8', 'sm08': 'LTE'}, 'ods': [[0, 'Origin Station', 'Destination Station', 'Departure Time', 'Notes'], [1, '體育大學', '機場第二航廈', '16:45', '普通車'], [2, '機場第二航廈', '台北車站', '17:55', '直達車']], 'stations': ['台北車站', '三重', '新北產業園區', '新莊副都心', '泰山', '泰山貴和', '體育大學', '長庚醫院', '林口', '山鼻', '坑口', '機場第一航廈', '機場第二航廈'], 'telecom': 'CHT', 'protocol': 'UDP', 'length': [250, 'byte'], 'bitrate': [1, 'Mbps'], 'notes': ''}}\n",
      "2023-11-09\n",
      "{'UDP_Bandlock_9S_Phone_Brown': {'route': 'BR', 'devices': {'sm00': 'All', 'sm01': 'All', 'sm02': 'B3', 'sm03': 'B7', 'sm04': 'B8', 'sm05': 'B3B7', 'sm06': 'B3B8', 'sm07': 'B7B8', 'sm08': 'LTE'}, 'ods': [[0, 'Origin Station', 'Destination Station', 'Departure Time', 'Notes'], [1, '木柵', '南港展覽館', '12:21', ''], [2, '南港展覽館', '動物園', '13:41', '']], 'stations': ['動物園', '木柵', '萬芳社區', '萬芳醫院', '辛亥', '麟光', '六張犁', '科技大樓', '大安', '忠孝復興', '南京復興', '中山國中', '松山機場', '大直', '劍南路', '西湖', '港墘', '文德', '內湖', '大湖公園', '葫洲', '東湖', '南港軟體園區', '南港展覽館'], 'telecom': 'CHT', 'protocol': 'UDP', 'length': [250, 'byte'], 'bitrate': [1, 'Mbps'], 'notes': ''}}\n"
     ]
    }
   ],
   "source": [
    "sel_dates = dates[-8:]\n",
    "date_dirs = [os.path.join(root_dir, s) for s in sel_dates]\n",
    "\n",
    "for date_dir in date_dirs:\n",
    "    # Specify the path to your JSON file\n",
    "    date = os.path.basename(date_dir)\n",
    "    json_filepath = os.path.join(date_dir, f'{date}.json')\n",
    "    \n",
    "    # Read the JSON file and load its contents into a dictionary\n",
    "    with open(json_filepath, 'r', encoding='utf-8') as json_file:\n",
    "        my_dict = json.load(json_file)\n",
    "    \n",
    "    print(date)\n",
    "    \n",
    "    for expr, item in my_dict.items():\n",
    "        print({expr: item})\n",
    "        \n",
    "        devices = list(item['devices'].keys())\n",
    "        trips = ['#{:02d}'.format(s[0]) for s in item['ods'][1:]]\n",
    "        for dev in devices:\n",
    "            for trip in trips:\n",
    "                trip_dir = os.path.join(date_dir, expr, dev, trip, 'data')\n",
    "                # print(trip_dir, os.path.isdir(trip_dir))"
   ]
  },
  {
   "cell_type": "markdown",
   "metadata": {},
   "source": [
    "# Specify Route"
   ]
  },
  {
   "cell_type": "code",
   "execution_count": 31,
   "metadata": {},
   "outputs": [
    {
     "name": "stdout",
     "output_type": "stream",
     "text": [
      "2023-09-12\n",
      "{'UDP_Bandlock_9S_Phone_Brown': {'route': 'BR', 'devices': {'sm00': 'All', 'sm01': 'All', 'sm02': 'B3', 'sm03': 'B7', 'sm04': 'B8', 'sm05': 'B3B7', 'sm06': 'B3B8', 'sm07': 'B7B8', 'sm08': 'LTE'}, 'ods': [[0, 'Origin Station', 'Destination Station', 'Departure Time', 'Notes'], [1, '動物園', '南港展覽館', '13:34', '到木柵才想起要開GPS'], [2, '南港展覽館', '動物園', '14:52', '']], 'stations': ['動物園', '木柵', '萬芳社區', '萬芳醫院', '辛亥', '麟光', '六張犁', '科技大樓', '大安', '忠孝復興', '南京復興', '中山國中', '松山機場', '大直', '劍南路', '西湖', '港墘', '文德', '內湖', '大湖公園', '葫洲', '東湖', '南港軟體園區', '南港展覽館'], 'telecom': 'CHT', 'protocol': 'UDP', 'length': [250, 'byte'], 'bitrate': [1, 'Mbps'], 'notes': ''}}\n",
      "2023-09-21\n",
      "{'UDP_Bandlock_9S_Phone_Brown': {'route': 'BR', 'devices': {'sm00': 'All', 'sm01': 'All', 'sm02': 'B3', 'sm03': 'B7', 'sm04': 'B8', 'sm05': 'B3B7', 'sm06': 'B3B8', 'sm07': 'B7B8', 'sm08': 'LTE'}, 'ods': [[0, 'Origin Station', 'Destination Station', 'Departure Time', 'Notes'], [1, '動物園', '南港展覽館', '14:29', ''], [2, '南港展覽館', '動物園', '15:09', '']], 'stations': ['動物園', '木柵', '萬芳社區', '萬芳醫院', '辛亥', '麟光', '六張犁', '科技大樓', '大安', '忠孝復興', '南京復興', '中山國中', '松山機場', '大直', '劍南路', '西湖', '港墘', '文德', '內湖', '大湖公園', '葫洲', '東湖', '南港軟體園區', '南港展覽館'], 'telecom': 'CHT', 'protocol': 'UDP', 'length': [250, 'byte'], 'bitrate': [1, 'Mbps'], 'notes': ''}}\n",
      "2023-10-05\n",
      "2023-10-19\n",
      "2023-10-26\n",
      "2023-11-01\n",
      "2023-11-02\n",
      "2023-11-09\n",
      "{'UDP_Bandlock_9S_Phone_Brown': {'route': 'BR', 'devices': {'sm00': 'All', 'sm01': 'All', 'sm02': 'B3', 'sm03': 'B7', 'sm04': 'B8', 'sm05': 'B3B7', 'sm06': 'B3B8', 'sm07': 'B7B8', 'sm08': 'LTE'}, 'ods': [[0, 'Origin Station', 'Destination Station', 'Departure Time', 'Notes'], [1, '木柵', '南港展覽館', '12:21', ''], [2, '南港展覽館', '動物園', '13:41', '']], 'stations': ['動物園', '木柵', '萬芳社區', '萬芳醫院', '辛亥', '麟光', '六張犁', '科技大樓', '大安', '忠孝復興', '南京復興', '中山國中', '松山機場', '大直', '劍南路', '西湖', '港墘', '文德', '內湖', '大湖公園', '葫洲', '東湖', '南港軟體園區', '南港展覽館'], 'telecom': 'CHT', 'protocol': 'UDP', 'length': [250, 'byte'], 'bitrate': [1, 'Mbps'], 'notes': ''}}\n"
     ]
    }
   ],
   "source": [
    "sel_dates = dates[-8:]\n",
    "date_dirs = [os.path.join(root_dir, s) for s in sel_dates]\n",
    "\n",
    "for date_dir in date_dirs:\n",
    "    # Specify the path to your JSON file\n",
    "    date = os.path.basename(date_dir)\n",
    "    json_filepath = os.path.join(date_dir, f'{date}.json')\n",
    "    \n",
    "    # Read the JSON file and load its contents into a dictionary\n",
    "    with open(json_filepath, 'r', encoding='utf-8') as json_file:\n",
    "        my_dict = json.load(json_file)\n",
    "    \n",
    "    print(date)\n",
    "    \n",
    "    for expr, item in my_dict.items():\n",
    "        if item['route'] != 'BR':\n",
    "            continue\n",
    "        \n",
    "        print({expr: item})\n",
    "        \n",
    "        devices = list(item['devices'].keys())\n",
    "        trips = ['#{:02d}'.format(s[0]) for s in item['ods'][1:]]\n",
    "        for dev in devices:\n",
    "            for trip in trips:\n",
    "                trip_dir = os.path.join(date_dir, expr, dev, trip, 'data')\n",
    "                # print(trip_dir, os.path.isdir(trip_dir))"
   ]
  },
  {
   "cell_type": "code",
   "execution_count": null,
   "metadata": {},
   "outputs": [],
   "source": []
  },
  {
   "cell_type": "code",
   "execution_count": null,
   "metadata": {},
   "outputs": [],
   "source": []
  },
  {
   "cell_type": "code",
   "execution_count": null,
   "metadata": {},
   "outputs": [],
   "source": []
  },
  {
   "cell_type": "code",
   "execution_count": null,
   "metadata": {},
   "outputs": [],
   "source": []
  }
 ],
 "metadata": {
  "kernelspec": {
   "display_name": "moxa",
   "language": "python",
   "name": "python3"
  },
  "language_info": {
   "codemirror_mode": {
    "name": "ipython",
    "version": 3
   },
   "file_extension": ".py",
   "mimetype": "text/x-python",
   "name": "python",
   "nbconvert_exporter": "python",
   "pygments_lexer": "ipython3",
   "version": "3.8.16"
  }
 },
 "nbformat": 4,
 "nbformat_minor": 2
}
