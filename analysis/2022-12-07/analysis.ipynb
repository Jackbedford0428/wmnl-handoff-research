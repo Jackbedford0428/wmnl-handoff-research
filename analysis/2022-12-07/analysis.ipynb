{
 "cells": [
  {
   "cell_type": "code",
   "execution_count": null,
   "metadata": {},
   "outputs": [],
   "source": [
    "import os\n",
    "import sys\n",
    "import argparse\n",
    "import csv\n",
    "import pandas as pd\n",
    "import datetime as dt\n",
    "import numpy as np\n",
    "from pprint import pprint\n",
    "from tqdm import tqdm\n",
    "from pytictoc import TicToc\n",
    "import traceback\n",
    "from statistics import median\n",
    "from statistics import mean\n",
    "from statistics import mode\n",
    "from statistics import stdev\n",
    "from scipy import stats\n",
    "from scipy import signal\n",
    "import portion as P\n",
    "\n",
    "# ******************************* User Settings *******************************\n",
    "database = \"/home/wmnlab/D/database/\"\n",
    "date = \"2022-11-29\"\n",
    "devices = sorted([\n",
    "    # \"sm00\",\n",
    "    # \"sm01\",\n",
    "    # \"sm02\",\n",
    "    # \"sm03\",\n",
    "    # \"sm04\",\n",
    "    \"sm05\",\n",
    "    \"sm06\",\n",
    "    \"sm07\",\n",
    "    \"sm08\",\n",
    "    # \"qc00\",\n",
    "    # \"qc01\",\n",
    "    # \"qc02\",\n",
    "    # \"qc03\",\n",
    "])\n",
    "exps = {  # experiment_name: (number_of_experiment_rounds, list_of_experiment_round)\n",
    "            # If the list is None, it will not list as directories.\n",
    "            # If the list is empty, it will list all directories in the current directory by default.\n",
    "            # If the number of experiment times != the length of existing directories of list, it would trigger warning and skip the directory.\n",
    "    # \"tsync\": (1, None),\n",
    "    # \"_Bandlock_Udp\": (4, [\"#01\", \"#02\", \"#03\", \"#04\"]),\n",
    "    # \"_Bandlock_Udp\": (4, [\"#03\", \"#04\", \"#05\", \"#06\"]),\n",
    "    # \"_Bandlock_Udp\": (4, []),\n",
    "    # \"_Bandlock_Udp\": (6, []),\n",
    "    # \"_Bandlock_Udp_B1_B3\":  (1, [\"#01\"]),\n",
    "    \"_Bandlock_Udp_B1_B3\":  (4, []),\n",
    "    \"_Bandlock_Udp_B3_B28\": (4, []),\n",
    "    \"_Bandlock_Udp_B28_B1\": (4, []),\n",
    "}\n",
    "\n",
    "class Payload:\n",
    "    LENGTH = 250              # (Bytes)\n",
    "    TAG = \"000425d401df5e76\"  # 2 71828 3 1415926 (hex)            : 8-bytes\n",
    "    OFS_TIME = (16, 24)       # epoch time of 'yyyy/mm/dd hh:mm:ss': 4-bytes\n",
    "    OFS_USEC = (24, 32)       # microsecond (usec)                 : 4-bytes\n",
    "    OFS_SEQN = (32, 40)       # sequence number (start from 1)     : 4-bytes\n",
    "class ServerIP:\n",
    "    PUBLIC = \"140.112.20.183\"  # 2F    \n",
    "    PRIVATE = \"192.168.1.251\"  # 2F\n",
    "    # PRIVATE = \"192.168.1.248\"  # 2F previous\n",
    "    # PUBLIC = \"140.112.17.209\"  # 3F\n",
    "    # PRIVATE = \"192.168.1.108\"  # 3F\n",
    "\n",
    "DATA_RATE = 1000e3  # bits-per-second\n",
    "PKT_RATE = DATA_RATE / Payload.LENGTH / 8  # packets-per-second\n",
    "print(\"packet_rate (pps):\", PKT_RATE, \"\\n\")\n",
    "# *****************************************************************************"
   ]
  },
  {
   "cell_type": "code",
   "execution_count": 1,
   "metadata": {},
   "outputs": [
    {
     "ename": "NameError",
     "evalue": "name 'df_ulloss' is not defined",
     "output_type": "error",
     "traceback": [
      "\u001b[0;31m---------------------------------------------------------------------------\u001b[0m",
      "\u001b[0;31mNameError\u001b[0m                                 Traceback (most recent call last)",
      "Cell \u001b[0;32mIn [1], line 1\u001b[0m\n\u001b[0;32m----> 1\u001b[0m df_ulloss\n\u001b[1;32m      2\u001b[0m df_ullatn\n\u001b[1;32m      3\u001b[0m df_dlloss\n",
      "\u001b[0;31mNameError\u001b[0m: name 'df_ulloss' is not defined"
     ]
    }
   ],
   "source": [
    "df_ulloss = pd.read_csv(os.path.join(database, date, expr, dev, trace, \"data\", \"udp_uplk_loss_timestamp.csv\"))\n",
    "df_ullatn = \n",
    "df_dlloss\n",
    "df_dllatn"
   ]
  },
  {
   "cell_type": "code",
   "execution_count": null,
   "metadata": {},
   "outputs": [],
   "source": []
  }
 ],
 "metadata": {
  "kernelspec": {
   "display_name": "Python 3.8.10 64-bit",
   "language": "python",
   "name": "python3"
  },
  "language_info": {
   "codemirror_mode": {
    "name": "ipython",
    "version": 3
   },
   "file_extension": ".py",
   "mimetype": "text/x-python",
   "name": "python",
   "nbconvert_exporter": "python",
   "pygments_lexer": "ipython3",
   "version": "3.8.10"
  },
  "orig_nbformat": 4,
  "vscode": {
   "interpreter": {
    "hash": "31f2aee4e71d21fbe5cf8b01ff0e069b9275f58929596ceb00d14d90e3e16cd6"
   }
  }
 },
 "nbformat": 4,
 "nbformat_minor": 2
}
