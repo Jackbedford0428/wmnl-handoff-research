{
 "cells": [
  {
   "attachments": {},
   "cell_type": "markdown",
   "metadata": {},
   "source": [
    "# Import Modules"
   ]
  },
  {
   "cell_type": "code",
   "execution_count": 1,
   "metadata": {},
   "outputs": [],
   "source": [
    "import os, sys\n",
    "import pandas as pd\n",
    "import numpy as np\n",
    "import datetime as dt\n",
    "from pprint import pprint\n",
    "import csv\n",
    "import itertools as it\n",
    "from prettytable import PrettyTable\n",
    "import matplotlib.pylab as plt\n",
    "import seaborn as sns\n",
    "\n",
    "pdir = os.path.abspath(os.path.join(os.getcwd(), '..'))  # for jupyter-notebook\n",
    "sys.path.insert(1, pdir)\n",
    "from myutils import *\n",
    "\n",
    "%config InlineBackend.figure_format = 'retina'  # 提高 jupyter notebook 的圖形顯示解析度\n",
    "# plt.style.use('ggplot')\n",
    "\n",
    "pd.set_option('display.max_columns', 200)\n",
    "# pd.set_option('display.max_rows', 200)\n",
    "\n",
    "datadir = \"/Users/jackbedford/Desktop/MOXA/Code/data\"\n",
    "exp = \"_Bandlock_Udp_B1_B3_B7_B8_RM500Q\"\n",
    "devices = [\n",
    "    'qc00',\n",
    "    'qc01',\n",
    "    'qc02',\n",
    "    'qc03',\n",
    "]\n",
    "schemes = [\n",
    "    'B1',\n",
    "    'B3',\n",
    "    'B7',\n",
    "    'B8',\n",
    "]\n",
    "dates = {\n",
    "    \"2023-03-15\": [*['#{:02d}'.format(i+1) for i in range(1, 4)], '#06'],\n",
    "    \"2023-03-16\": ['#{:02d}'.format(i+1) for i in range(16)],\n",
    "}"
   ]
  },
  {
   "cell_type": "code",
   "execution_count": null,
   "metadata": {},
   "outputs": [],
   "source": []
  }
 ],
 "metadata": {
  "kernelspec": {
   "display_name": "moxa",
   "language": "python",
   "name": "python3"
  },
  "language_info": {
   "codemirror_mode": {
    "name": "ipython",
    "version": 3
   },
   "file_extension": ".py",
   "mimetype": "text/x-python",
   "name": "python",
   "nbconvert_exporter": "python",
   "pygments_lexer": "ipython3",
   "version": "3.8.16"
  },
  "orig_nbformat": 4
 },
 "nbformat": 4,
 "nbformat_minor": 2
}
