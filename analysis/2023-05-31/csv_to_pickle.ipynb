{
 "cells": [
  {
   "cell_type": "code",
   "execution_count": null,
   "metadata": {},
   "outputs": [],
   "source": [
    "import os\n",
    "import sys\n",
    "import ast\n",
    "from pprint import pprint\n",
    "import pandas as pd\n",
    "import matplotlib.pylab as plt\n",
    "import matplotlib\n",
    "import numpy as np\n",
    "import datetime as dt\n",
    "%config InlineBackend.figure_format = 'retina'  # 提高 jupyter notebook 的圖形顯示解析度"
   ]
  },
  {
   "cell_type": "code",
   "execution_count": null,
   "metadata": {},
   "outputs": [],
   "source": [
    "root = '/home/wmnlab/D/database'\n",
    "root = '/Users/jackbedford/Desktop/MOXA/Code/data'\n",
    "paths = [s for s in os.listdir(root) if s.startswith('202')]\n",
    "\n",
    "md_files = []\n",
    "\n",
    "for date_dir in paths:\n",
    "    datedir = os.path.join(root, date_dir)\n",
    "    md_file = [os.path.join(datedir, s) for s in os.listdir(datedir) if s.endswith('.md')]\n",
    "    md_files += md_file\n",
    "\n",
    "md_files = sorted(md_files)\n",
    "\n",
    "# Select dates\n",
    "# md_files = md_files[:-1]\n",
    "# md_files = [md_files[2]]\n",
    "\n",
    "pprint(md_files)"
   ]
  }
 ],
 "metadata": {
  "language_info": {
   "name": "python"
  },
  "orig_nbformat": 4
 },
 "nbformat": 4,
 "nbformat_minor": 2
}
