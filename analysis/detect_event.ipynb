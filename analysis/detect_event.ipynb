{
 "cells": [
  {
   "cell_type": "code",
   "execution_count": null,
   "metadata": {},
   "outputs": [],
   "source": [
    "import os\n",
    "from os.path import isdir, isfile\n",
    "import pandas as pd\n",
    "\n",
    "def detect_event(filepath, tags):\n",
    "    # fp = open(filepath, 'r')\n",
    "    # lines = fp.readlines()  # neglect '\\n' when reading the file\n",
    "    # for i, line in enumerate(lines):\n",
    "    #     for tag in tags:\n",
    "    #         if tag in line:\n",
    "    #             print(f'{filepath}: line {i}')\n",
    "    #             print(line)\n",
    "    df = pd.read_pickle(filepath)\n",
    "    with pd.option_context('display.max_columns', None):\n",
    "        for tag in tags:\n",
    "            display(df[df['ho_type'] == tag])\n",
    "\n",
    "def dfs(visited, node, filetags, tags, level=0):  # function for dfs\n",
    "    if node in visited:\n",
    "        return\n",
    "    visited.add(node)\n",
    "    ### TODO: 'node' is an absolute pathname (string) for a file or a directory.\n",
    "    if os.path.basename(node).startswith(filetags):\n",
    "        detect_event(node, tags)\n",
    "    ### TODO END\n",
    "    if isfile(node):\n",
    "        return\n",
    "    children = [os.path.join(node, s) for s in sorted(os.listdir(node))]\n",
    "    for child in children:\n",
    "        dfs(visited, child, filetags, tags, level+1)\n",
    "    ### print message in the end\n",
    "    if level == 0:\n",
    "        print(\"**********************************************************************\")"
   ]
  },
  {
   "cell_type": "code",
   "execution_count": null,
   "metadata": {},
   "outputs": [],
   "source": [
    "root = \"/Users/jackbedford/Desktop/MOXA/Code/data\"\n",
    "visited = set()  # Set to keep track of visited nodes of graph (tree).\n",
    "dfs(visited, root, filetags=('udp_dnlk_loss_latency_ho.pkl', 'udp_uplk_loss_latency_ho.pkl'), tags=['SCG_Failure'])"
   ]
  },
  {
   "cell_type": "code",
   "execution_count": null,
   "metadata": {},
   "outputs": [],
   "source": []
  }
 ],
 "metadata": {
  "kernelspec": {
   "display_name": "Python 3",
   "language": "python",
   "name": "python3"
  },
  "language_info": {
   "codemirror_mode": {
    "name": "ipython",
    "version": 3
   },
   "file_extension": ".py",
   "mimetype": "text/x-python",
   "name": "python",
   "nbconvert_exporter": "python",
   "pygments_lexer": "ipython3",
   "version": "3.8.16"
  },
  "orig_nbformat": 4,
  "vscode": {
   "interpreter": {
    "hash": "31f2aee4e71d21fbe5cf8b01ff0e069b9275f58929596ceb00d14d90e3e16cd6"
   }
  }
 },
 "nbformat": 4,
 "nbformat_minor": 2
}
