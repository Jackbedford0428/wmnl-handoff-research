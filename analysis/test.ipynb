{
 "cells": [
  {
   "cell_type": "code",
   "execution_count": 1,
   "metadata": {},
   "outputs": [],
   "source": [
    "import os\n",
    "import pandas as pd\n",
    "import datetime as dt\n",
    "import numpy as np\n",
    "from pytictoc import TicToc\n",
    "import swifter"
   ]
  },
  {
   "cell_type": "code",
   "execution_count": 26,
   "metadata": {},
   "outputs": [
    {
     "name": "stdout",
     "output_type": "stream",
     "text": [
      "Elapsed time is 0.088621 seconds.\n",
      "Elapsed time is 21.659645 seconds.\n",
      "Elapsed time is 0.253080 seconds.\n"
     ]
    }
   ],
   "source": [
    "### https://github.com/jmcarpenter2/swifter\n",
    "### https://towardsdatascience.com/do-you-use-apply-in-pandas-there-is-a-600x-faster-way-d2497facfa66\n",
    "### https://stackoverflow.com/questions/52673285/performance-of-pandas-apply-vs-np-vectorize-to-create-new-column-from-existing-c\n",
    "### https://towardsdatascience.com/efficient-pandas-apply-vs-vectorized-operations-91ca17669e84\n",
    "\n",
    "## Use plain data leveraging\n",
    "df = pd.read_csv(\"/home/wmnlab/D/database/2022-11-29/_Bandlock_Udp_B28_B1/sm05/#01/data/udp_dnlk_latency.csv\")\n",
    "t = TicToc()\n",
    "t.tic()\n",
    "df['Timestamp'] = pd.to_datetime(df['Timestamp'])\n",
    "df['payload.time'] = pd.to_datetime(df['payload.time'])\n",
    "df['transmit.time'] = pd.to_datetime(df['transmit.time'])\n",
    "t.toc()\n",
    "\n",
    "## Use apply()\n",
    "df = pd.read_csv(\"/home/wmnlab/D/database/2022-11-29/_Bandlock_Udp_B28_B1/sm05/#01/data/udp_dnlk_latency.csv\")\n",
    "t = TicToc()\n",
    "t.tic()\n",
    "df['Timestamp'] = df['Timestamp'].apply(lambda x: pd.to_datetime(x))\n",
    "df['payload.time'] = df['payload.time'].apply(lambda x: pd.to_datetime(x))\n",
    "df['transmit.time'] = df['transmit.time'].apply(lambda x: pd.to_datetime(x))\n",
    "t.toc()\n",
    "\n",
    "## Use swifter.apply()\n",
    "df = pd.read_csv(\"/home/wmnlab/D/database/2022-11-29/_Bandlock_Udp_B28_B1/sm05/#01/data/udp_dnlk_latency.csv\")\n",
    "t = TicToc()\n",
    "t.tic()\n",
    "df['Timestamp'] = df['Timestamp'].swifter.apply(lambda x: pd.to_datetime(x))\n",
    "df['payload.time'] = df['payload.time'].swifter.apply(lambda x: pd.to_datetime(x))\n",
    "df['transmit.time'] = df['transmit.time'].swifter.apply(lambda x: pd.to_datetime(x))\n",
    "t.toc()"
   ]
  },
  {
   "cell_type": "code",
   "execution_count": 27,
   "metadata": {},
   "outputs": [
    {
     "name": "stdout",
     "output_type": "stream",
     "text": [
      "Elapsed time is 0.679569 seconds.\n",
      "Elapsed time is 2.049087 seconds.\n",
      "Elapsed time is 0.334880 seconds.\n",
      "Elapsed time is 1.477819 seconds.\n",
      "<class 'pandas.core.arrays.numpy_.PandasArray'>\n",
      "Elapsed time is 0.672899 seconds.\n",
      "<class 'numpy.ndarray'>\n",
      "Elapsed time is 0.680093 seconds.\n",
      "<class 'list'>\n",
      "Elapsed time is 0.671691 seconds.\n"
     ]
    }
   ],
   "source": [
    "### https://stackoverflow.com/questions/28757389/pandas-loc-vs-iloc-vs-at-vs-iat\n",
    "### https://stackoverflow.com/questions/37757844/pandas-df-locz-x-y-how-to-improve-speed\n",
    "\n",
    "## Use loc()\n",
    "df = pd.read_csv(\"/home/wmnlab/D/database/2022-11-29/_Bandlock_Udp_B28_B1/sm05/#01/data/udp_dnlk_latency.csv\")\n",
    "t = TicToc()\n",
    "t.tic()\n",
    "for i in range(len(df)):\n",
    "    z = df.loc[i, 'Timestamp']\n",
    "t.toc()\n",
    "\n",
    "## Use iloc()\n",
    "df = pd.read_csv(\"/home/wmnlab/D/database/2022-11-29/_Bandlock_Udp_B28_B1/sm05/#01/data/udp_dnlk_latency.csv\")\n",
    "t = TicToc()\n",
    "t.tic()\n",
    "for i in range(len(df)):\n",
    "    z = df.iloc[i, df.columns.get_loc('Timestamp')]\n",
    "t.toc()\n",
    "\n",
    "## Use at()\n",
    "df = pd.read_csv(\"/home/wmnlab/D/database/2022-11-29/_Bandlock_Udp_B28_B1/sm05/#01/data/udp_dnlk_latency.csv\")\n",
    "t = TicToc()\n",
    "t.tic()\n",
    "for i in range(len(df)):\n",
    "    z = df.at[i, 'Timestamp']\n",
    "t.toc()\n",
    "\n",
    "## Use iat()\n",
    "df = pd.read_csv(\"/home/wmnlab/D/database/2022-11-29/_Bandlock_Udp_B28_B1/sm05/#01/data/udp_dnlk_latency.csv\")\n",
    "t = TicToc()\n",
    "t.tic()\n",
    "for i in range(len(df)):\n",
    "    z = df.iat[i, df.columns.get_loc('Timestamp')]\n",
    "t.toc()\n",
    "\n",
    "### https://stackoverflow.com/questions/13187778/convert-pandas-dataframe-to-numpy-array\n",
    "\n",
    "## Use PandasArray\n",
    "df = pd.read_csv(\"/home/wmnlab/D/database/2022-11-29/_Bandlock_Udp_B28_B1/sm05/#01/data/udp_dnlk_latency.csv\")\n",
    "t = TicToc()\n",
    "t.tic()\n",
    "arr = df['Timestamp'].array\n",
    "print(type(arr))\n",
    "for i in range(len(arr)):\n",
    "    z = df.loc[i, 'Timestamp']\n",
    "t.toc()\n",
    "\n",
    "## Use numpy.ndarray\n",
    "df = pd.read_csv(\"/home/wmnlab/D/database/2022-11-29/_Bandlock_Udp_B28_B1/sm05/#01/data/udp_dnlk_latency.csv\")\n",
    "t = TicToc()\n",
    "t.tic()\n",
    "arr = df['Timestamp'].to_numpy()\n",
    "print(type(arr))\n",
    "for i in range(len(arr)):\n",
    "    z = df.loc[i, 'Timestamp']\n",
    "t.toc()\n",
    "\n",
    "## Use list\n",
    "df = pd.read_csv(\"/home/wmnlab/D/database/2022-11-29/_Bandlock_Udp_B28_B1/sm05/#01/data/udp_dnlk_latency.csv\")\n",
    "t = TicToc()\n",
    "t.tic()\n",
    "arr = df['Timestamp'].tolist()\n",
    "print(type(arr))\n",
    "for i in range(len(arr)):\n",
    "    z = df.loc[i, 'Timestamp']\n",
    "t.toc()"
   ]
  },
  {
   "cell_type": "code",
   "execution_count": 35,
   "metadata": {},
   "outputs": [
    {
     "name": "stdout",
     "output_type": "stream",
     "text": [
      "Elapsed time is 0.010688 seconds.\n",
      "Elapsed time is 0.007603 seconds.\n",
      "Elapsed time is 0.004830 seconds.\n",
      "Elapsed time is 0.005798 seconds.\n"
     ]
    }
   ],
   "source": [
    "### https://stackoverflow.com/questions/16327055/how-to-add-an-empty-column-to-a-dataframe\n",
    "\n",
    "df = pd.read_csv(\"/home/wmnlab/D/database/2022-11-29/_Bandlock_Udp_B28_B1/sm05/#01/data/udp_dnlk_latency.csv\")\n",
    "t = TicToc()\n",
    "t.tic()\n",
    "df = df.reindex(df.columns.tolist() + ['newcol1', 'newcol2'], axis=1)\n",
    "# print(df['newcol1'])\n",
    "t.toc()\n",
    "\n",
    "df = pd.read_csv(\"/home/wmnlab/D/database/2022-11-29/_Bandlock_Udp_B28_B1/sm05/#01/data/udp_dnlk_latency.csv\")\n",
    "t = TicToc()\n",
    "t.tic()\n",
    "df['newcol'] = pd.Series(dtype=int)\n",
    "# print(df['newcol'])\n",
    "t.toc()\n",
    "\n",
    "df = pd.read_csv(\"/home/wmnlab/D/database/2022-11-29/_Bandlock_Udp_B28_B1/sm05/#01/data/udp_dnlk_latency.csv\")\n",
    "t = TicToc()\n",
    "t.tic()\n",
    "df['newcol'] = pd.Series(dtype=float)\n",
    "# print(df['newcol'])\n",
    "t.toc()\n",
    "\n",
    "df = pd.read_csv(\"/home/wmnlab/D/database/2022-11-29/_Bandlock_Udp_B28_B1/sm05/#01/data/udp_dnlk_latency.csv\")\n",
    "t = TicToc()\n",
    "t.tic()\n",
    "df['newcol'] = pd.Series(dtype=object)\n",
    "# print(df['newcol'])\n",
    "t.toc()"
   ]
  },
  {
   "cell_type": "code",
   "execution_count": 38,
   "metadata": {},
   "outputs": [
    {
     "name": "stdout",
     "output_type": "stream",
     "text": [
      "2022-11-29 17:45:13.329881\n",
      "Elapsed time is 8.761624 seconds.\n",
      "2022-11-29 17:45:13.329881\n",
      "Elapsed time is 1.133898 seconds.\n"
     ]
    }
   ],
   "source": [
    "### https://stackoverflow.com/questions/42274253/speed-up-dataframe-loc\n",
    "\n",
    "def epoch_to_utc8(ts):\n",
    "    \"\"\"\n",
    "    Convert an epoch time into a readable format.\n",
    "    Switch from utc-0 into utc-8.\n",
    "    \n",
    "    Args:\n",
    "        ts (float): timestamp composed of datetimedec + microsecond (e.g., 1644051509.989306)\n",
    "    Returns:\n",
    "        (datetime.datetime): a readable timestamp (utc-8)\n",
    "    \"\"\"\n",
    "    return (dt.datetime.utcfromtimestamp(ts) + dt.timedelta(hours=8))\n",
    "\n",
    "# Use loc()\n",
    "df = pd.read_csv(\"/home/wmnlab/D/database/2022-11-29/_Bandlock_Udp_B28_B1/sm05/#01/data/udp_dnlk_latency.csv\")\n",
    "t = TicToc()\n",
    "t.tic()\n",
    "df['newcol'] = pd.Series(dtype=object)\n",
    "for i in range(len(df)):\n",
    "    z = df.loc[i, 'Timestamp_epoch']\n",
    "    df.loc[i, 'newcol'] = epoch_to_utc8(z)\n",
    "print(df.loc[len(df)-1, 'newcol'])\n",
    "t.toc()\n",
    "\n",
    "## Use iloc()\n",
    "df = pd.read_csv(\"/home/wmnlab/D/database/2022-11-29/_Bandlock_Udp_B28_B1/sm05/#01/data/udp_dnlk_latency.csv\")\n",
    "t = TicToc()\n",
    "t.tic()\n",
    "for i in range(len(df)):\n",
    "    z = df.iloc[i, df.columns.get_loc('Timestamp')]\n",
    "    df.iloc[i, df.columns.get_loc('newcol')] = epoch_to_utc8(z)\n",
    "t.toc()\n",
    "\n",
    "# Use at()\n",
    "df = pd.read_csv(\"/home/wmnlab/D/database/2022-11-29/_Bandlock_Udp_B28_B1/sm05/#01/data/udp_dnlk_latency.csv\")\n",
    "t = TicToc()\n",
    "t.tic()\n",
    "df['newcol'] = pd.Series(dtype=object)\n",
    "for i in range(len(df)):\n",
    "    z = df.at[i, 'Timestamp_epoch']\n",
    "    df.at[i, 'newcol'] = epoch_to_utc8(z)\n",
    "print(df.at[len(df)-1, 'newcol'])\n",
    "t.toc()"
   ]
  },
  {
   "cell_type": "code",
   "execution_count": 29,
   "metadata": {},
   "outputs": [
    {
     "name": "stdout",
     "output_type": "stream",
     "text": [
      "Elapsed time is 0.004097 seconds.\n",
      "Elapsed time is 0.002769 seconds.\n"
     ]
    }
   ],
   "source": [
    "## Use iloc()\n",
    "df = pd.read_csv(\"/home/wmnlab/D/database/2022-11-29/_Bandlock_Udp_B28_B1/sm05/#01/data/udp_dnlk_latency.csv\")\n",
    "\n",
    "t = TicToc()\n",
    "t.tic()\n",
    "for i in range(1000):\n",
    "    if df.at[65536, \"Timestamp\"] == \"2022-11-29 17:42:40.089762\":\n",
    "        pass\n",
    "t.toc()\n",
    "\n",
    "t = TicToc()\n",
    "t.tic()\n",
    "z = df.iloc[65536]\n",
    "for i in range(1000):\n",
    "    if z[\"Timestamp\"] == \"2022-11-29 17:42:40.089762\":\n",
    "        pass\n",
    "t.toc()"
   ]
  },
  {
   "cell_type": "code",
   "execution_count": null,
   "metadata": {},
   "outputs": [],
   "source": []
  }
 ],
 "metadata": {
  "kernelspec": {
   "display_name": "Python 3.8.10 64-bit",
   "language": "python",
   "name": "python3"
  },
  "language_info": {
   "codemirror_mode": {
    "name": "ipython",
    "version": 3
   },
   "file_extension": ".py",
   "mimetype": "text/x-python",
   "name": "python",
   "nbconvert_exporter": "python",
   "pygments_lexer": "ipython3",
   "version": "3.8.10"
  },
  "orig_nbformat": 4,
  "vscode": {
   "interpreter": {
    "hash": "31f2aee4e71d21fbe5cf8b01ff0e069b9275f58929596ceb00d14d90e3e16cd6"
   }
  }
 },
 "nbformat": 4,
 "nbformat_minor": 2
}
