{
 "cells": [
  {
   "cell_type": "code",
   "execution_count": 23,
   "metadata": {},
   "outputs": [],
   "source": [
    "import pandas as pd\n",
    "import numpy as np\n",
    "\n",
    "def magic(n):\n",
    "  n = int(n)\n",
    "  if n < 3:\n",
    "    raise ValueError(\"Size must be at least 3\")\n",
    "  if n % 2 == 1:\n",
    "    p = np.arange(1, n+1)\n",
    "    return n*np.mod(p[:, None] + p - (n+3)//2, n) + np.mod(p[:, None] + 2*p-2, n) + 1\n",
    "  elif n % 4 == 0:\n",
    "    J = np.mod(np.arange(1, n+1), 4) // 2\n",
    "    K = J[:, None] == J\n",
    "    M = np.arange(1, n*n+1, n)[:, None] + np.arange(n)\n",
    "    M[K] = n*n + 1 - M[K]\n",
    "  else:\n",
    "    p = n//2\n",
    "    M = magic(p)\n",
    "    M = np.block([[M, M+2*p*p], [M+3*p*p, M+p*p]])\n",
    "    i = np.arange(p)\n",
    "    k = (n-2)//4\n",
    "    j = np.concatenate((np.arange(k), np.arange(n-k+1, n)))\n",
    "    M[np.ix_(np.concatenate((i, i+p)), j)] = M[np.ix_(np.concatenate((i+p, i)), j)]\n",
    "    M[np.ix_([k, k+p], [0, k])] = M[np.ix_([k+p, k], [0, k])]\n",
    "  return M "
   ]
  },
  {
   "cell_type": "code",
   "execution_count": 24,
   "metadata": {},
   "outputs": [
    {
     "data": {
      "text/plain": [
       "array([[8, 1, 6],\n",
       "       [3, 5, 7],\n",
       "       [4, 9, 2]])"
      ]
     },
     "metadata": {},
     "output_type": "display_data"
    }
   ],
   "source": [
    "mat = magic(3)\n",
    "display(mat)"
   ]
  },
  {
   "cell_type": "code",
   "execution_count": 26,
   "metadata": {},
   "outputs": [
    {
     "data": {
      "text/plain": [
       "array([[8, 0, 0],\n",
       "       [3, 5, 0],\n",
       "       [4, 9, 2]])"
      ]
     },
     "metadata": {},
     "output_type": "display_data"
    }
   ],
   "source": [
    "ltmat = np.tril(mat)\n",
    "display(ltmat)"
   ]
  },
  {
   "cell_type": "code",
   "execution_count": 27,
   "metadata": {},
   "outputs": [
    {
     "data": {
      "text/plain": [
       "array([[8, 3, 4],\n",
       "       [0, 5, 9],\n",
       "       [0, 0, 2]])"
      ]
     },
     "metadata": {},
     "output_type": "display_data"
    }
   ],
   "source": [
    "# utmat = ltmat.T\n",
    "utmat = np.triu(mat.T)\n",
    "display(utmat)"
   ]
  },
  {
   "cell_type": "code",
   "execution_count": null,
   "metadata": {},
   "outputs": [],
   "source": []
  }
 ],
 "metadata": {
  "kernelspec": {
   "display_name": "Python 3",
   "language": "python",
   "name": "python3"
  },
  "language_info": {
   "codemirror_mode": {
    "name": "ipython",
    "version": 3
   },
   "file_extension": ".py",
   "mimetype": "text/x-python",
   "name": "python",
   "nbconvert_exporter": "python",
   "pygments_lexer": "ipython3",
   "version": "3.8.10"
  },
  "orig_nbformat": 4,
  "vscode": {
   "interpreter": {
    "hash": "31f2aee4e71d21fbe5cf8b01ff0e069b9275f58929596ceb00d14d90e3e16cd6"
   }
  }
 },
 "nbformat": 4,
 "nbformat_minor": 2
}
