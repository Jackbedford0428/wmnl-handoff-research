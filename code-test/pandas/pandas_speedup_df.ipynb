{
 "cells": [
  {
   "attachments": {},
   "cell_type": "markdown",
   "metadata": {},
   "source": [
    "# SpeedUp Pandas\n",
    "\n",
    "- Speed Up Your Pandas Dataframes\n",
    "https://www.youtube.com/watch?v=u4_c2LDi4b8"
   ]
  },
  {
   "cell_type": "code",
   "execution_count": 22,
   "metadata": {},
   "outputs": [],
   "source": [
    "import pandas as pd\n",
    "import numpy as np"
   ]
  },
  {
   "attachments": {},
   "cell_type": "markdown",
   "metadata": {},
   "source": [
    "# Creating our Data"
   ]
  },
  {
   "cell_type": "code",
   "execution_count": 23,
   "metadata": {},
   "outputs": [],
   "source": [
    "def get_dataset(size):\n",
    "    df = pd.DataFrame()\n",
    "    df['position'] = np.random.choice(['left','middle','right'], size)\n",
    "    df['age'] = np.random.randint(1, 50, size)\n",
    "    df['team'] = np.random.choice(['red','blue','yellow','green', size])\n",
    "    df['win'] = np.random.choice(['yes','no'], size)\n",
    "    df['prob'] = np.random.uniform(0, 1, size)\n",
    "    return df"
   ]
  },
  {
   "cell_type": "code",
   "execution_count": 24,
   "metadata": {},
   "outputs": [
    {
     "name": "stdout",
     "output_type": "stream",
     "text": [
      "<class 'pandas.core.frame.DataFrame'>\n",
      "RangeIndex: 1000000 entries, 0 to 999999\n",
      "Data columns (total 5 columns):\n",
      " #   Column    Non-Null Count    Dtype  \n",
      "---  ------    --------------    -----  \n",
      " 0   position  1000000 non-null  object \n",
      " 1   age       1000000 non-null  int64  \n",
      " 2   team      1000000 non-null  object \n",
      " 3   win       1000000 non-null  object \n",
      " 4   prob      1000000 non-null  float64\n",
      "dtypes: float64(1), int64(1), object(3)\n",
      "memory usage: 38.1+ MB\n"
     ]
    }
   ],
   "source": [
    "df = get_dataset(1_000_000)\n",
    "df.info()"
   ]
  },
  {
   "attachments": {},
   "cell_type": "markdown",
   "metadata": {},
   "source": [
    "# Type Casting"
   ]
  },
  {
   "cell_type": "code",
   "execution_count": 25,
   "metadata": {},
   "outputs": [
    {
     "name": "stdout",
     "output_type": "stream",
     "text": [
      "<class 'pandas.core.frame.DataFrame'>\n",
      "RangeIndex: 1000000 entries, 0 to 999999\n",
      "Data columns (total 5 columns):\n",
      " #   Column    Non-Null Count    Dtype   \n",
      "---  ------    --------------    -----   \n",
      " 0   position  1000000 non-null  category\n",
      " 1   age       1000000 non-null  int64   \n",
      " 2   team      1000000 non-null  category\n",
      " 3   win       1000000 non-null  object  \n",
      " 4   prob      1000000 non-null  float64 \n",
      "dtypes: category(2), float64(1), int64(1), object(1)\n",
      "memory usage: 24.8+ MB\n"
     ]
    }
   ],
   "source": [
    "df['position'] = df['position'].astype('category')\n",
    "df['team'] = df['team'].astype('category')\n",
    "df.info()"
   ]
  },
  {
   "attachments": {},
   "cell_type": "markdown",
   "metadata": {},
   "source": [
    "## Int Downcasting Value Range\n",
    "\n",
    "- int8 can store integers from -128 to 127.\n",
    "- int16 can store integers from -32768 to 32767.\n",
    "- int64 can store integers from -9223372036854775808 to 9223372036854775807."
   ]
  },
  {
   "cell_type": "code",
   "execution_count": 26,
   "metadata": {},
   "outputs": [
    {
     "data": {
      "text/plain": [
       "0         27\n",
       "1         21\n",
       "2         47\n",
       "3         31\n",
       "4         30\n",
       "          ..\n",
       "999995    40\n",
       "999996    17\n",
       "999997     4\n",
       "999998     2\n",
       "999999    45\n",
       "Name: age, Length: 1000000, dtype: int64"
      ]
     },
     "execution_count": 26,
     "metadata": {},
     "output_type": "execute_result"
    }
   ],
   "source": [
    "df['age']"
   ]
  },
  {
   "cell_type": "code",
   "execution_count": 27,
   "metadata": {},
   "outputs": [
    {
     "data": {
      "text/plain": [
       "count    1000000.000000\n",
       "mean          25.010694\n",
       "std           14.141164\n",
       "min            1.000000\n",
       "25%           13.000000\n",
       "50%           25.000000\n",
       "75%           37.000000\n",
       "max           49.000000\n",
       "Name: age, dtype: float64"
      ]
     },
     "execution_count": 27,
     "metadata": {},
     "output_type": "execute_result"
    }
   ],
   "source": [
    "df['age'].describe()"
   ]
  },
  {
   "cell_type": "code",
   "execution_count": 28,
   "metadata": {},
   "outputs": [
    {
     "name": "stdout",
     "output_type": "stream",
     "text": [
      "<class 'pandas.core.frame.DataFrame'>\n",
      "RangeIndex: 1000000 entries, 0 to 999999\n",
      "Data columns (total 5 columns):\n",
      " #   Column    Non-Null Count    Dtype   \n",
      "---  ------    --------------    -----   \n",
      " 0   position  1000000 non-null  category\n",
      " 1   age       1000000 non-null  int8    \n",
      " 2   team      1000000 non-null  category\n",
      " 3   win       1000000 non-null  object  \n",
      " 4   prob      1000000 non-null  float64 \n",
      "dtypes: category(2), float64(1), int8(1), object(1)\n",
      "memory usage: 18.1+ MB\n"
     ]
    }
   ],
   "source": [
    "df['age'] = df['age'].astype('int8')\n",
    "df.info()"
   ]
  },
  {
   "attachments": {},
   "cell_type": "markdown",
   "metadata": {},
   "source": [
    "## Downcasting Floats"
   ]
  },
  {
   "cell_type": "code",
   "execution_count": 29,
   "metadata": {},
   "outputs": [
    {
     "name": "stdout",
     "output_type": "stream",
     "text": [
      "<class 'pandas.core.frame.DataFrame'>\n",
      "RangeIndex: 1000000 entries, 0 to 999999\n",
      "Data columns (total 5 columns):\n",
      " #   Column    Non-Null Count    Dtype   \n",
      "---  ------    --------------    -----   \n",
      " 0   position  1000000 non-null  category\n",
      " 1   age       1000000 non-null  int8    \n",
      " 2   team      1000000 non-null  category\n",
      " 3   win       1000000 non-null  object  \n",
      " 4   prob      1000000 non-null  float32 \n",
      "dtypes: category(2), float32(1), int8(1), object(1)\n",
      "memory usage: 14.3+ MB\n"
     ]
    }
   ],
   "source": [
    "df['prob'] = df['prob'].astype('float32')\n",
    "df.info()"
   ]
  },
  {
   "attachments": {},
   "cell_type": "markdown",
   "metadata": {},
   "source": [
    "## Casting bool (true/false)"
   ]
  },
  {
   "cell_type": "code",
   "execution_count": 30,
   "metadata": {},
   "outputs": [
    {
     "name": "stdout",
     "output_type": "stream",
     "text": [
      "<class 'pandas.core.frame.DataFrame'>\n",
      "RangeIndex: 1000000 entries, 0 to 999999\n",
      "Data columns (total 5 columns):\n",
      " #   Column    Non-Null Count    Dtype   \n",
      "---  ------    --------------    -----   \n",
      " 0   position  1000000 non-null  category\n",
      " 1   age       1000000 non-null  int8    \n",
      " 2   team      1000000 non-null  category\n",
      " 3   win       1000000 non-null  bool    \n",
      " 4   prob      1000000 non-null  float32 \n",
      "dtypes: bool(1), category(2), float32(1), int8(1)\n",
      "memory usage: 7.6 MB\n"
     ]
    }
   ],
   "source": [
    "df['win'] = df['win'].map({'yes':True, 'no':False})\n",
    "df.info()"
   ]
  },
  {
   "cell_type": "code",
   "execution_count": 31,
   "metadata": {},
   "outputs": [],
   "source": [
    "def set_dtypes(df):\n",
    "    df['position'] = df['position'].astype('category')\n",
    "    df['team'] = df['team'].astype('category')\n",
    "    df['age'] = df['age'].astype('int8')\n",
    "    df['prob'] = df['prob'].astype('float32')\n",
    "    df['win'] = df['win'].map({'yes':True, 'no':False})\n",
    "    return df"
   ]
  },
  {
   "attachments": {},
   "cell_type": "markdown",
   "metadata": {},
   "source": [
    "# Testing\n",
    "\n",
    "資料量愈大，是否有做 dtype downcasting 的影響就愈大"
   ]
  },
  {
   "cell_type": "code",
   "execution_count": 32,
   "metadata": {},
   "outputs": [
    {
     "name": "stdout",
     "output_type": "stream",
     "text": [
      "1.7 s ± 53.7 ms per loop (mean ± std. dev. of 7 runs, 1 loop each)\n",
      "2.52 s ± 246 ms per loop (mean ± std. dev. of 7 runs, 1 loop each)\n",
      "2.88 s ± 176 ms per loop (mean ± std. dev. of 7 runs, 1 loop each)\n"
     ]
    }
   ],
   "source": [
    "df = get_dataset(5_000_000)\n",
    "%timeit df['age_rank'] = df.groupby(['team','position'])['age'].rank()\n",
    "%timeit df['prob_rank'] = df.groupby(['team','position'])['prob'].rank()\n",
    "%timeit df['win_prob_rank'] = df.groupby(['team','position','win'])['prob'].rank()"
   ]
  },
  {
   "cell_type": "code",
   "execution_count": 33,
   "metadata": {},
   "outputs": [
    {
     "data": {
      "text/html": [
       "<div>\n",
       "<style scoped>\n",
       "    .dataframe tbody tr th:only-of-type {\n",
       "        vertical-align: middle;\n",
       "    }\n",
       "\n",
       "    .dataframe tbody tr th {\n",
       "        vertical-align: top;\n",
       "    }\n",
       "\n",
       "    .dataframe thead th {\n",
       "        text-align: right;\n",
       "    }\n",
       "</style>\n",
       "<table border=\"1\" class=\"dataframe\">\n",
       "  <thead>\n",
       "    <tr style=\"text-align: right;\">\n",
       "      <th></th>\n",
       "      <th>position</th>\n",
       "      <th>age</th>\n",
       "      <th>team</th>\n",
       "      <th>win</th>\n",
       "      <th>prob</th>\n",
       "      <th>age_rank</th>\n",
       "      <th>prob_rank</th>\n",
       "      <th>win_prob_rank</th>\n",
       "    </tr>\n",
       "  </thead>\n",
       "  <tbody>\n",
       "    <tr>\n",
       "      <th>0</th>\n",
       "      <td>middle</td>\n",
       "      <td>43</td>\n",
       "      <td>yellow</td>\n",
       "      <td>yes</td>\n",
       "      <td>0.183881</td>\n",
       "      <td>1445485.5</td>\n",
       "      <td>306750.0</td>\n",
       "      <td>153481.0</td>\n",
       "    </tr>\n",
       "    <tr>\n",
       "      <th>1</th>\n",
       "      <td>right</td>\n",
       "      <td>32</td>\n",
       "      <td>yellow</td>\n",
       "      <td>yes</td>\n",
       "      <td>0.559759</td>\n",
       "      <td>1070950.0</td>\n",
       "      <td>932018.0</td>\n",
       "      <td>467068.0</td>\n",
       "    </tr>\n",
       "    <tr>\n",
       "      <th>2</th>\n",
       "      <td>right</td>\n",
       "      <td>13</td>\n",
       "      <td>yellow</td>\n",
       "      <td>no</td>\n",
       "      <td>0.140224</td>\n",
       "      <td>425089.0</td>\n",
       "      <td>233270.0</td>\n",
       "      <td>116209.0</td>\n",
       "    </tr>\n",
       "    <tr>\n",
       "      <th>3</th>\n",
       "      <td>left</td>\n",
       "      <td>39</td>\n",
       "      <td>yellow</td>\n",
       "      <td>no</td>\n",
       "      <td>0.578957</td>\n",
       "      <td>1310174.5</td>\n",
       "      <td>965348.0</td>\n",
       "      <td>483180.0</td>\n",
       "    </tr>\n",
       "    <tr>\n",
       "      <th>4</th>\n",
       "      <td>left</td>\n",
       "      <td>32</td>\n",
       "      <td>yellow</td>\n",
       "      <td>no</td>\n",
       "      <td>0.032480</td>\n",
       "      <td>1071946.5</td>\n",
       "      <td>53755.0</td>\n",
       "      <td>26727.0</td>\n",
       "    </tr>\n",
       "  </tbody>\n",
       "</table>\n",
       "</div>"
      ],
      "text/plain": [
       "  position  age    team  win      prob   age_rank  prob_rank  win_prob_rank\n",
       "0   middle   43  yellow  yes  0.183881  1445485.5   306750.0       153481.0\n",
       "1    right   32  yellow  yes  0.559759  1070950.0   932018.0       467068.0\n",
       "2    right   13  yellow   no  0.140224   425089.0   233270.0       116209.0\n",
       "3     left   39  yellow   no  0.578957  1310174.5   965348.0       483180.0\n",
       "4     left   32  yellow   no  0.032480  1071946.5    53755.0        26727.0"
      ]
     },
     "execution_count": 33,
     "metadata": {},
     "output_type": "execute_result"
    }
   ],
   "source": [
    "df.head()"
   ]
  },
  {
   "cell_type": "code",
   "execution_count": 34,
   "metadata": {},
   "outputs": [
    {
     "name": "stdout",
     "output_type": "stream",
     "text": [
      "684 ms ± 9.32 ms per loop (mean ± std. dev. of 7 runs, 1 loop each)\n",
      "1.47 s ± 87.1 ms per loop (mean ± std. dev. of 7 runs, 1 loop each)\n",
      "1.77 s ± 155 ms per loop (mean ± std. dev. of 7 runs, 1 loop each)\n"
     ]
    }
   ],
   "source": [
    "df = get_dataset(5_000_000)\n",
    "df = set_dtypes(df)\n",
    "%timeit df['age_rank'] = df.groupby(['team','position'])['age'].rank()\n",
    "%timeit df['prob_rank'] = df.groupby(['team','position'])['prob'].rank()\n",
    "%timeit df['win_prob_rank'] = df.groupby(['team','position','win'])['prob'].rank()"
   ]
  },
  {
   "cell_type": "code",
   "execution_count": 35,
   "metadata": {},
   "outputs": [
    {
     "data": {
      "text/html": [
       "<div>\n",
       "<style scoped>\n",
       "    .dataframe tbody tr th:only-of-type {\n",
       "        vertical-align: middle;\n",
       "    }\n",
       "\n",
       "    .dataframe tbody tr th {\n",
       "        vertical-align: top;\n",
       "    }\n",
       "\n",
       "    .dataframe thead th {\n",
       "        text-align: right;\n",
       "    }\n",
       "</style>\n",
       "<table border=\"1\" class=\"dataframe\">\n",
       "  <thead>\n",
       "    <tr style=\"text-align: right;\">\n",
       "      <th></th>\n",
       "      <th>position</th>\n",
       "      <th>age</th>\n",
       "      <th>team</th>\n",
       "      <th>win</th>\n",
       "      <th>prob</th>\n",
       "      <th>age_rank</th>\n",
       "      <th>prob_rank</th>\n",
       "      <th>win_prob_rank</th>\n",
       "    </tr>\n",
       "  </thead>\n",
       "  <tbody>\n",
       "    <tr>\n",
       "      <th>0</th>\n",
       "      <td>middle</td>\n",
       "      <td>33</td>\n",
       "      <td>yellow</td>\n",
       "      <td>True</td>\n",
       "      <td>0.203457</td>\n",
       "      <td>1106318.0</td>\n",
       "      <td>338880.0</td>\n",
       "      <td>169956.0</td>\n",
       "    </tr>\n",
       "    <tr>\n",
       "      <th>1</th>\n",
       "      <td>middle</td>\n",
       "      <td>46</td>\n",
       "      <td>yellow</td>\n",
       "      <td>False</td>\n",
       "      <td>0.133363</td>\n",
       "      <td>1548311.0</td>\n",
       "      <td>222342.0</td>\n",
       "      <td>110812.0</td>\n",
       "    </tr>\n",
       "    <tr>\n",
       "      <th>2</th>\n",
       "      <td>right</td>\n",
       "      <td>39</td>\n",
       "      <td>yellow</td>\n",
       "      <td>True</td>\n",
       "      <td>0.696892</td>\n",
       "      <td>1311768.5</td>\n",
       "      <td>1163697.0</td>\n",
       "      <td>581448.0</td>\n",
       "    </tr>\n",
       "    <tr>\n",
       "      <th>3</th>\n",
       "      <td>middle</td>\n",
       "      <td>31</td>\n",
       "      <td>yellow</td>\n",
       "      <td>False</td>\n",
       "      <td>0.541664</td>\n",
       "      <td>1038214.0</td>\n",
       "      <td>904101.0</td>\n",
       "      <td>451296.0</td>\n",
       "    </tr>\n",
       "    <tr>\n",
       "      <th>4</th>\n",
       "      <td>left</td>\n",
       "      <td>12</td>\n",
       "      <td>yellow</td>\n",
       "      <td>True</td>\n",
       "      <td>0.629097</td>\n",
       "      <td>390767.0</td>\n",
       "      <td>1046315.0</td>\n",
       "      <td>523474.0</td>\n",
       "    </tr>\n",
       "  </tbody>\n",
       "</table>\n",
       "</div>"
      ],
      "text/plain": [
       "  position  age    team    win      prob   age_rank  prob_rank  win_prob_rank\n",
       "0   middle   33  yellow   True  0.203457  1106318.0   338880.0       169956.0\n",
       "1   middle   46  yellow  False  0.133363  1548311.0   222342.0       110812.0\n",
       "2    right   39  yellow   True  0.696892  1311768.5  1163697.0       581448.0\n",
       "3   middle   31  yellow  False  0.541664  1038214.0   904101.0       451296.0\n",
       "4     left   12  yellow   True  0.629097   390767.0  1046315.0       523474.0"
      ]
     },
     "execution_count": 35,
     "metadata": {},
     "output_type": "execute_result"
    },
    {
     "ename": "",
     "evalue": "",
     "output_type": "error",
     "traceback": [
      "\u001b[1;31mThe Kernel crashed while executing code in the the current cell or a previous cell. Please review the code in the cell(s) to identify a possible cause of the failure. Click <a href='https://aka.ms/vscodeJupyterKernelCrash'>here</a> for more info. View Jupyter <a href='command:jupyter.viewOutput'>log</a> for further details."
     ]
    }
   ],
   "source": [
    "df.head()"
   ]
  },
  {
   "cell_type": "code",
   "execution_count": null,
   "metadata": {},
   "outputs": [],
   "source": []
  }
 ],
 "metadata": {
  "kernelspec": {
   "display_name": "Python 3",
   "language": "python",
   "name": "python3"
  },
  "language_info": {
   "codemirror_mode": {
    "name": "ipython",
    "version": 3
   },
   "file_extension": ".py",
   "mimetype": "text/x-python",
   "name": "python",
   "nbconvert_exporter": "python",
   "pygments_lexer": "ipython3",
   "version": "3.8.10"
  },
  "orig_nbformat": 4,
  "vscode": {
   "interpreter": {
    "hash": "31f2aee4e71d21fbe5cf8b01ff0e069b9275f58929596ceb00d14d90e3e16cd6"
   }
  }
 },
 "nbformat": 4,
 "nbformat_minor": 2
}
