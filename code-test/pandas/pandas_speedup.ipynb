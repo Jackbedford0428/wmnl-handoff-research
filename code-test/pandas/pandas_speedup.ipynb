{
 "cells": [
  {
   "attachments": {},
   "cell_type": "markdown",
   "metadata": {},
   "source": [
    "# Speedup Pandas\n",
    "\n",
    "- This INCREDIBLE trick will speed up your data processes.\n",
    "https://www.youtube.com/watch?v=u4rsA5ZiTls\n",
    "- pandas-data-storage-compare.py github\n",
    "https://gist.github.com/RobMulla/738491f7bf7cfe79168c7e55c622efa5"
   ]
  },
  {
   "cell_type": "code",
   "execution_count": 87,
   "metadata": {},
   "outputs": [],
   "source": [
    "import pandas as pd\n",
    "import numpy as np\n",
    "\n",
    "def get_dataset(size):\n",
    "    # Create Fake Dataset\n",
    "    df = pd.DataFrame()\n",
    "    df['size'] = np.random.choice(['big','medium','small'], size)\n",
    "    df['age'] = np.random.randint(1, 50, size)\n",
    "    df['team'] = np.random.choice(['red','blue','yellow','green'], size)\n",
    "    df['win'] = np.random.choice(['yes','no'], size)\n",
    "    dates = pd.date_range('2020-01-01', '2022-12-31')\n",
    "    df['date'] = np.random.choice(dates, size)\n",
    "    df['prob'] = np.random.uniform(0, 1, size)\n",
    "    return df\n",
    "\n",
    "def set_dtypes(df):\n",
    "    df['size'] = df['size'].astype('category')\n",
    "    df['team'] = df['team'].astype('category')\n",
    "    df['age'] = df['age'].astype('int16')\n",
    "    df['win'] = df['win'].map({'yes':True, 'no': False})\n",
    "    df['prob'] = df['prob'].astype('float32')\n",
    "    return df"
   ]
  },
  {
   "cell_type": "code",
   "execution_count": 88,
   "metadata": {},
   "outputs": [],
   "source": [
    "df = get_dataset(10_000)"
   ]
  },
  {
   "cell_type": "code",
   "execution_count": 89,
   "metadata": {},
   "outputs": [
    {
     "name": "stdout",
     "output_type": "stream",
     "text": [
      "<class 'pandas.core.frame.DataFrame'>\n",
      "RangeIndex: 10000 entries, 0 to 9999\n",
      "Data columns (total 6 columns):\n",
      " #   Column  Non-Null Count  Dtype         \n",
      "---  ------  --------------  -----         \n",
      " 0   size    10000 non-null  object        \n",
      " 1   age     10000 non-null  int64         \n",
      " 2   team    10000 non-null  object        \n",
      " 3   win     10000 non-null  object        \n",
      " 4   date    10000 non-null  datetime64[ns]\n",
      " 5   prob    10000 non-null  float64       \n",
      "dtypes: datetime64[ns](1), float64(1), int64(1), object(3)\n",
      "memory usage: 468.9+ KB\n"
     ]
    }
   ],
   "source": [
    "df.info()"
   ]
  },
  {
   "cell_type": "code",
   "execution_count": 90,
   "metadata": {},
   "outputs": [
    {
     "data": {
      "text/html": [
       "<div>\n",
       "<style scoped>\n",
       "    .dataframe tbody tr th:only-of-type {\n",
       "        vertical-align: middle;\n",
       "    }\n",
       "\n",
       "    .dataframe tbody tr th {\n",
       "        vertical-align: top;\n",
       "    }\n",
       "\n",
       "    .dataframe thead th {\n",
       "        text-align: right;\n",
       "    }\n",
       "</style>\n",
       "<table border=\"1\" class=\"dataframe\">\n",
       "  <thead>\n",
       "    <tr style=\"text-align: right;\">\n",
       "      <th></th>\n",
       "      <th>size</th>\n",
       "      <th>age</th>\n",
       "      <th>team</th>\n",
       "      <th>win</th>\n",
       "      <th>date</th>\n",
       "      <th>prob</th>\n",
       "    </tr>\n",
       "  </thead>\n",
       "  <tbody>\n",
       "    <tr>\n",
       "      <th>0</th>\n",
       "      <td>medium</td>\n",
       "      <td>33</td>\n",
       "      <td>yellow</td>\n",
       "      <td>yes</td>\n",
       "      <td>2022-05-05</td>\n",
       "      <td>0.129045</td>\n",
       "    </tr>\n",
       "    <tr>\n",
       "      <th>1</th>\n",
       "      <td>small</td>\n",
       "      <td>36</td>\n",
       "      <td>red</td>\n",
       "      <td>no</td>\n",
       "      <td>2020-08-02</td>\n",
       "      <td>0.119849</td>\n",
       "    </tr>\n",
       "    <tr>\n",
       "      <th>2</th>\n",
       "      <td>big</td>\n",
       "      <td>3</td>\n",
       "      <td>green</td>\n",
       "      <td>yes</td>\n",
       "      <td>2022-02-16</td>\n",
       "      <td>0.453556</td>\n",
       "    </tr>\n",
       "    <tr>\n",
       "      <th>3</th>\n",
       "      <td>small</td>\n",
       "      <td>20</td>\n",
       "      <td>red</td>\n",
       "      <td>no</td>\n",
       "      <td>2021-03-28</td>\n",
       "      <td>0.682364</td>\n",
       "    </tr>\n",
       "    <tr>\n",
       "      <th>4</th>\n",
       "      <td>medium</td>\n",
       "      <td>10</td>\n",
       "      <td>blue</td>\n",
       "      <td>no</td>\n",
       "      <td>2021-08-28</td>\n",
       "      <td>0.994119</td>\n",
       "    </tr>\n",
       "  </tbody>\n",
       "</table>\n",
       "</div>"
      ],
      "text/plain": [
       "     size  age    team  win       date      prob\n",
       "0  medium   33  yellow  yes 2022-05-05  0.129045\n",
       "1   small   36     red   no 2020-08-02  0.119849\n",
       "2     big    3   green  yes 2022-02-16  0.453556\n",
       "3   small   20     red   no 2021-03-28  0.682364\n",
       "4  medium   10    blue   no 2021-08-28  0.994119"
      ]
     },
     "execution_count": 90,
     "metadata": {},
     "output_type": "execute_result"
    }
   ],
   "source": [
    "df.head()"
   ]
  },
  {
   "attachments": {},
   "cell_type": "markdown",
   "metadata": {},
   "source": [
    "# Measure execution time\n",
    "\n",
    "- Measure execution time with timeit in Python\n",
    "https://note.nkmk.me/en/python-timeit-measure/\n",
    "- Jupyter Magic - Timing(%%time %time %timeit)\n",
    "https://blog.csdn.net/shuibuzhaodeshiren/article/details/86650688"
   ]
  },
  {
   "cell_type": "code",
   "execution_count": 91,
   "metadata": {},
   "outputs": [
    {
     "name": "stdout",
     "output_type": "stream",
     "text": [
      "CPU times: user 0 ns, sys: 2.67 ms, total: 2.67 ms\n",
      "Wall time: 2.72 ms\n",
      "CPU times: user 0 ns, sys: 88 µs, total: 88 µs\n",
      "Wall time: 90.6 µs\n"
     ]
    },
    {
     "data": {
      "text/html": [
       "<div>\n",
       "<style scoped>\n",
       "    .dataframe tbody tr th:only-of-type {\n",
       "        vertical-align: middle;\n",
       "    }\n",
       "\n",
       "    .dataframe tbody tr th {\n",
       "        vertical-align: top;\n",
       "    }\n",
       "\n",
       "    .dataframe thead th {\n",
       "        text-align: right;\n",
       "    }\n",
       "</style>\n",
       "<table border=\"1\" class=\"dataframe\">\n",
       "  <thead>\n",
       "    <tr style=\"text-align: right;\">\n",
       "      <th></th>\n",
       "      <th>size</th>\n",
       "      <th>age</th>\n",
       "      <th>team</th>\n",
       "      <th>win</th>\n",
       "      <th>date</th>\n",
       "      <th>prob</th>\n",
       "    </tr>\n",
       "  </thead>\n",
       "  <tbody>\n",
       "    <tr>\n",
       "      <th>0</th>\n",
       "      <td>big</td>\n",
       "      <td>22</td>\n",
       "      <td>blue</td>\n",
       "      <td>yes</td>\n",
       "      <td>2022-08-31</td>\n",
       "      <td>0.953732</td>\n",
       "    </tr>\n",
       "    <tr>\n",
       "      <th>1</th>\n",
       "      <td>small</td>\n",
       "      <td>26</td>\n",
       "      <td>green</td>\n",
       "      <td>yes</td>\n",
       "      <td>2021-08-02</td>\n",
       "      <td>0.934422</td>\n",
       "    </tr>\n",
       "    <tr>\n",
       "      <th>2</th>\n",
       "      <td>medium</td>\n",
       "      <td>20</td>\n",
       "      <td>red</td>\n",
       "      <td>no</td>\n",
       "      <td>2020-11-21</td>\n",
       "      <td>0.396267</td>\n",
       "    </tr>\n",
       "  </tbody>\n",
       "</table>\n",
       "</div>"
      ],
      "text/plain": [
       "     size  age   team  win       date      prob\n",
       "0     big   22   blue  yes 2022-08-31  0.953732\n",
       "1   small   26  green  yes 2021-08-02  0.934422\n",
       "2  medium   20    red   no 2020-11-21  0.396267"
      ]
     },
     "execution_count": 91,
     "metadata": {},
     "output_type": "execute_result"
    }
   ],
   "source": [
    "%time df = get_dataset(3)\n",
    "%time df.head()"
   ]
  },
  {
   "cell_type": "code",
   "execution_count": 92,
   "metadata": {},
   "outputs": [
    {
     "name": "stdout",
     "output_type": "stream",
     "text": [
      "CPU times: user 4.56 ms, sys: 61 µs, total: 4.62 ms\n",
      "Wall time: 4.61 ms\n"
     ]
    },
    {
     "data": {
      "text/html": [
       "<div>\n",
       "<style scoped>\n",
       "    .dataframe tbody tr th:only-of-type {\n",
       "        vertical-align: middle;\n",
       "    }\n",
       "\n",
       "    .dataframe tbody tr th {\n",
       "        vertical-align: top;\n",
       "    }\n",
       "\n",
       "    .dataframe thead th {\n",
       "        text-align: right;\n",
       "    }\n",
       "</style>\n",
       "<table border=\"1\" class=\"dataframe\">\n",
       "  <thead>\n",
       "    <tr style=\"text-align: right;\">\n",
       "      <th></th>\n",
       "      <th>size</th>\n",
       "      <th>age</th>\n",
       "      <th>team</th>\n",
       "      <th>win</th>\n",
       "      <th>date</th>\n",
       "      <th>prob</th>\n",
       "    </tr>\n",
       "  </thead>\n",
       "  <tbody>\n",
       "    <tr>\n",
       "      <th>0</th>\n",
       "      <td>big</td>\n",
       "      <td>12</td>\n",
       "      <td>blue</td>\n",
       "      <td>yes</td>\n",
       "      <td>2022-06-07</td>\n",
       "      <td>0.656868</td>\n",
       "    </tr>\n",
       "    <tr>\n",
       "      <th>1</th>\n",
       "      <td>small</td>\n",
       "      <td>28</td>\n",
       "      <td>blue</td>\n",
       "      <td>yes</td>\n",
       "      <td>2020-08-21</td>\n",
       "      <td>0.299710</td>\n",
       "    </tr>\n",
       "    <tr>\n",
       "      <th>2</th>\n",
       "      <td>small</td>\n",
       "      <td>47</td>\n",
       "      <td>green</td>\n",
       "      <td>yes</td>\n",
       "      <td>2020-04-03</td>\n",
       "      <td>0.326247</td>\n",
       "    </tr>\n",
       "  </tbody>\n",
       "</table>\n",
       "</div>"
      ],
      "text/plain": [
       "    size  age   team  win       date      prob\n",
       "0    big   12   blue  yes 2022-06-07  0.656868\n",
       "1  small   28   blue  yes 2020-08-21  0.299710\n",
       "2  small   47  green  yes 2020-04-03  0.326247"
      ]
     },
     "execution_count": 92,
     "metadata": {},
     "output_type": "execute_result"
    }
   ],
   "source": [
    "%%time\n",
    "df = get_dataset(3)\n",
    "df.head()"
   ]
  },
  {
   "cell_type": "code",
   "execution_count": 93,
   "metadata": {},
   "outputs": [],
   "source": [
    "# %timeit df = get_dataset(3)\n",
    "# %timeit df.head()\n",
    "# 1.49 ms ± 5.63 µs per loop (mean ± std. dev. of 7 runs, 1,000 loops each)\n",
    "# 40.7 µs ± 6.39 µs per loop (mean ± std. dev. of 7 runs, 10,000 loops each)\n",
    "# timeit would determine the below automatically\n",
    "# 單趟測試次數(-r): e.g. 7 runs\n",
    "# 測試多少趟(-n): e.g. 1,000 loops"
   ]
  },
  {
   "cell_type": "code",
   "execution_count": 94,
   "metadata": {},
   "outputs": [
    {
     "name": "stdout",
     "output_type": "stream",
     "text": [
      "5.73 ms ± 2.23 ms per loop (mean ± std. dev. of 3 runs, 1 loop each)\n",
      "99.7 µs ± 35.3 µs per loop (mean ± std. dev. of 3 runs, 1 loop each)\n"
     ]
    }
   ],
   "source": [
    "%timeit -r 3 -n 1 df = get_dataset(3)\n",
    "%timeit -r 3 -n 1 df.head()"
   ]
  },
  {
   "cell_type": "code",
   "execution_count": 95,
   "metadata": {},
   "outputs": [
    {
     "name": "stdout",
     "output_type": "stream",
     "text": [
      "8.13 ms ± 3.59 ms per loop (mean ± std. dev. of 3 runs, 1 loop each)\n"
     ]
    }
   ],
   "source": [
    "%%timeit -r 3 -n 1\n",
    "df = get_dataset(3)\n",
    "df.head()"
   ]
  },
  {
   "attachments": {},
   "cell_type": "markdown",
   "metadata": {},
   "source": [
    "# CSV"
   ]
  },
  {
   "cell_type": "code",
   "execution_count": 96,
   "metadata": {},
   "outputs": [
    {
     "name": "stdout",
     "output_type": "stream",
     "text": [
      "CPU times: user 2.14 s, sys: 63.2 ms, total: 2.21 s\n",
      "Wall time: 2.24 s\n",
      "CPU times: user 352 ms, sys: 12 ms, total: 364 ms\n",
      "Wall time: 364 ms\n"
     ]
    },
    {
     "data": {
      "text/html": [
       "<div>\n",
       "<style scoped>\n",
       "    .dataframe tbody tr th:only-of-type {\n",
       "        vertical-align: middle;\n",
       "    }\n",
       "\n",
       "    .dataframe tbody tr th {\n",
       "        vertical-align: top;\n",
       "    }\n",
       "\n",
       "    .dataframe thead th {\n",
       "        text-align: right;\n",
       "    }\n",
       "</style>\n",
       "<table border=\"1\" class=\"dataframe\">\n",
       "  <thead>\n",
       "    <tr style=\"text-align: right;\">\n",
       "      <th></th>\n",
       "      <th>size</th>\n",
       "      <th>age</th>\n",
       "      <th>team</th>\n",
       "      <th>win</th>\n",
       "      <th>date</th>\n",
       "      <th>prob</th>\n",
       "    </tr>\n",
       "  </thead>\n",
       "  <tbody>\n",
       "    <tr>\n",
       "      <th>0</th>\n",
       "      <td>medium</td>\n",
       "      <td>45</td>\n",
       "      <td>green</td>\n",
       "      <td>False</td>\n",
       "      <td>2020-12-11</td>\n",
       "      <td>0.260603</td>\n",
       "    </tr>\n",
       "    <tr>\n",
       "      <th>1</th>\n",
       "      <td>big</td>\n",
       "      <td>34</td>\n",
       "      <td>yellow</td>\n",
       "      <td>True</td>\n",
       "      <td>2020-09-10</td>\n",
       "      <td>0.829594</td>\n",
       "    </tr>\n",
       "    <tr>\n",
       "      <th>2</th>\n",
       "      <td>medium</td>\n",
       "      <td>8</td>\n",
       "      <td>yellow</td>\n",
       "      <td>True</td>\n",
       "      <td>2022-05-24</td>\n",
       "      <td>0.380245</td>\n",
       "    </tr>\n",
       "    <tr>\n",
       "      <th>3</th>\n",
       "      <td>medium</td>\n",
       "      <td>29</td>\n",
       "      <td>blue</td>\n",
       "      <td>True</td>\n",
       "      <td>2021-12-09</td>\n",
       "      <td>0.620741</td>\n",
       "    </tr>\n",
       "    <tr>\n",
       "      <th>4</th>\n",
       "      <td>medium</td>\n",
       "      <td>14</td>\n",
       "      <td>green</td>\n",
       "      <td>False</td>\n",
       "      <td>2022-07-20</td>\n",
       "      <td>0.501858</td>\n",
       "    </tr>\n",
       "  </tbody>\n",
       "</table>\n",
       "</div>"
      ],
      "text/plain": [
       "     size  age    team    win        date      prob\n",
       "0  medium   45   green  False  2020-12-11  0.260603\n",
       "1     big   34  yellow   True  2020-09-10  0.829594\n",
       "2  medium    8  yellow   True  2022-05-24  0.380245\n",
       "3  medium   29    blue   True  2021-12-09  0.620741\n",
       "4  medium   14   green  False  2022-07-20  0.501858"
      ]
     },
     "execution_count": 96,
     "metadata": {},
     "output_type": "execute_result"
    }
   ],
   "source": [
    "df = get_dataset(1_000_000)\n",
    "df = set_dtypes(df)\n",
    "%time df.to_csv('test.csv', index=False)\n",
    "# df.to_csv('test.csv')  # index=True by default\n",
    "%time df_csv = pd.read_csv('test.csv')\n",
    "# df_csv = pd.read_csv('test.csv', index_col=[0])\n",
    "df_csv.head()"
   ]
  },
  {
   "cell_type": "code",
   "execution_count": 97,
   "metadata": {},
   "outputs": [
    {
     "name": "stdout",
     "output_type": "stream",
     "text": [
      "40M -rw-rw-r-- 1 wmnlab 40M  二  11 18:43 test.csv\n"
     ]
    }
   ],
   "source": [
    "!ls -GFlash test.csv"
   ]
  },
  {
   "cell_type": "code",
   "execution_count": 98,
   "metadata": {},
   "outputs": [
    {
     "data": {
      "text/plain": [
       "size          category\n",
       "age              int16\n",
       "team          category\n",
       "win               bool\n",
       "date    datetime64[ns]\n",
       "prob           float32\n",
       "dtype: object"
      ]
     },
     "execution_count": 98,
     "metadata": {},
     "output_type": "execute_result"
    }
   ],
   "source": [
    "df.dtypes"
   ]
  },
  {
   "cell_type": "code",
   "execution_count": 99,
   "metadata": {},
   "outputs": [
    {
     "data": {
      "text/plain": [
       "size     object\n",
       "age       int64\n",
       "team     object\n",
       "win        bool\n",
       "date     object\n",
       "prob    float64\n",
       "dtype: object"
      ]
     },
     "execution_count": 99,
     "metadata": {},
     "output_type": "execute_result"
    }
   ],
   "source": [
    "# dtypes are not totally the same as input\n",
    "df_csv.dtypes"
   ]
  },
  {
   "attachments": {},
   "cell_type": "markdown",
   "metadata": {},
   "source": [
    "# Pickle\n",
    "\n",
    "Need not to set dtypes again (while reading data)!"
   ]
  },
  {
   "cell_type": "code",
   "execution_count": 100,
   "metadata": {},
   "outputs": [
    {
     "name": "stdout",
     "output_type": "stream",
     "text": [
      "CPU times: user 0 ns, sys: 15.3 ms, total: 15.3 ms\n",
      "Wall time: 21.2 ms\n",
      "CPU times: user 0 ns, sys: 3.09 ms, total: 3.09 ms\n",
      "Wall time: 3.03 ms\n"
     ]
    },
    {
     "data": {
      "text/html": [
       "<div>\n",
       "<style scoped>\n",
       "    .dataframe tbody tr th:only-of-type {\n",
       "        vertical-align: middle;\n",
       "    }\n",
       "\n",
       "    .dataframe tbody tr th {\n",
       "        vertical-align: top;\n",
       "    }\n",
       "\n",
       "    .dataframe thead th {\n",
       "        text-align: right;\n",
       "    }\n",
       "</style>\n",
       "<table border=\"1\" class=\"dataframe\">\n",
       "  <thead>\n",
       "    <tr style=\"text-align: right;\">\n",
       "      <th></th>\n",
       "      <th>size</th>\n",
       "      <th>age</th>\n",
       "      <th>team</th>\n",
       "      <th>win</th>\n",
       "      <th>date</th>\n",
       "      <th>prob</th>\n",
       "    </tr>\n",
       "  </thead>\n",
       "  <tbody>\n",
       "    <tr>\n",
       "      <th>0</th>\n",
       "      <td>small</td>\n",
       "      <td>14</td>\n",
       "      <td>yellow</td>\n",
       "      <td>True</td>\n",
       "      <td>2022-09-13</td>\n",
       "      <td>0.677967</td>\n",
       "    </tr>\n",
       "    <tr>\n",
       "      <th>1</th>\n",
       "      <td>big</td>\n",
       "      <td>30</td>\n",
       "      <td>red</td>\n",
       "      <td>True</td>\n",
       "      <td>2020-04-27</td>\n",
       "      <td>0.284421</td>\n",
       "    </tr>\n",
       "    <tr>\n",
       "      <th>2</th>\n",
       "      <td>small</td>\n",
       "      <td>11</td>\n",
       "      <td>blue</td>\n",
       "      <td>True</td>\n",
       "      <td>2021-01-21</td>\n",
       "      <td>0.907483</td>\n",
       "    </tr>\n",
       "    <tr>\n",
       "      <th>3</th>\n",
       "      <td>medium</td>\n",
       "      <td>20</td>\n",
       "      <td>green</td>\n",
       "      <td>True</td>\n",
       "      <td>2022-06-28</td>\n",
       "      <td>0.402508</td>\n",
       "    </tr>\n",
       "    <tr>\n",
       "      <th>4</th>\n",
       "      <td>big</td>\n",
       "      <td>29</td>\n",
       "      <td>red</td>\n",
       "      <td>False</td>\n",
       "      <td>2021-03-05</td>\n",
       "      <td>0.097007</td>\n",
       "    </tr>\n",
       "  </tbody>\n",
       "</table>\n",
       "</div>"
      ],
      "text/plain": [
       "     size  age    team    win       date      prob\n",
       "0   small   14  yellow   True 2022-09-13  0.677967\n",
       "1     big   30     red   True 2020-04-27  0.284421\n",
       "2   small   11    blue   True 2021-01-21  0.907483\n",
       "3  medium   20   green   True 2022-06-28  0.402508\n",
       "4     big   29     red  False 2021-03-05  0.097007"
      ]
     },
     "execution_count": 100,
     "metadata": {},
     "output_type": "execute_result"
    }
   ],
   "source": [
    "df = get_dataset(1_000_000)\n",
    "df = set_dtypes(df)\n",
    "%time df.to_pickle('test.pickle')\n",
    "%time df_pickle = pd.read_pickle('test.pickle')\n",
    "df_pickle.head()"
   ]
  },
  {
   "cell_type": "code",
   "execution_count": 101,
   "metadata": {},
   "outputs": [
    {
     "name": "stdout",
     "output_type": "stream",
     "text": [
      "17M -rw-rw-r-- 1 wmnlab 17M  二  11 18:43 test.pickle\n"
     ]
    }
   ],
   "source": [
    "!ls -GFlash test.pickle"
   ]
  },
  {
   "cell_type": "code",
   "execution_count": 102,
   "metadata": {},
   "outputs": [
    {
     "data": {
      "text/plain": [
       "size          category\n",
       "age              int16\n",
       "team          category\n",
       "win               bool\n",
       "date    datetime64[ns]\n",
       "prob           float32\n",
       "dtype: object"
      ]
     },
     "execution_count": 102,
     "metadata": {},
     "output_type": "execute_result"
    }
   ],
   "source": [
    "df.dtypes"
   ]
  },
  {
   "cell_type": "code",
   "execution_count": 103,
   "metadata": {},
   "outputs": [
    {
     "data": {
      "text/plain": [
       "size          category\n",
       "age              int16\n",
       "team          category\n",
       "win               bool\n",
       "date    datetime64[ns]\n",
       "prob           float32\n",
       "dtype: object"
      ]
     },
     "execution_count": 103,
     "metadata": {},
     "output_type": "execute_result"
    }
   ],
   "source": [
    "df_pickle.dtypes"
   ]
  },
  {
   "attachments": {},
   "cell_type": "markdown",
   "metadata": {},
   "source": [
    "# Parquet"
   ]
  },
  {
   "cell_type": "code",
   "execution_count": 104,
   "metadata": {},
   "outputs": [
    {
     "name": "stdout",
     "output_type": "stream",
     "text": [
      "Requirement already satisfied: pyarrow in /home/wmnlab/.local/lib/python3.8/site-packages (11.0.0)\n",
      "Requirement already satisfied: numpy>=1.16.6 in /home/wmnlab/.local/lib/python3.8/site-packages (from pyarrow) (1.23.2)\n",
      "Requirement already satisfied: fastparquet in /home/wmnlab/.local/lib/python3.8/site-packages (2023.2.0)\n",
      "Requirement already satisfied: packaging in /home/wmnlab/.local/lib/python3.8/site-packages (from fastparquet) (21.3)\n",
      "Requirement already satisfied: pandas>=1.5.0 in /home/wmnlab/.local/lib/python3.8/site-packages (from fastparquet) (1.5.2)\n",
      "Requirement already satisfied: cramjam>=2.3 in /home/wmnlab/.local/lib/python3.8/site-packages (from fastparquet) (2.6.2)\n",
      "Requirement already satisfied: fsspec in /home/wmnlab/.local/lib/python3.8/site-packages (from fastparquet) (2022.11.0)\n",
      "Requirement already satisfied: numpy>=1.20.3 in /home/wmnlab/.local/lib/python3.8/site-packages (from fastparquet) (1.23.2)\n",
      "Requirement already satisfied: pyparsing!=3.0.5,>=2.0.2 in /home/wmnlab/.local/lib/python3.8/site-packages (from packaging->fastparquet) (3.0.9)\n",
      "Requirement already satisfied: python-dateutil>=2.8.1 in /home/wmnlab/.local/lib/python3.8/site-packages (from pandas>=1.5.0->fastparquet) (2.8.2)\n",
      "Requirement already satisfied: pytz>=2020.1 in /home/wmnlab/.local/lib/python3.8/site-packages (from pandas>=1.5.0->fastparquet) (2022.2.1)\n",
      "Requirement already satisfied: six>=1.5 in /usr/lib/python3/dist-packages (from python-dateutil>=2.8.1->pandas>=1.5.0->fastparquet) (1.14.0)\n"
     ]
    }
   ],
   "source": [
    "!pip install pyarrow\n",
    "!pip install fastparquet"
   ]
  },
  {
   "cell_type": "code",
   "execution_count": 105,
   "metadata": {},
   "outputs": [
    {
     "name": "stdout",
     "output_type": "stream",
     "text": [
      "CPU times: user 94.6 ms, sys: 23.4 ms, total: 118 ms\n",
      "Wall time: 120 ms\n",
      "CPU times: user 29.1 ms, sys: 45.5 ms, total: 74.5 ms\n",
      "Wall time: 27.1 ms\n"
     ]
    },
    {
     "data": {
      "text/html": [
       "<div>\n",
       "<style scoped>\n",
       "    .dataframe tbody tr th:only-of-type {\n",
       "        vertical-align: middle;\n",
       "    }\n",
       "\n",
       "    .dataframe tbody tr th {\n",
       "        vertical-align: top;\n",
       "    }\n",
       "\n",
       "    .dataframe thead th {\n",
       "        text-align: right;\n",
       "    }\n",
       "</style>\n",
       "<table border=\"1\" class=\"dataframe\">\n",
       "  <thead>\n",
       "    <tr style=\"text-align: right;\">\n",
       "      <th></th>\n",
       "      <th>size</th>\n",
       "      <th>age</th>\n",
       "      <th>team</th>\n",
       "      <th>win</th>\n",
       "      <th>date</th>\n",
       "      <th>prob</th>\n",
       "    </tr>\n",
       "  </thead>\n",
       "  <tbody>\n",
       "    <tr>\n",
       "      <th>0</th>\n",
       "      <td>medium</td>\n",
       "      <td>3</td>\n",
       "      <td>green</td>\n",
       "      <td>True</td>\n",
       "      <td>2022-02-01</td>\n",
       "      <td>0.669044</td>\n",
       "    </tr>\n",
       "    <tr>\n",
       "      <th>1</th>\n",
       "      <td>medium</td>\n",
       "      <td>45</td>\n",
       "      <td>blue</td>\n",
       "      <td>False</td>\n",
       "      <td>2020-08-12</td>\n",
       "      <td>0.066560</td>\n",
       "    </tr>\n",
       "    <tr>\n",
       "      <th>2</th>\n",
       "      <td>small</td>\n",
       "      <td>13</td>\n",
       "      <td>blue</td>\n",
       "      <td>True</td>\n",
       "      <td>2022-02-24</td>\n",
       "      <td>0.992863</td>\n",
       "    </tr>\n",
       "    <tr>\n",
       "      <th>3</th>\n",
       "      <td>small</td>\n",
       "      <td>1</td>\n",
       "      <td>yellow</td>\n",
       "      <td>False</td>\n",
       "      <td>2021-12-07</td>\n",
       "      <td>0.476879</td>\n",
       "    </tr>\n",
       "    <tr>\n",
       "      <th>4</th>\n",
       "      <td>medium</td>\n",
       "      <td>39</td>\n",
       "      <td>blue</td>\n",
       "      <td>True</td>\n",
       "      <td>2021-11-08</td>\n",
       "      <td>0.321545</td>\n",
       "    </tr>\n",
       "  </tbody>\n",
       "</table>\n",
       "</div>"
      ],
      "text/plain": [
       "     size  age    team    win       date      prob\n",
       "0  medium    3   green   True 2022-02-01  0.669044\n",
       "1  medium   45    blue  False 2020-08-12  0.066560\n",
       "2   small   13    blue   True 2022-02-24  0.992863\n",
       "3   small    1  yellow  False 2021-12-07  0.476879\n",
       "4  medium   39    blue   True 2021-11-08  0.321545"
      ]
     },
     "execution_count": 105,
     "metadata": {},
     "output_type": "execute_result"
    }
   ],
   "source": [
    "df = get_dataset(1_000_000)\n",
    "df = set_dtypes(df)\n",
    "%time df.to_parquet('test.parquet')\n",
    "%time df_parquet = pd.read_parquet('test.parquet')\n",
    "df_parquet.head()"
   ]
  },
  {
   "cell_type": "code",
   "execution_count": 106,
   "metadata": {},
   "outputs": [
    {
     "name": "stdout",
     "output_type": "stream",
     "text": [
      "7.1M -rw-rw-r-- 1 wmnlab 7.1M  二  11 18:43 test.parquet\n"
     ]
    }
   ],
   "source": [
    "!ls -GFlash test.parquet"
   ]
  },
  {
   "cell_type": "code",
   "execution_count": 107,
   "metadata": {},
   "outputs": [
    {
     "data": {
      "text/plain": [
       "size          category\n",
       "age              int16\n",
       "team          category\n",
       "win               bool\n",
       "date    datetime64[ns]\n",
       "prob           float32\n",
       "dtype: object"
      ]
     },
     "execution_count": 107,
     "metadata": {},
     "output_type": "execute_result"
    }
   ],
   "source": [
    "df.dtypes"
   ]
  },
  {
   "cell_type": "code",
   "execution_count": 108,
   "metadata": {},
   "outputs": [
    {
     "data": {
      "text/plain": [
       "size          category\n",
       "age              int16\n",
       "team          category\n",
       "win               bool\n",
       "date    datetime64[ns]\n",
       "prob           float32\n",
       "dtype: object"
      ]
     },
     "execution_count": 108,
     "metadata": {},
     "output_type": "execute_result"
    }
   ],
   "source": [
    "df_parquet.dtypes"
   ]
  },
  {
   "attachments": {},
   "cell_type": "markdown",
   "metadata": {},
   "source": [
    "## Read in specific columns"
   ]
  },
  {
   "cell_type": "code",
   "execution_count": 109,
   "metadata": {},
   "outputs": [
    {
     "data": {
      "text/html": [
       "<div>\n",
       "<style scoped>\n",
       "    .dataframe tbody tr th:only-of-type {\n",
       "        vertical-align: middle;\n",
       "    }\n",
       "\n",
       "    .dataframe tbody tr th {\n",
       "        vertical-align: top;\n",
       "    }\n",
       "\n",
       "    .dataframe thead th {\n",
       "        text-align: right;\n",
       "    }\n",
       "</style>\n",
       "<table border=\"1\" class=\"dataframe\">\n",
       "  <thead>\n",
       "    <tr style=\"text-align: right;\">\n",
       "      <th></th>\n",
       "      <th>date</th>\n",
       "      <th>win</th>\n",
       "    </tr>\n",
       "  </thead>\n",
       "  <tbody>\n",
       "    <tr>\n",
       "      <th>0</th>\n",
       "      <td>2022-02-01</td>\n",
       "      <td>True</td>\n",
       "    </tr>\n",
       "    <tr>\n",
       "      <th>1</th>\n",
       "      <td>2020-08-12</td>\n",
       "      <td>False</td>\n",
       "    </tr>\n",
       "    <tr>\n",
       "      <th>2</th>\n",
       "      <td>2022-02-24</td>\n",
       "      <td>True</td>\n",
       "    </tr>\n",
       "    <tr>\n",
       "      <th>3</th>\n",
       "      <td>2021-12-07</td>\n",
       "      <td>False</td>\n",
       "    </tr>\n",
       "    <tr>\n",
       "      <th>4</th>\n",
       "      <td>2021-11-08</td>\n",
       "      <td>True</td>\n",
       "    </tr>\n",
       "  </tbody>\n",
       "</table>\n",
       "</div>"
      ],
      "text/plain": [
       "        date    win\n",
       "0 2022-02-01   True\n",
       "1 2020-08-12  False\n",
       "2 2022-02-24   True\n",
       "3 2021-12-07  False\n",
       "4 2021-11-08   True"
      ]
     },
     "execution_count": 109,
     "metadata": {},
     "output_type": "execute_result"
    }
   ],
   "source": [
    "df_parquet = pd.read_parquet('test.parquet', columns=['date', 'win'])\n",
    "df_parquet.head()"
   ]
  },
  {
   "attachments": {},
   "cell_type": "markdown",
   "metadata": {},
   "source": [
    "# Feather"
   ]
  },
  {
   "cell_type": "code",
   "execution_count": 110,
   "metadata": {},
   "outputs": [
    {
     "name": "stdout",
     "output_type": "stream",
     "text": [
      "CPU times: user 60.8 ms, sys: 5.45 ms, total: 66.3 ms\n",
      "Wall time: 38.8 ms\n",
      "CPU times: user 21 ms, sys: 7.21 ms, total: 28.2 ms\n",
      "Wall time: 13.4 ms\n"
     ]
    },
    {
     "data": {
      "text/html": [
       "<div>\n",
       "<style scoped>\n",
       "    .dataframe tbody tr th:only-of-type {\n",
       "        vertical-align: middle;\n",
       "    }\n",
       "\n",
       "    .dataframe tbody tr th {\n",
       "        vertical-align: top;\n",
       "    }\n",
       "\n",
       "    .dataframe thead th {\n",
       "        text-align: right;\n",
       "    }\n",
       "</style>\n",
       "<table border=\"1\" class=\"dataframe\">\n",
       "  <thead>\n",
       "    <tr style=\"text-align: right;\">\n",
       "      <th></th>\n",
       "      <th>size</th>\n",
       "      <th>age</th>\n",
       "      <th>team</th>\n",
       "      <th>win</th>\n",
       "      <th>date</th>\n",
       "      <th>prob</th>\n",
       "    </tr>\n",
       "  </thead>\n",
       "  <tbody>\n",
       "    <tr>\n",
       "      <th>0</th>\n",
       "      <td>big</td>\n",
       "      <td>6</td>\n",
       "      <td>yellow</td>\n",
       "      <td>True</td>\n",
       "      <td>2022-07-30</td>\n",
       "      <td>0.313523</td>\n",
       "    </tr>\n",
       "    <tr>\n",
       "      <th>1</th>\n",
       "      <td>small</td>\n",
       "      <td>44</td>\n",
       "      <td>red</td>\n",
       "      <td>False</td>\n",
       "      <td>2020-12-17</td>\n",
       "      <td>0.358667</td>\n",
       "    </tr>\n",
       "    <tr>\n",
       "      <th>2</th>\n",
       "      <td>big</td>\n",
       "      <td>36</td>\n",
       "      <td>red</td>\n",
       "      <td>True</td>\n",
       "      <td>2021-09-20</td>\n",
       "      <td>0.743402</td>\n",
       "    </tr>\n",
       "    <tr>\n",
       "      <th>3</th>\n",
       "      <td>big</td>\n",
       "      <td>5</td>\n",
       "      <td>blue</td>\n",
       "      <td>True</td>\n",
       "      <td>2021-11-04</td>\n",
       "      <td>0.206697</td>\n",
       "    </tr>\n",
       "    <tr>\n",
       "      <th>4</th>\n",
       "      <td>small</td>\n",
       "      <td>13</td>\n",
       "      <td>red</td>\n",
       "      <td>False</td>\n",
       "      <td>2022-12-03</td>\n",
       "      <td>0.521272</td>\n",
       "    </tr>\n",
       "  </tbody>\n",
       "</table>\n",
       "</div>"
      ],
      "text/plain": [
       "    size  age    team    win       date      prob\n",
       "0    big    6  yellow   True 2022-07-30  0.313523\n",
       "1  small   44     red  False 2020-12-17  0.358667\n",
       "2    big   36     red   True 2021-09-20  0.743402\n",
       "3    big    5    blue   True 2021-11-04  0.206697\n",
       "4  small   13     red  False 2022-12-03  0.521272"
      ]
     },
     "execution_count": 110,
     "metadata": {},
     "output_type": "execute_result"
    }
   ],
   "source": [
    "df = get_dataset(1_000_000)\n",
    "df = set_dtypes(df)\n",
    "%time df.to_feather('test.feather')\n",
    "%time df_feather = pd.read_feather('test.feather')\n",
    "df_feather.head()"
   ]
  },
  {
   "cell_type": "code",
   "execution_count": 111,
   "metadata": {},
   "outputs": [
    {
     "name": "stdout",
     "output_type": "stream",
     "text": [
      "9.8M -rw-rw-r-- 1 wmnlab 9.8M  二  11 18:43 test.feather\n"
     ]
    }
   ],
   "source": [
    "!ls -GFlash test.feather"
   ]
  },
  {
   "cell_type": "code",
   "execution_count": 112,
   "metadata": {},
   "outputs": [
    {
     "data": {
      "text/plain": [
       "size          category\n",
       "age              int16\n",
       "team          category\n",
       "win               bool\n",
       "date    datetime64[ns]\n",
       "prob           float32\n",
       "dtype: object"
      ]
     },
     "execution_count": 112,
     "metadata": {},
     "output_type": "execute_result"
    }
   ],
   "source": [
    "df.dtypes"
   ]
  },
  {
   "cell_type": "code",
   "execution_count": 113,
   "metadata": {},
   "outputs": [
    {
     "data": {
      "text/plain": [
       "size          category\n",
       "age              int16\n",
       "team          category\n",
       "win               bool\n",
       "date    datetime64[ns]\n",
       "prob           float32\n",
       "dtype: object"
      ]
     },
     "execution_count": 113,
     "metadata": {},
     "output_type": "execute_result"
    }
   ],
   "source": [
    "df_feather.dtypes"
   ]
  },
  {
   "cell_type": "code",
   "execution_count": 114,
   "metadata": {},
   "outputs": [
    {
     "name": "stdout",
     "output_type": "stream",
     "text": [
      " 40M -rw-rw-r-- 1 wmnlab  40M  二  11 18:43 test.csv\n",
      "9.8M -rw-rw-r-- 1 wmnlab 9.8M  二  11 18:43 test.feather\n",
      "7.1M -rw-rw-r-- 1 wmnlab 7.1M  二  11 18:43 test.parquet\n",
      " 17M -rw-rw-r-- 1 wmnlab  17M  二  11 18:43 test.pickle\n"
     ]
    },
    {
     "ename": "",
     "evalue": "",
     "output_type": "error",
     "traceback": [
      "\u001b[1;31mThe Kernel crashed while executing code in the the current cell or a previous cell. Please review the code in the cell(s) to identify a possible cause of the failure. Click <a href='https://aka.ms/vscodeJupyterKernelCrash'>here</a> for more info. View Jupyter <a href='command:jupyter.viewOutput'>log</a> for further details."
     ]
    }
   ],
   "source": [
    "!ls -GFlash test.csv test.pickle test.parquet test.feather"
   ]
  },
  {
   "attachments": {},
   "cell_type": "markdown",
   "metadata": {},
   "source": [
    "# Speed & Space\n",
    "\n",
    "- Speed: Feather > Pickle > Parquet > Csv\n",
    "- Space: Parquet < Feather < Pickle < Csv\n",
    "- Parquet can read specific columns only!"
   ]
  },
  {
   "cell_type": "code",
   "execution_count": null,
   "metadata": {},
   "outputs": [],
   "source": []
  }
 ],
 "metadata": {
  "kernelspec": {
   "display_name": "Python 3",
   "language": "python",
   "name": "python3"
  },
  "language_info": {
   "codemirror_mode": {
    "name": "ipython",
    "version": 3
   },
   "file_extension": ".py",
   "mimetype": "text/x-python",
   "name": "python",
   "nbconvert_exporter": "python",
   "pygments_lexer": "ipython3",
   "version": "3.8.10"
  },
  "orig_nbformat": 4,
  "vscode": {
   "interpreter": {
    "hash": "31f2aee4e71d21fbe5cf8b01ff0e069b9275f58929596ceb00d14d90e3e16cd6"
   }
  }
 },
 "nbformat": 4,
 "nbformat_minor": 2
}
