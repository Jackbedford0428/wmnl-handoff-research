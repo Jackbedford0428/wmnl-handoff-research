{
 "cells": [
  {
   "cell_type": "code",
   "execution_count": 44,
   "metadata": {},
   "outputs": [
    {
     "name": "stdout",
     "output_type": "stream",
     "text": [
      "packet_rate (pps): 500.0 \n",
      "\n"
     ]
    }
   ],
   "source": [
    "import os\n",
    "import sys\n",
    "import shutil\n",
    "import argparse\n",
    "import traceback\n",
    "import csv\n",
    "import pandas as pd\n",
    "import datetime as dt\n",
    "import numpy as np\n",
    "from pprint import pprint\n",
    "from tqdm import tqdm\n",
    "from pytictoc import TicToc\n",
    "from statistics import median\n",
    "\n",
    "# ******************************* User Settings *******************************\n",
    "PKT_LEN = 250  # Bytes\n",
    "DATA_RATE = 1000e3  # bits-per-second\n",
    "PKT_RATE = DATA_RATE / PKT_LEN / 8  # packets-per-second\n",
    "print(\"packet_rate (pps):\", PKT_RATE, \"\\n\")\n",
    "# *****************************************************************************\n",
    "\n",
    "def truncate(txdf, rxdf):\n",
    "    \"\"\"\n",
    "    Truncate the rows of lost packets.\n",
    "    \"\"\"\n",
    "    tx_arr = list(zip(txdf['sequence.number'].array, txdf['Timestamp'].array, txdf['Timestamp_epoch'].array))\n",
    "    rx_arr = list(zip(rxdf['sequence.number'].array, rxdf['Timestamp'].array, rxdf['Timestamp_epoch'].array))\n",
    "    _tx_arr = []\n",
    "    j = 0\n",
    "    N = len(rx_arr)\n",
    "    for i in range(len(tx_arr)):\n",
    "        if tx_arr[i][0] == rx_arr[j][0]:\n",
    "            _tx_arr.append(tx_arr[i])\n",
    "            if j < N-1:\n",
    "                j += 1\n",
    "    M = min(len(_tx_arr), len(rx_arr))\n",
    "    return _tx_arr[:M], rx_arr[:M]\n",
    "\n",
    "def calc_delta(txdl_df, rxdl_df, txul_df, rxul_df):\n",
    "    \"\"\"\n",
    "    Calculate the time delta between server and client.\n",
    "        If the client is behind server, delta > 0\n",
    "        If the client is ahead of server, delta < 0\n",
    "        server clock := client clock + delta\n",
    "        \n",
    "    Returns:\n",
    "        delta (datetime.timedelta)\n",
    "        delta (float)\n",
    "    \"\"\"\n",
    "    ### Since the transmission is launched by client, the starting time of Uplink is ahead of Downlink.\n",
    "    seq_diff = round(500e-3 * PKT_RATE)\n",
    "    txul_df = txul_df[txul_df['sequence.number'] > seq_diff].reset_index(drop=True)\n",
    "    rxul_df = rxul_df[rxul_df['sequence.number'] > seq_diff].reset_index(drop=True)\n",
    "    \n",
    "    txdl_arr, rxdl_arr = truncate(txdl_df, rxdl_df)\n",
    "    txul_arr, rxul_arr = truncate(txul_df, rxul_df)\n",
    "\n",
    "    M = min(len(txdl_arr), len(txul_arr))\n",
    "    txdl_arr, rxdl_arr, txul_arr, rxul_arr = txdl_arr[:M], rxdl_arr[:M], txul_arr[:M], rxul_arr[:M]\n",
    "\n",
    "    # print(len(txdl_arr), len(rxdl_arr))\n",
    "    # print(txdl_arr[0], rxdl_arr[0])\n",
    "    # print(txdl_arr[-1], rxdl_arr[-1])\n",
    "    # print()\n",
    "    # print(len(txul_arr), len(rxul_arr))\n",
    "    # print(txul_arr[0], rxul_arr[0])\n",
    "    # print(txul_arr[-1], rxul_arr[-1])\n",
    "    # print()\n",
    "    \n",
    "    timedelta_list = []\n",
    "    epoch_delta_list = []\n",
    "    for ts1, ts2, ts3, ts4 in zip(txdl_arr, rxdl_arr, txul_arr, rxul_arr):\n",
    "        latency_dl = ts2[1] - ts1[1]\n",
    "        epoch_latency_dl = ts2[2] - ts1[2]\n",
    "        latency_ul = ts4[1] - ts3[1]\n",
    "        epoch_latency_ul = ts4[2] - ts3[2]\n",
    "        timedelta_list.append((latency_ul - latency_dl) / 2)\n",
    "        epoch_delta_list.append((epoch_latency_ul - epoch_latency_dl) / 2)\n",
    "    return median(timedelta_list), round(median(epoch_delta_list), 6)"
   ]
  },
  {
   "cell_type": "code",
   "execution_count": 45,
   "metadata": {},
   "outputs": [
    {
     "name": "stdout",
     "output_type": "stream",
     "text": [
      "0 days 00:00:00.153820500\n",
      "0.15382\n"
     ]
    }
   ],
   "source": [
    "txdl_df = pd.read_csv(\"/home/wmnlab/D/database/2022-10-11/_Bandlock_Udp/sm03/#01/analysis/srv_dwnlnk_udp_packet_brief.csv\")\n",
    "rxdl_df = pd.read_csv(\"/home/wmnlab/D/database/2022-10-11/_Bandlock_Udp/sm03/#01/analysis/clt_dwnlnk_udp_packet_brief.csv\")\n",
    "txul_df = pd.read_csv(\"/home/wmnlab/D/database/2022-10-11/_Bandlock_Udp/sm03/#01/analysis/clt_uplnk_udp_packet_brief.csv\")\n",
    "rxul_df = pd.read_csv(\"/home/wmnlab/D/database/2022-10-11/_Bandlock_Udp/sm03/#01/analysis/srv_uplnk_udp_packet_brief.csv\")\n",
    "\n",
    "txdl_df['Timestamp'] = pd.to_datetime(txdl_df['Timestamp'])  # transmitted time from server\n",
    "rxdl_df['Timestamp'] = pd.to_datetime(rxdl_df['Timestamp'])  # arrival time to client\n",
    "txul_df['Timestamp'] = pd.to_datetime(txul_df['Timestamp'])  # transmitted time from client\n",
    "rxul_df['Timestamp'] = pd.to_datetime(rxul_df['Timestamp'])  # arrival time to server\n",
    "\n",
    "delta, epoch_delta = calc_delta(txdl_df, rxdl_df, txul_df, rxul_df)\n",
    "print(delta)\n",
    "print(epoch_delta)"
   ]
  },
  {
   "cell_type": "code",
   "execution_count": 46,
   "metadata": {},
   "outputs": [
    {
     "name": "stdout",
     "output_type": "stream",
     "text": [
      "0 days 00:00:01.193984500\n",
      "1.193985\n"
     ]
    }
   ],
   "source": [
    "txdl_df = pd.read_csv(\"/home/wmnlab/D/database/2022-10-11/_Bandlock_Udp/sm04/#01/analysis/srv_dwnlnk_udp_packet_brief.csv\")\n",
    "rxdl_df = pd.read_csv(\"/home/wmnlab/D/database/2022-10-11/_Bandlock_Udp/sm04/#01/analysis/clt_dwnlnk_udp_packet_brief.csv\")\n",
    "txul_df = pd.read_csv(\"/home/wmnlab/D/database/2022-10-11/_Bandlock_Udp/sm04/#01/analysis/clt_uplnk_udp_packet_brief.csv\")\n",
    "rxul_df = pd.read_csv(\"/home/wmnlab/D/database/2022-10-11/_Bandlock_Udp/sm04/#01/analysis/srv_uplnk_udp_packet_brief.csv\")\n",
    "\n",
    "txdl_df['Timestamp'] = pd.to_datetime(txdl_df['Timestamp'])  # transmitted time from server\n",
    "rxdl_df['Timestamp'] = pd.to_datetime(rxdl_df['Timestamp'])  # arrival time to client\n",
    "txul_df['Timestamp'] = pd.to_datetime(txul_df['Timestamp'])  # transmitted time from client\n",
    "rxul_df['Timestamp'] = pd.to_datetime(rxul_df['Timestamp'])  # arrival time to server\n",
    "\n",
    "delta, epoch_delta = calc_delta(txdl_df, rxdl_df, txul_df, rxul_df)\n",
    "print(delta)\n",
    "print(epoch_delta)"
   ]
  },
  {
   "cell_type": "code",
   "execution_count": 47,
   "metadata": {},
   "outputs": [
    {
     "name": "stdout",
     "output_type": "stream",
     "text": [
      "0 days 00:00:01.074737500\n",
      "1.074738\n"
     ]
    }
   ],
   "source": [
    "txdl_df = pd.read_csv(\"/home/wmnlab/D/database/2022-10-11/_Bandlock_Udp/sm05/#01/analysis/srv_dwnlnk_udp_packet_brief.csv\")\n",
    "rxdl_df = pd.read_csv(\"/home/wmnlab/D/database/2022-10-11/_Bandlock_Udp/sm05/#01/analysis/clt_dwnlnk_udp_packet_brief.csv\")\n",
    "txul_df = pd.read_csv(\"/home/wmnlab/D/database/2022-10-11/_Bandlock_Udp/sm05/#01/analysis/clt_uplnk_udp_packet_brief.csv\")\n",
    "rxul_df = pd.read_csv(\"/home/wmnlab/D/database/2022-10-11/_Bandlock_Udp/sm05/#01/analysis/srv_uplnk_udp_packet_brief.csv\")\n",
    "\n",
    "txdl_df['Timestamp'] = pd.to_datetime(txdl_df['Timestamp'])  # transmitted time from server\n",
    "rxdl_df['Timestamp'] = pd.to_datetime(rxdl_df['Timestamp'])  # arrival time to client\n",
    "txul_df['Timestamp'] = pd.to_datetime(txul_df['Timestamp'])  # transmitted time from client\n",
    "rxul_df['Timestamp'] = pd.to_datetime(rxul_df['Timestamp'])  # arrival time to server\n",
    "\n",
    "delta, epoch_delta = calc_delta(txdl_df, rxdl_df, txul_df, rxul_df)\n",
    "print(delta)\n",
    "print(epoch_delta)"
   ]
  },
  {
   "cell_type": "code",
   "execution_count": 48,
   "metadata": {},
   "outputs": [
    {
     "name": "stdout",
     "output_type": "stream",
     "text": [
      "0 days 00:00:00.674709500\n",
      "0.674709\n"
     ]
    }
   ],
   "source": [
    "txdl_df = pd.read_csv(\"/home/wmnlab/D/database/2022-10-11/_Bandlock_Udp/sm06/#01/analysis/srv_dwnlnk_udp_packet_brief.csv\")\n",
    "rxdl_df = pd.read_csv(\"/home/wmnlab/D/database/2022-10-11/_Bandlock_Udp/sm06/#01/analysis/clt_dwnlnk_udp_packet_brief.csv\")\n",
    "txul_df = pd.read_csv(\"/home/wmnlab/D/database/2022-10-11/_Bandlock_Udp/sm06/#01/analysis/clt_uplnk_udp_packet_brief.csv\")\n",
    "rxul_df = pd.read_csv(\"/home/wmnlab/D/database/2022-10-11/_Bandlock_Udp/sm06/#01/analysis/srv_uplnk_udp_packet_brief.csv\")\n",
    "\n",
    "txdl_df['Timestamp'] = pd.to_datetime(txdl_df['Timestamp'])  # transmitted time from server\n",
    "rxdl_df['Timestamp'] = pd.to_datetime(rxdl_df['Timestamp'])  # arrival time to client\n",
    "txul_df['Timestamp'] = pd.to_datetime(txul_df['Timestamp'])  # transmitted time from client\n",
    "rxul_df['Timestamp'] = pd.to_datetime(rxul_df['Timestamp'])  # arrival time to server\n",
    "\n",
    "delta, epoch_delta = calc_delta(txdl_df, rxdl_df, txul_df, rxul_df)\n",
    "print(delta)\n",
    "print(epoch_delta)"
   ]
  },
  {
   "cell_type": "code",
   "execution_count": 49,
   "metadata": {},
   "outputs": [
    {
     "name": "stdout",
     "output_type": "stream",
     "text": [
      "0 days 00:00:00.548389\n",
      "0.548389\n"
     ]
    }
   ],
   "source": [
    "txdl_df = pd.read_csv(\"/home/wmnlab/D/database/2022-10-11/_Bandlock_Udp/sm07/#01/analysis/srv_dwnlnk_udp_packet_brief.csv\")\n",
    "rxdl_df = pd.read_csv(\"/home/wmnlab/D/database/2022-10-11/_Bandlock_Udp/sm07/#01/analysis/clt_dwnlnk_udp_packet_brief.csv\")\n",
    "txul_df = pd.read_csv(\"/home/wmnlab/D/database/2022-10-11/_Bandlock_Udp/sm07/#01/analysis/clt_uplnk_udp_packet_brief.csv\")\n",
    "rxul_df = pd.read_csv(\"/home/wmnlab/D/database/2022-10-11/_Bandlock_Udp/sm07/#01/analysis/srv_uplnk_udp_packet_brief.csv\")\n",
    "\n",
    "txdl_df['Timestamp'] = pd.to_datetime(txdl_df['Timestamp'])  # transmitted time from server\n",
    "rxdl_df['Timestamp'] = pd.to_datetime(rxdl_df['Timestamp'])  # arrival time to client\n",
    "txul_df['Timestamp'] = pd.to_datetime(txul_df['Timestamp'])  # transmitted time from client\n",
    "rxul_df['Timestamp'] = pd.to_datetime(rxul_df['Timestamp'])  # arrival time to server\n",
    "\n",
    "delta, epoch_delta = calc_delta(txdl_df, rxdl_df, txul_df, rxul_df)\n",
    "print(delta)\n",
    "print(epoch_delta)"
   ]
  },
  {
   "cell_type": "code",
   "execution_count": 50,
   "metadata": {},
   "outputs": [
    {
     "name": "stdout",
     "output_type": "stream",
     "text": [
      "0 days 00:00:00.988643\n",
      "0.988643\n"
     ]
    }
   ],
   "source": [
    "txdl_df = pd.read_csv(\"/home/wmnlab/D/database/2022-10-11/_Bandlock_Udp/sm08/#01/analysis/srv_dwnlnk_udp_packet_brief.csv\")\n",
    "rxdl_df = pd.read_csv(\"/home/wmnlab/D/database/2022-10-11/_Bandlock_Udp/sm08/#01/analysis/clt_dwnlnk_udp_packet_brief.csv\")\n",
    "txul_df = pd.read_csv(\"/home/wmnlab/D/database/2022-10-11/_Bandlock_Udp/sm08/#01/analysis/clt_uplnk_udp_packet_brief.csv\")\n",
    "rxul_df = pd.read_csv(\"/home/wmnlab/D/database/2022-10-11/_Bandlock_Udp/sm08/#01/analysis/srv_uplnk_udp_packet_brief.csv\")\n",
    "\n",
    "txdl_df['Timestamp'] = pd.to_datetime(txdl_df['Timestamp'])  # transmitted time from server\n",
    "rxdl_df['Timestamp'] = pd.to_datetime(rxdl_df['Timestamp'])  # arrival time to client\n",
    "txul_df['Timestamp'] = pd.to_datetime(txul_df['Timestamp'])  # transmitted time from client\n",
    "rxul_df['Timestamp'] = pd.to_datetime(rxul_df['Timestamp'])  # arrival time to server\n",
    "\n",
    "delta, epoch_delta = calc_delta(txdl_df, rxdl_df, txul_df, rxul_df)\n",
    "print(delta)\n",
    "print(epoch_delta)"
   ]
  },
  {
   "cell_type": "code",
   "execution_count": null,
   "metadata": {},
   "outputs": [],
   "source": []
  }
 ],
 "metadata": {
  "kernelspec": {
   "display_name": "Python 3",
   "language": "python",
   "name": "python3"
  },
  "language_info": {
   "codemirror_mode": {
    "name": "ipython",
    "version": 3
   },
   "file_extension": ".py",
   "mimetype": "text/x-python",
   "name": "python",
   "nbconvert_exporter": "python",
   "pygments_lexer": "ipython3",
   "version": "3.8.10 (default, Jun 22 2022, 20:18:18) \n[GCC 9.4.0]"
  },
  "orig_nbformat": 4,
  "vscode": {
   "interpreter": {
    "hash": "31f2aee4e71d21fbe5cf8b01ff0e069b9275f58929596ceb00d14d90e3e16cd6"
   }
  }
 },
 "nbformat": 4,
 "nbformat_minor": 2
}
