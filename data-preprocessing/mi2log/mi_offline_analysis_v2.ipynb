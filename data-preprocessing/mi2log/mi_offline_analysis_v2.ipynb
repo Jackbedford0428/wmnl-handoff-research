{
 "cells": [
  {
   "cell_type": "code",
   "execution_count": null,
   "metadata": {},
   "outputs": [],
   "source": [
    "import os\n",
    "import sys\n",
    "import argparse\n",
    "import traceback\n",
    "from pprint import pprint\n",
    "from pytictoc import TicToc\n",
    "\n",
    "### Import MobileInsight modules\n",
    "from mobile_insight.monitor import OfflineReplayer\n",
    "from mobile_insight.analyzer import MsgLogger, NrRrcAnalyzer, LteRrcAnalyzer, WcdmaRrcAnalyzer, LteNasAnalyzer, UmtsNasAnalyzer, LteMacAnalyzer, LtePhyAnalyzer, LteMeasurementAnalyzer"
   ]
  },
  {
   "cell_type": "code",
   "execution_count": null,
   "metadata": {},
   "outputs": [],
   "source": [
    "{\n",
    "    \"2023-08-21\": [\n",
    "        {\n",
    "            \"name\": \"Phone_Experiment_LTE_NR\",\n",
    "            \"trips\": 6,\n",
    "            \"directions\": [\"科技大樓:中山國中\", \"中山國中:科技大樓\", \"科技大樓:中山國中\", \"中山國中:科技大樓\", \"科技大樓:中山國中\", \"中山國中:科技大樓\"],\n",
    "            \"period\": \"afternoon\",\n",
    "            \"weather\": \"\",\n",
    "            \"gps\": \"no\",\n",
    "            \"telecom\": \"CHT\",\n",
    "            \"protocol\": \"UDP\",\n",
    "            \"length\": \"250 bytes\",\n",
    "            \"bitrate\": \"1 Mbps\",\n",
    "            \"device\": \"phone\",\n",
    "            \"terminal\": \"\",\n",
    "            \"settings\": { \"sm00\": \"All\", \"sm01\": \"LTE\" },\n",
    "            \"comment\": \"\"\n",
    "        }\n",
    "    ]\n",
    "}            \n",
    "\n",
    "\n",
    "\n",
    "\n",
    "class EXPR():\n",
    "    def __init__(self, di):\n",
    "        UNIT_C = {'b': 1, 'B': 1, 'k': 1e3, 'K': 1e3, 'M': 1e6, 'G': 1e9, 'T': 1e12, 'P': 1e15}\n",
    "        self.di = di\n",
    "        self.date = di['date']\n",
    "        self.devices = list(di['settings'].keys())\n",
    "        self.schemes = list(di['settings'].values())\n",
    "        self.gps = True if di['gps'] == \"yes\" else False\n",
    "        self.length = float(di['length'].split(' ')[0]) * UNIT_C[di['length'].split(' ')[1][0]]\n",
    "        self.bitrate = float(di['bitrate'].split(' ')[0]) * UNIT_C[di['bitrate'].split(' ')[1][0]]\n",
    "    \n",
    "    def show(self):\n",
    "        print(\"------------------------------------------\")\n",
    "        print(self.date, self.di['name'], self.di['trips'])\n",
    "        print(self.di['protocol'], self.di['telecom'], self.di['bitrate'], self.di['length'])\n",
    "        print(self.di['directions'])\n",
    "        for k, v in self.di['settings'].items():\n",
    "            print(f'| {k}: {v} |')\n",
    "        print(\"------------------------------------------\")\n",
    "        \n",
    "expr = EXPR(di)\n",
    "expr.show()"
   ]
  },
  {
   "cell_type": "code",
   "execution_count": null,
   "metadata": {},
   "outputs": [],
   "source": []
  },
  {
   "cell_type": "code",
   "execution_count": null,
   "metadata": {},
   "outputs": [],
   "source": []
  }
 ],
 "metadata": {
  "kernelspec": {
   "display_name": "moxa",
   "language": "python",
   "name": "python3"
  },
  "language_info": {
   "codemirror_mode": {
    "name": "ipython",
    "version": 3
   },
   "file_extension": ".py",
   "mimetype": "text/x-python",
   "name": "python",
   "nbconvert_exporter": "python",
   "pygments_lexer": "ipython3",
   "version": "3.8.16"
  },
  "orig_nbformat": 4
 },
 "nbformat": 4,
 "nbformat_minor": 2
}
