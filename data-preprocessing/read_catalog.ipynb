{
 "cells": [
  {
   "cell_type": "code",
   "execution_count": null,
   "metadata": {},
   "outputs": [],
   "source": [
    "import json\n",
    "from pprint import pprint\n",
    "\n",
    "filename = '../catalog.json'\n",
    "\n",
    "# Read JSON from a file\n",
    "with open(filename, 'r') as file:\n",
    "    catalog = json.load(file)\n",
    "\n",
    "catalog_by_date = []\n",
    "for key, content in catalog.items():\n",
    "    if not isinstance(content, dict):\n",
    "        # print(\"The content is not a dictionary.\")\n",
    "        print(key, content)\n",
    "        continue\n",
    "    \n",
    "    # print(\"The content is a dictionary.\")\n",
    "    if isinstance(content['routes'], dict) and not content['routes']:\n",
    "        # print(\"content['routes'] is an empty dictionary.\")\n",
    "        print(key, content['routes'])\n",
    "        continue\n",
    "    \n",
    "    print(key, content['routes'])\n",
    "    \n",
    "    routes = content['routes']\n",
    "    for route, content in routes.items():\n",
    "        print(key, route, content['stations'], content['dates'])\n",
    "        # print(content['dates'])\n",
    "        \n",
    "        for date, exps in content['dates'].items():\n",
    "            # print(date, dataset)\n",
    "            for dataset in exps:\n",
    "                print(date, dataset)\n",
    "                catalog_by_date.append({\n",
    "                    \"date\": date,\n",
    "                    \"line\": key,\n",
    "                    \"das\": route,\n",
    "                    \"stations\": content['stations'],\n",
    "                    **dataset\n",
    "                })\n",
    "\n",
    "# Sort the dictionary by keys\n",
    "catalog_by_date = sorted(catalog_by_date, key=lambda x: x[\"date\"])"
   ]
  },
  {
   "cell_type": "code",
   "execution_count": null,
   "metadata": {},
   "outputs": [],
   "source": [
    "pprint(catalog_by_date, sort_dicts=False)"
   ]
  },
  {
   "cell_type": "code",
   "execution_count": null,
   "metadata": {},
   "outputs": [],
   "source": [
    "# 要选择的日期列表\n",
    "selected_dates = [\"2023-08-21\", \"2023-09-21\", \"2023-10-11\"]\n",
    "selected_data = []\n",
    "\n",
    "# 遍历要选择的日期\n",
    "for date in selected_dates:\n",
    "    for item in catalog_by_date:\n",
    "        if item['date'].startswith(date):\n",
    "            selected_data.append(item)\n",
    "\n",
    "# 打印选定的数据\n",
    "pprint(selected_data, sort_dicts=False)"
   ]
  },
  {
   "cell_type": "code",
   "execution_count": null,
   "metadata": {},
   "outputs": [],
   "source": []
  }
 ],
 "metadata": {
  "kernelspec": {
   "display_name": "moxa",
   "language": "python",
   "name": "python3"
  },
  "language_info": {
   "codemirror_mode": {
    "name": "ipython",
    "version": 3
   },
   "file_extension": ".py",
   "mimetype": "text/x-python",
   "name": "python",
   "nbconvert_exporter": "python",
   "pygments_lexer": "ipython3",
   "version": "3.8.16"
  },
  "orig_nbformat": 4
 },
 "nbformat": 4,
 "nbformat_minor": 2
}
