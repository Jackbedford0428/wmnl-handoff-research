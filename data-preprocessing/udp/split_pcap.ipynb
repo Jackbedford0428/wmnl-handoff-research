{
 "cells": [
  {
   "cell_type": "code",
   "execution_count": null,
   "metadata": {},
   "outputs": [],
   "source": [
    "import subprocess\n",
    "import os\n",
    "import sys\n",
    "import time\n",
    "import argparse\n",
    "import traceback\n",
    "from operator import sub\n",
    "from pprint import pprint\n",
    "from pytictoc import TicToc\n",
    "\n",
    "before = \"server_pcap_BL_qc00_3270_3271_2023-03-16_19-23-46_sock.pcap\"\n",
    "after = \"server_pcap_BL_qc00_3270_3271_2023-03-16_19-32-47_sock.pcap\"\n",
    "ss = after[30:49].split('_')\n",
    "ss = ' '.join([ss[0], ':'.join(ss[1].split('-'))])\n",
    "print(ss)\n",
    "s = f'editcap -F libpcap -B \"{ss}\" {before} output.pcap'\n",
    "subprocess.Popen(s, shell=True)\n",
    "time.sleep(10)\n",
    "\n",
    "# ref. https://stackoverflow.com/questions/19952991/filter-a-pcap-dump-file-for-a-specific-time-range"
   ]
  },
  {
   "cell_type": "code",
   "execution_count": null,
   "metadata": {},
   "outputs": [],
   "source": [
    "import subprocess\n",
    "import os\n",
    "import sys\n",
    "import time\n",
    "import argparse\n",
    "import traceback\n",
    "from operator import sub\n",
    "from pprint import pprint\n",
    "from pytictoc import TicToc\n",
    "\n",
    "database = \"/home/wmnlab/D/database/\"\n",
    "date = \"2023-03-16\"\n",
    "devices = ['qc00','qc01','qc02','qc03']\n",
    "exp = \"_Bandlock_Udp_B1_B3_B7_B8_RM500Q\"\n",
    "traces1 = [\"#{:02d}\".format(i+1) for i in range(12)]\n",
    "traces2 = [\"#{:02d}\".format(i+1) for i in range(1, 13)]\n",
    "\n",
    "for dev in devices:\n",
    "    for trace1, trace2 in zip(traces1, traces2):\n",
    "        path1 = os.path.join(database, date, exp, dev, trace1, 'raw')\n",
    "        path2 = os.path.join(database, date, exp, dev, trace2, 'raw')\n",
    "        before = [s for s in os.listdir(path1) if s.startswith('server_pcap_BL_')][0]\n",
    "        after = [s for s in os.listdir(path2) if s.startswith('server_pcap_BL_')][0]\n",
    "        # print(before)\n",
    "        # print(after)\n",
    "        \n",
    "        ss = after[30:49].split('_')\n",
    "        ss = ' '.join([ss[0], ':'.join(ss[1].split('-'))])\n",
    "        print(ss)\n",
    "        \n",
    "        before = os.path.join(path1, before)\n",
    "        after = os.path.join(path2, after)\n",
    "        # print(before)\n",
    "        # print(after)\n",
    "        \n",
    "        s = f'editcap -F libpcap -B \"{ss}\" {before} {before}_new.pcap'\n",
    "        print(s)\n",
    "        subprocess.Popen(s, shell=True)\n",
    "        time.sleep(10)\n",
    "        os.system(f'rm {before}')\n",
    "        os.system(f'mv {before}_new.pcap {before}')\n",
    "        time.sleep(1)"
   ]
  },
  {
   "cell_type": "code",
   "execution_count": null,
   "metadata": {},
   "outputs": [],
   "source": []
  }
 ],
 "metadata": {
  "kernelspec": {
   "display_name": "Python 3",
   "language": "python",
   "name": "python3"
  },
  "language_info": {
   "codemirror_mode": {
    "name": "ipython",
    "version": 3
   },
   "file_extension": ".py",
   "mimetype": "text/x-python",
   "name": "python",
   "nbconvert_exporter": "python",
   "pygments_lexer": "ipython3",
   "version": "3.8.10"
  },
  "orig_nbformat": 4
 },
 "nbformat": 4,
 "nbformat_minor": 2
}
