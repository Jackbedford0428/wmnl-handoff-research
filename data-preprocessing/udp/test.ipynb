{
 "cells": [
  {
   "cell_type": "code",
   "execution_count": 20,
   "metadata": {},
   "outputs": [
    {
     "data": {
      "text/html": [
       "<div>\n",
       "<style scoped>\n",
       "    .dataframe tbody tr th:only-of-type {\n",
       "        vertical-align: middle;\n",
       "    }\n",
       "\n",
       "    .dataframe tbody tr th {\n",
       "        vertical-align: top;\n",
       "    }\n",
       "\n",
       "    .dataframe thead th {\n",
       "        text-align: right;\n",
       "    }\n",
       "</style>\n",
       "<table border=\"1\" class=\"dataframe\">\n",
       "  <thead>\n",
       "    <tr style=\"text-align: right;\">\n",
       "      <th></th>\n",
       "      <th>Timestamp</th>\n",
       "      <th>delta</th>\n",
       "      <th>timedelta</th>\n",
       "    </tr>\n",
       "  </thead>\n",
       "  <tbody>\n",
       "    <tr>\n",
       "      <th>0</th>\n",
       "      <td>2023-04-01 11:41:09.159653</td>\n",
       "      <td>-1.435313</td>\n",
       "      <td>-1 days +23:59:58.564686962</td>\n",
       "    </tr>\n",
       "    <tr>\n",
       "      <th>1</th>\n",
       "      <td>2023-04-01 14:07:37.404427</td>\n",
       "      <td>0.397438</td>\n",
       "      <td>0 days 00:00:00.397438500</td>\n",
       "    </tr>\n",
       "    <tr>\n",
       "      <th>2</th>\n",
       "      <td>2023-04-01 14:21:19.983960</td>\n",
       "      <td>0.394539</td>\n",
       "      <td>0 days 00:00:00.394538966</td>\n",
       "    </tr>\n",
       "    <tr>\n",
       "      <th>3</th>\n",
       "      <td>2023-04-01 14:32:12.341124</td>\n",
       "      <td>0.391556</td>\n",
       "      <td>0 days 00:00:00.391555675</td>\n",
       "    </tr>\n",
       "    <tr>\n",
       "      <th>4</th>\n",
       "      <td>2023-04-01 14:45:49.568494</td>\n",
       "      <td>0.388349</td>\n",
       "      <td>0 days 00:00:00.388348936</td>\n",
       "    </tr>\n",
       "    <tr>\n",
       "      <th>5</th>\n",
       "      <td>2023-04-01 14:56:48.785520</td>\n",
       "      <td>0.385924</td>\n",
       "      <td>0 days 00:00:00.385924403</td>\n",
       "    </tr>\n",
       "    <tr>\n",
       "      <th>6</th>\n",
       "      <td>2023-04-01 15:06:07.808471</td>\n",
       "      <td>0.383013</td>\n",
       "      <td>0 days 00:00:00.383013447</td>\n",
       "    </tr>\n",
       "    <tr>\n",
       "      <th>7</th>\n",
       "      <td>2023-04-01 15:21:15.625199</td>\n",
       "      <td>0.377897</td>\n",
       "      <td>0 days 00:00:00.377896843</td>\n",
       "    </tr>\n",
       "    <tr>\n",
       "      <th>8</th>\n",
       "      <td>2023-04-01 15:30:40.995589</td>\n",
       "      <td>0.377053</td>\n",
       "      <td>0 days 00:00:00.377053193</td>\n",
       "    </tr>\n",
       "    <tr>\n",
       "      <th>9</th>\n",
       "      <td>2023-04-01 15:37:41.258170</td>\n",
       "      <td>0.374303</td>\n",
       "      <td>0 days 00:00:00.374303187</td>\n",
       "    </tr>\n",
       "    <tr>\n",
       "      <th>10</th>\n",
       "      <td>2023-04-01 15:51:08.996670</td>\n",
       "      <td>0.371343</td>\n",
       "      <td>0 days 00:00:00.371342623</td>\n",
       "    </tr>\n",
       "  </tbody>\n",
       "</table>\n",
       "</div>"
      ],
      "text/plain": [
       "                    Timestamp     delta                   timedelta\n",
       "0  2023-04-01 11:41:09.159653 -1.435313 -1 days +23:59:58.564686962\n",
       "1  2023-04-01 14:07:37.404427  0.397438   0 days 00:00:00.397438500\n",
       "2  2023-04-01 14:21:19.983960  0.394539   0 days 00:00:00.394538966\n",
       "3  2023-04-01 14:32:12.341124  0.391556   0 days 00:00:00.391555675\n",
       "4  2023-04-01 14:45:49.568494  0.388349   0 days 00:00:00.388348936\n",
       "5  2023-04-01 14:56:48.785520  0.385924   0 days 00:00:00.385924403\n",
       "6  2023-04-01 15:06:07.808471  0.383013   0 days 00:00:00.383013447\n",
       "7  2023-04-01 15:21:15.625199  0.377897   0 days 00:00:00.377896843\n",
       "8  2023-04-01 15:30:40.995589  0.377053   0 days 00:00:00.377053193\n",
       "9  2023-04-01 15:37:41.258170  0.374303   0 days 00:00:00.374303187\n",
       "10 2023-04-01 15:51:08.996670  0.371343   0 days 00:00:00.371342623"
      ]
     },
     "execution_count": 20,
     "metadata": {},
     "output_type": "execute_result"
    }
   ],
   "source": [
    "import pandas as pd\n",
    "import json\n",
    "\n",
    "with open('/home/wmnlab/D/database/2023-04-01/time_sync_lpt3.json', 'r') as f:\n",
    "    json_object = json.load(f)\n",
    "delta = pd.DataFrame.from_dict(json_object, orient='index', columns=['delta']).reset_index(names='Timestamp')\n",
    "delta['Timestamp'] = pd.to_datetime(delta['Timestamp'])\n",
    "delta['timedelta'] = pd.to_timedelta(delta['delta'], unit='seconds')\n",
    "delta"
   ]
  },
  {
   "cell_type": "code",
   "execution_count": 21,
   "metadata": {},
   "outputs": [
    {
     "data": {
      "text/plain": [
       "Timestamp('2023-04-01 14:17:48.404430')"
      ]
     },
     "execution_count": 21,
     "metadata": {},
     "output_type": "execute_result"
    }
   ],
   "source": [
    "bm_timestamp = pd.to_datetime('2023-04-01 14:17:48.404430')\n",
    "bm_timestamp"
   ]
  },
  {
   "cell_type": "code",
   "execution_count": 22,
   "metadata": {},
   "outputs": [
    {
     "data": {
      "text/plain": [
       "0     9399.244777\n",
       "1      611.000003\n",
       "2      211.579530\n",
       "3      863.936694\n",
       "4     1681.164064\n",
       "5     2340.381090\n",
       "6     2899.404041\n",
       "7     3807.220769\n",
       "8     4372.591159\n",
       "9     4792.853740\n",
       "10    5600.592240\n",
       "Name: Timestamp, dtype: float64"
      ]
     },
     "execution_count": 22,
     "metadata": {},
     "output_type": "execute_result"
    }
   ],
   "source": [
    "delta_o_delta = (delta[\"Timestamp\"] - bm_timestamp).dt.total_seconds().abs()\n",
    "delta_o_delta"
   ]
  },
  {
   "cell_type": "code",
   "execution_count": 23,
   "metadata": {},
   "outputs": [
    {
     "data": {
      "text/plain": [
       "2"
      ]
     },
     "execution_count": 23,
     "metadata": {},
     "output_type": "execute_result"
    }
   ],
   "source": [
    "delta_o_delta.argmin()"
   ]
  },
  {
   "cell_type": "code",
   "execution_count": 25,
   "metadata": {},
   "outputs": [
    {
     "data": {
      "text/plain": [
       "delta                         0.394539\n",
       "timedelta    0 days 00:00:00.394538966\n",
       "Name: 2, dtype: object"
      ]
     },
     "execution_count": 25,
     "metadata": {},
     "output_type": "execute_result"
    }
   ],
   "source": [
    "delta.loc[delta_o_delta.argmin(), ['delta', 'timedelta']]"
   ]
  },
  {
   "cell_type": "code",
   "execution_count": null,
   "metadata": {},
   "outputs": [],
   "source": []
  },
  {
   "cell_type": "code",
   "execution_count": 9,
   "metadata": {},
   "outputs": [
    {
     "name": "stdout",
     "output_type": "stream",
     "text": [
      "2.0.3\n",
      "                       time1                      time2\n",
      "0 2024-03-19 19:19:51.344234 2024-03-19 19:19:51.344234\n",
      "1 2024-03-19 19:19:52.000000 2024-03-19 19:19:52.000000\n",
      "2 2024-03-19 00:00:00.000000 2024-03-19 00:00:00.000000\n"
     ]
    }
   ],
   "source": [
    "import pandas as pd\n",
    "from typing import List\n",
    "from packaging import version\n",
    "\n",
    "def str_to_datetime_batch(df, parse_dates: List[str]):\n",
    "    if version.parse(pd.__version__) >= version.parse(\"2.0.0\"):\n",
    "        df[parse_dates] = pd.to_datetime(df[parse_dates].stack(), format='mixed').unstack()\n",
    "    else:\n",
    "        df[parse_dates] = pd.to_datetime(df[parse_dates].stack()).unstack()\n",
    "    return df\n",
    "\n",
    "df = pd.DataFrame({\n",
    "    'time1': [\"2024-03-19 19:19:51.344234\", \"2024-03-19 19:19:52\", \"2024-03-19\"],\n",
    "    'time2': [\"2024-03-19 19:19:51.344234\", \"2024-03-19 19:19:52\", \"2024-03-19\"],\n",
    "})\n",
    "\n",
    "df = str_to_datetime_batch(df, parse_dates=['time1', 'time2'])\n",
    "print(df)"
   ]
  },
  {
   "cell_type": "code",
   "execution_count": null,
   "metadata": {},
   "outputs": [],
   "source": []
  },
  {
   "cell_type": "code",
   "execution_count": 23,
   "metadata": {},
   "outputs": [
    {
     "data": {
      "application/vnd.jupyter.widget-view+json": {
       "model_id": "4ac3c5b5972f4f5fae0c3290876f5848",
       "version_major": 2,
       "version_minor": 0
      },
      "text/plain": [
       "0it [00:00, ?it/s]"
      ]
     },
     "metadata": {},
     "output_type": "display_data"
    },
    {
     "name": "stdout",
     "output_type": "stream",
     "text": [
      "0 <class 'str'>\n",
      "1 <class 'str'>\n",
      "2 <class 'str'>\n",
      "3 <class 'str'>\n",
      "4 <class 'str'>\n",
      "5 <class 'str'>\n",
      "6 <class 'str'>\n",
      "7 <class 'str'>\n",
      "8 <class 'str'>\n",
      "9 <class 'str'>\n",
      "10 <class 'str'>\n",
      "11 <class 'str'>\n",
      "12 <class 'str'>\n",
      "13 <class 'str'>\n",
      "14 <class 'str'>\n",
      "15 <class 'str'>\n",
      "16 <class 'str'>\n",
      "17 <class 'str'>\n"
     ]
    },
    {
     "data": {
      "application/vnd.jupyter.widget-view+json": {
       "model_id": "181e066936f44ce08068a0acfbd6ea81",
       "version_major": 2,
       "version_minor": 0
      },
      "text/plain": [
       "0it [00:00, ?it/s]"
      ]
     },
     "metadata": {},
     "output_type": "display_data"
    }
   ],
   "source": [
    "import pandas as pd\n",
    "import time\n",
    "from tqdm.notebook import tqdm\n",
    "from typing import List\n",
    "from typing import Union\n",
    "from packaging import version\n",
    "import copy\n",
    "\n",
    "def str_to_datetime_batch(df, parse_dates: Union[List[str], None] = None):\n",
    "    if parse_dates is not None:\n",
    "        if version.parse(pd.__version__) >= version.parse(\"2.0.0\"):\n",
    "            df[parse_dates] = pd.to_datetime(df[parse_dates].stack(), format='mixed').unstack()\n",
    "        else:\n",
    "            df[parse_dates] = pd.to_datetime(df[parse_dates].stack()).unstack()\n",
    "    return df\n",
    "\n",
    "df = pd.read_csv('/home/wmnlab/F/database/2024-03-20/UDP_Bandlock_9S_Phone_A/sm00/#01/middle/udp_dnlk_client_pkt_brief.csv',\n",
    "                 usecols=['seq', 'frame_time'], chunksize=100000)\n",
    "\n",
    "for i, chunk in tqdm(enumerate(df), ncols=1000):\n",
    "    print(i, type(chunk['frame_time'].iloc[0]))\n",
    "    chunk = str_to_datetime_batch(chunk, parse_dates=['frame_time'])"
   ]
  },
  {
   "cell_type": "code",
   "execution_count": 7,
   "metadata": {},
   "outputs": [
    {
     "data": {
      "text/plain": [
       "60.0"
      ]
     },
     "execution_count": 7,
     "metadata": {},
     "output_type": "execute_result"
    }
   ],
   "source": [
    "import pandas as pd\n",
    "df = pd.DataFrame({\n",
    "    'yes': [True, True, True, True, False],\n",
    "    'hello': [300, 500, 1, 10, 700]})\n",
    "\n",
    "(df['hello'] > 50).mean() * 100\n",
    "(df[df['yes']]['hello'] > 50).mean() * 100"
   ]
  },
  {
   "cell_type": "code",
   "execution_count": 12,
   "metadata": {},
   "outputs": [
    {
     "data": {
      "text/plain": [
       "1"
      ]
     },
     "execution_count": 12,
     "metadata": {},
     "output_type": "execute_result"
    }
   ],
   "source": [
    "int(1.4)"
   ]
  },
  {
   "cell_type": "code",
   "execution_count": 2,
   "metadata": {},
   "outputs": [
    {
     "data": {
      "text/plain": [
       "'                jack'"
      ]
     },
     "execution_count": 2,
     "metadata": {},
     "output_type": "execute_result"
    }
   ],
   "source": [
    "original_string = 'jack'\n",
    "# 將字串補齊到固定長度，向左對齊並在右側填充空格\n",
    "# original_string.ljust(20)\n",
    "\n",
    "# 將字串補齊到固定長度，向右對齊並在左側填充空格\n",
    "original_string.rjust(20)\n"
   ]
  },
  {
   "cell_type": "code",
   "execution_count": null,
   "metadata": {},
   "outputs": [],
   "source": []
  }
 ],
 "metadata": {
  "kernelspec": {
   "display_name": "Python 3",
   "language": "python",
   "name": "python3"
  },
  "language_info": {
   "codemirror_mode": {
    "name": "ipython",
    "version": 3
   },
   "file_extension": ".py",
   "mimetype": "text/x-python",
   "name": "python",
   "nbconvert_exporter": "python",
   "pygments_lexer": "ipython3",
   "version": "3.8.18"
  },
  "orig_nbformat": 4
 },
 "nbformat": 4,
 "nbformat_minor": 2
}
