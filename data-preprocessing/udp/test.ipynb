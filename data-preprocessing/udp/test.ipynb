{
 "cells": [
  {
   "cell_type": "code",
   "execution_count": 20,
   "metadata": {},
   "outputs": [
    {
     "data": {
      "text/html": [
       "<div>\n",
       "<style scoped>\n",
       "    .dataframe tbody tr th:only-of-type {\n",
       "        vertical-align: middle;\n",
       "    }\n",
       "\n",
       "    .dataframe tbody tr th {\n",
       "        vertical-align: top;\n",
       "    }\n",
       "\n",
       "    .dataframe thead th {\n",
       "        text-align: right;\n",
       "    }\n",
       "</style>\n",
       "<table border=\"1\" class=\"dataframe\">\n",
       "  <thead>\n",
       "    <tr style=\"text-align: right;\">\n",
       "      <th></th>\n",
       "      <th>Timestamp</th>\n",
       "      <th>delta</th>\n",
       "      <th>timedelta</th>\n",
       "    </tr>\n",
       "  </thead>\n",
       "  <tbody>\n",
       "    <tr>\n",
       "      <th>0</th>\n",
       "      <td>2023-04-01 11:41:09.159653</td>\n",
       "      <td>-1.435313</td>\n",
       "      <td>-1 days +23:59:58.564686962</td>\n",
       "    </tr>\n",
       "    <tr>\n",
       "      <th>1</th>\n",
       "      <td>2023-04-01 14:07:37.404427</td>\n",
       "      <td>0.397438</td>\n",
       "      <td>0 days 00:00:00.397438500</td>\n",
       "    </tr>\n",
       "    <tr>\n",
       "      <th>2</th>\n",
       "      <td>2023-04-01 14:21:19.983960</td>\n",
       "      <td>0.394539</td>\n",
       "      <td>0 days 00:00:00.394538966</td>\n",
       "    </tr>\n",
       "    <tr>\n",
       "      <th>3</th>\n",
       "      <td>2023-04-01 14:32:12.341124</td>\n",
       "      <td>0.391556</td>\n",
       "      <td>0 days 00:00:00.391555675</td>\n",
       "    </tr>\n",
       "    <tr>\n",
       "      <th>4</th>\n",
       "      <td>2023-04-01 14:45:49.568494</td>\n",
       "      <td>0.388349</td>\n",
       "      <td>0 days 00:00:00.388348936</td>\n",
       "    </tr>\n",
       "    <tr>\n",
       "      <th>5</th>\n",
       "      <td>2023-04-01 14:56:48.785520</td>\n",
       "      <td>0.385924</td>\n",
       "      <td>0 days 00:00:00.385924403</td>\n",
       "    </tr>\n",
       "    <tr>\n",
       "      <th>6</th>\n",
       "      <td>2023-04-01 15:06:07.808471</td>\n",
       "      <td>0.383013</td>\n",
       "      <td>0 days 00:00:00.383013447</td>\n",
       "    </tr>\n",
       "    <tr>\n",
       "      <th>7</th>\n",
       "      <td>2023-04-01 15:21:15.625199</td>\n",
       "      <td>0.377897</td>\n",
       "      <td>0 days 00:00:00.377896843</td>\n",
       "    </tr>\n",
       "    <tr>\n",
       "      <th>8</th>\n",
       "      <td>2023-04-01 15:30:40.995589</td>\n",
       "      <td>0.377053</td>\n",
       "      <td>0 days 00:00:00.377053193</td>\n",
       "    </tr>\n",
       "    <tr>\n",
       "      <th>9</th>\n",
       "      <td>2023-04-01 15:37:41.258170</td>\n",
       "      <td>0.374303</td>\n",
       "      <td>0 days 00:00:00.374303187</td>\n",
       "    </tr>\n",
       "    <tr>\n",
       "      <th>10</th>\n",
       "      <td>2023-04-01 15:51:08.996670</td>\n",
       "      <td>0.371343</td>\n",
       "      <td>0 days 00:00:00.371342623</td>\n",
       "    </tr>\n",
       "  </tbody>\n",
       "</table>\n",
       "</div>"
      ],
      "text/plain": [
       "                    Timestamp     delta                   timedelta\n",
       "0  2023-04-01 11:41:09.159653 -1.435313 -1 days +23:59:58.564686962\n",
       "1  2023-04-01 14:07:37.404427  0.397438   0 days 00:00:00.397438500\n",
       "2  2023-04-01 14:21:19.983960  0.394539   0 days 00:00:00.394538966\n",
       "3  2023-04-01 14:32:12.341124  0.391556   0 days 00:00:00.391555675\n",
       "4  2023-04-01 14:45:49.568494  0.388349   0 days 00:00:00.388348936\n",
       "5  2023-04-01 14:56:48.785520  0.385924   0 days 00:00:00.385924403\n",
       "6  2023-04-01 15:06:07.808471  0.383013   0 days 00:00:00.383013447\n",
       "7  2023-04-01 15:21:15.625199  0.377897   0 days 00:00:00.377896843\n",
       "8  2023-04-01 15:30:40.995589  0.377053   0 days 00:00:00.377053193\n",
       "9  2023-04-01 15:37:41.258170  0.374303   0 days 00:00:00.374303187\n",
       "10 2023-04-01 15:51:08.996670  0.371343   0 days 00:00:00.371342623"
      ]
     },
     "execution_count": 20,
     "metadata": {},
     "output_type": "execute_result"
    }
   ],
   "source": [
    "import pandas as pd\n",
    "import json\n",
    "\n",
    "with open('/home/wmnlab/D/database/2023-04-01/time_sync_lpt3.json', 'r') as f:\n",
    "    json_object = json.load(f)\n",
    "delta = pd.DataFrame.from_dict(json_object, orient='index', columns=['delta']).reset_index(names='Timestamp')\n",
    "delta['Timestamp'] = pd.to_datetime(delta['Timestamp'])\n",
    "delta['timedelta'] = pd.to_timedelta(delta['delta'], unit='seconds')\n",
    "delta"
   ]
  },
  {
   "cell_type": "code",
   "execution_count": 21,
   "metadata": {},
   "outputs": [
    {
     "data": {
      "text/plain": [
       "Timestamp('2023-04-01 14:17:48.404430')"
      ]
     },
     "execution_count": 21,
     "metadata": {},
     "output_type": "execute_result"
    }
   ],
   "source": [
    "bm_timestamp = pd.to_datetime('2023-04-01 14:17:48.404430')\n",
    "bm_timestamp"
   ]
  },
  {
   "cell_type": "code",
   "execution_count": 22,
   "metadata": {},
   "outputs": [
    {
     "data": {
      "text/plain": [
       "0     9399.244777\n",
       "1      611.000003\n",
       "2      211.579530\n",
       "3      863.936694\n",
       "4     1681.164064\n",
       "5     2340.381090\n",
       "6     2899.404041\n",
       "7     3807.220769\n",
       "8     4372.591159\n",
       "9     4792.853740\n",
       "10    5600.592240\n",
       "Name: Timestamp, dtype: float64"
      ]
     },
     "execution_count": 22,
     "metadata": {},
     "output_type": "execute_result"
    }
   ],
   "source": [
    "delta_o_delta = (delta[\"Timestamp\"] - bm_timestamp).dt.total_seconds().abs()\n",
    "delta_o_delta"
   ]
  },
  {
   "cell_type": "code",
   "execution_count": 23,
   "metadata": {},
   "outputs": [
    {
     "data": {
      "text/plain": [
       "2"
      ]
     },
     "execution_count": 23,
     "metadata": {},
     "output_type": "execute_result"
    }
   ],
   "source": [
    "delta_o_delta.argmin()"
   ]
  },
  {
   "cell_type": "code",
   "execution_count": 25,
   "metadata": {},
   "outputs": [
    {
     "data": {
      "text/plain": [
       "delta                         0.394539\n",
       "timedelta    0 days 00:00:00.394538966\n",
       "Name: 2, dtype: object"
      ]
     },
     "execution_count": 25,
     "metadata": {},
     "output_type": "execute_result"
    }
   ],
   "source": [
    "delta.loc[delta_o_delta.argmin(), ['delta', 'timedelta']]"
   ]
  },
  {
   "cell_type": "code",
   "execution_count": null,
   "metadata": {},
   "outputs": [],
   "source": []
  }
 ],
 "metadata": {
  "kernelspec": {
   "display_name": "Python 3",
   "language": "python",
   "name": "python3"
  },
  "language_info": {
   "codemirror_mode": {
    "name": "ipython",
    "version": 3
   },
   "file_extension": ".py",
   "mimetype": "text/x-python",
   "name": "python",
   "nbconvert_exporter": "python",
   "pygments_lexer": "ipython3",
   "version": "3.8.10"
  },
  "orig_nbformat": 4
 },
 "nbformat": 4,
 "nbformat_minor": 2
}
