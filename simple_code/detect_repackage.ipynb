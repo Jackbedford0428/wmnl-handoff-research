{
 "cells": [
  {
   "attachments": {},
   "cell_type": "markdown",
   "metadata": {},
   "source": [
    "# Testing"
   ]
  },
  {
   "cell_type": "code",
   "execution_count": 1,
   "metadata": {},
   "outputs": [
    {
     "name": "stdout",
     "output_type": "stream",
     "text": [
      "Collecting polars\n",
      "  Downloading polars-0.16.4-cp37-abi3-manylinux_2_17_x86_64.manylinux2014_x86_64.whl (15.1 MB)\n",
      "\u001b[K     |████████████████████████████████| 15.1 MB 1.5 MB/s eta 0:00:01\n",
      "\u001b[?25hRequirement already satisfied: typing_extensions>=4.0.1; python_version < \"3.11\" in /home/wmnlab/.local/lib/python3.8/site-packages (from polars) (4.4.0)\n",
      "Installing collected packages: polars\n",
      "Successfully installed polars-0.16.4\n"
     ]
    }
   ],
   "source": [
    "!pip install polars"
   ]
  },
  {
   "cell_type": "code",
   "execution_count": 67,
   "metadata": {},
   "outputs": [],
   "source": [
    "import pandas as pd\n",
    "import polars as pl"
   ]
  },
  {
   "cell_type": "code",
   "execution_count": 68,
   "metadata": {},
   "outputs": [
    {
     "name": "stdout",
     "output_type": "stream",
     "text": [
      "162 ms ± 850 µs per loop (mean ± std. dev. of 7 runs, 10 loops each)\n"
     ]
    }
   ],
   "source": [
    "%%timeit\n",
    "df = pd.read_csv(\"/home/wmnlab/D/database/2022-09-29/_Bandlock_Udp/sm05/#01/analysis/clt_dwnlnk_udp_packet_info.csv\",\n",
    "                 dtype={'repackage.num':'int8'})\n",
    "# display(df.head())\n",
    "df = df.dropna(subset=['repackage.num'])\n",
    "# print((df['repackage.num'] > 1).sum())\n",
    "df.index[df['repackage.num'] > 1]"
   ]
  },
  {
   "cell_type": "code",
   "execution_count": 102,
   "metadata": {},
   "outputs": [
    {
     "name": "stdout",
     "output_type": "stream",
     "text": [
      "183\n",
      "183\n",
      "183\n",
      "94.2 ms ± 21.8 ms per loop (mean ± std. dev. of 3 runs, 1 loop each)\n"
     ]
    }
   ],
   "source": [
    "%%timeit\n",
    "df = pl.read_csv(\"/home/wmnlab/D/database/2022-09-29/_Bandlock_Udp/sm05/#01/analysis/clt_dwnlnk_udp_packet_info.csv\") \\\n",
    "    .with_columns(pl.col('repackage.num').cast(pl.Int8, strict=False))\n",
    "# display(df.head())\n",
    "df = df.filter(~pl.col('repackage.num').is_null())\n",
    "# print((df['repackage.num'] > 1).sum())\n",
    "df.to_pandas().index[(df['repackage.num'] > 1).to_pandas()]"
   ]
  },
  {
   "attachments": {},
   "cell_type": "markdown",
   "metadata": {},
   "source": [
    "# Detect"
   ]
  },
  {
   "cell_type": "code",
   "execution_count": 1,
   "metadata": {},
   "outputs": [],
   "source": [
    "import os\n",
    "from os.path import isdir, isfile\n",
    "import polars as pl\n",
    "import pandas as pd\n",
    "from tqdm.notebook import tqdm\n",
    "\n",
    "def detect_repackage(filepath, tags):\n",
    "    ### polars\n",
    "    # # print('hello')\n",
    "    # df = pl.read_csv(filepath) \\\n",
    "    #     .with_columns(pl.col('repackage.num').cast(pl.Int8, strict=False))\n",
    "    # df = df.select('repackage.num')\n",
    "    # # print('hello1')\n",
    "    # df = df.filter(~pl.col('repackage.num').is_null())\n",
    "    # N = len(df)\n",
    "    # if N == 0:\n",
    "    #     return\n",
    "    # # print('hello2')\n",
    "    # df_rpk1 = df['repackage.num'] > 1\n",
    "    # # print('hello3')\n",
    "    # if df_rpk1.sum() > 0:\n",
    "    #     # print(filepath)\n",
    "    #     print(f'{filepath}: row {df.to_pandas().index[df_rpk1.to_pandas()][0]}, total {df_rpk1.sum()}/{N}, {round(df_rpk1.sum()/N*100, 2)}%')\n",
    "    # # print('hello4')\n",
    "    ### pandas\n",
    "    # print('hello')\n",
    "    df = pd.read_csv(filepath,\n",
    "        dtype={'repackage.num':'int8'})\n",
    "    df = df['repackage.num']\n",
    "    # print('hello1')\n",
    "    df = df.dropna()\n",
    "    N = len(df)\n",
    "    if N == 0:\n",
    "        return\n",
    "    # print('hello2')\n",
    "    df_rpk1 = df > 1\n",
    "    # print('hello3')\n",
    "    if df_rpk1.sum() > 0:\n",
    "        # print(filepath)\n",
    "        print(f'{filepath}: row {df.index[df_rpk1][0]}, total {df_rpk1.sum()}/{N}, {round(df_rpk1.sum()/N*100, 2)}%')\n",
    "    # print('hello4')\n",
    "    return\n",
    "\n",
    "def dfs(visited, node, filetags, tags, level=0):  # function for dfs\n",
    "    global pbar\n",
    "    if node in visited:\n",
    "        return\n",
    "    visited.add(node)\n",
    "    ### TODO: 'node' is an absolute pathname (string) for a file or a directory.\n",
    "    if os.path.basename(node).startswith(filetags):\n",
    "        try:\n",
    "            pbar.update(1)\n",
    "            if pbar.n % 20 == 0:\n",
    "                print(\"process is still alive!\")\n",
    "            detect_repackage(node, tags)\n",
    "        except:\n",
    "            print(f'{node}: processing error!')\n",
    "    ### TODO END\n",
    "    if isfile(node):\n",
    "        return\n",
    "    children = [os.path.join(node, s) for s in sorted(os.listdir(node))]\n",
    "    for child in children:\n",
    "        dfs(visited, child, filetags, tags, level+1)\n",
    "    ### print message in the end\n",
    "    if level == 0:\n",
    "        print(\"**********************************************************************\")"
   ]
  },
  {
   "cell_type": "code",
   "execution_count": 2,
   "metadata": {},
   "outputs": [
    {
     "data": {
      "application/vnd.jupyter.widget-view+json": {
       "model_id": "5d9b125c566a49129511f61a02a43bdc",
       "version_major": 2,
       "version_minor": 0
      },
      "text/plain": [
       "  0%|          | 0/48763 [00:00<?, ?it/s]"
      ]
     },
     "metadata": {},
     "output_type": "display_data"
    },
    {
     "name": "stdout",
     "output_type": "stream",
     "text": [
      "/home/wmnlab/D/database/2022-09-29/_Bandlock_Udp/sm05/#01/analysis/clt_dwnlnk_udp_packet_info.csv: row 0, total 183/27860, 0.66%\n",
      "/home/wmnlab/D/database/2022-09-29/_Bandlock_Udp/sm05/#02/analysis/clt_dwnlnk_udp_packet_info.csv: row 1, total 42033/43853, 95.85%\n",
      "/home/wmnlab/D/database/2022-09-29/_Bandlock_Udp/sm05/#03/analysis/clt_dwnlnk_udp_packet_info.csv: row 1, total 44649/46324, 96.38%\n",
      "/home/wmnlab/D/database/2022-09-29/_Bandlock_Udp/sm05/#04/analysis/clt_dwnlnk_udp_packet_info.csv: row 1, total 42459/44127, 96.22%\n",
      "/home/wmnlab/D/database/2022-09-29/_Bandlock_Udp/sm05/#05/analysis/clt_dwnlnk_udp_packet_info.csv: row 0, total 44763/47105, 95.03%\n",
      "/home/wmnlab/D/database/2022-09-29/_Bandlock_Udp/sm05/#06/analysis/clt_dwnlnk_udp_packet_info.csv: row 0, total 41621/43886, 94.84%\n",
      "/home/wmnlab/D/database/2022-09-29/_Bandlock_Udp/sm06/#01/analysis/clt_dwnlnk_udp_packet_info.csv: row 19, total 163/27053, 0.6%\n",
      "/home/wmnlab/D/database/2022-09-29/_Bandlock_Udp/sm06/#02/analysis/clt_dwnlnk_udp_packet_info.csv: row 0, total 41771/43689, 95.61%\n",
      "/home/wmnlab/D/database/2022-09-29/_Bandlock_Udp/sm06/#03/analysis/clt_dwnlnk_udp_packet_info.csv: row 1, total 42142/45705, 92.2%\n",
      "/home/wmnlab/D/database/2022-09-29/_Bandlock_Udp/sm06/#04/analysis/clt_dwnlnk_udp_packet_info.csv: row 0, total 38918/43877, 88.7%\n",
      "/home/wmnlab/D/database/2022-09-29/_Bandlock_Udp/sm06/#05/analysis/clt_dwnlnk_udp_packet_info.csv: row 1, total 41559/46770, 88.86%\n",
      "/home/wmnlab/D/database/2022-09-29/_Bandlock_Udp/sm06/#06/analysis/clt_dwnlnk_udp_packet_info.csv: row 0, total 40083/44755, 89.56%\n",
      "/home/wmnlab/D/database/2022-09-29/_Bandlock_Udp/sm07/#01/analysis/clt_dwnlnk_udp_packet_info.csv: row 23, total 161/27034, 0.6%\n",
      "/home/wmnlab/D/database/2022-09-29/_Bandlock_Udp/sm07/#02/analysis/clt_dwnlnk_udp_packet_info.csv: row 0, total 42207/44102, 95.7%\n",
      "/home/wmnlab/D/database/2022-09-29/_Bandlock_Udp/sm07/#03/analysis/clt_dwnlnk_udp_packet_info.csv: row 0, total 42380/46258, 91.62%\n",
      "/home/wmnlab/D/database/2022-09-29/_Bandlock_Udp/sm07/#04/analysis/clt_dwnlnk_udp_packet_info.csv: row 3, total 39769/44319, 89.73%\n",
      "/home/wmnlab/D/database/2022-09-29/_Bandlock_Udp/sm07/#05/analysis/clt_dwnlnk_udp_packet_info.csv: row 0, total 41624/47110, 88.35%\n",
      "/home/wmnlab/D/database/2022-09-29/_Bandlock_Udp/sm07/#06/analysis/clt_dwnlnk_udp_packet_info.csv: row 0, total 39881/45086, 88.46%\n",
      "/home/wmnlab/D/database/2022-09-29/_Bandlock_Udp/sm08/#01/analysis/clt_dwnlnk_udp_packet_info.csv: row 328, total 154/26987, 0.57%\n",
      "process is still alive!\n",
      "/home/wmnlab/D/database/2022-09-29/_Bandlock_Udp/sm08/#02/analysis/clt_dwnlnk_udp_packet_info.csv: row 0, total 40962/44148, 92.78%\n",
      "/home/wmnlab/D/database/2022-09-29/_Bandlock_Udp/sm08/#03/analysis/clt_dwnlnk_udp_packet_info.csv: row 1, total 43386/46552, 93.2%\n",
      "/home/wmnlab/D/database/2022-09-29/_Bandlock_Udp/sm08/#04/analysis/clt_dwnlnk_udp_packet_info.csv: row 1, total 41950/45024, 93.17%\n",
      "/home/wmnlab/D/database/2022-09-29/_Bandlock_Udp/sm08/#05/analysis/clt_dwnlnk_udp_packet_info.csv: row 1, total 44417/47164, 94.18%\n",
      "/home/wmnlab/D/database/2022-09-29/_Bandlock_Udp/sm08/#06/analysis/clt_dwnlnk_udp_packet_info.csv: row 0, total 42236/44507, 94.9%\n",
      "/home/wmnlab/D/database/2022-10-11/_Bandlock_Udp/sm03/#01/analysis/clt_dwnlnk_udp_packet_info.csv: row 1, total 41835/47167, 88.7%\n",
      "/home/wmnlab/D/database/2022-10-11/_Bandlock_Udp/sm03/#02/analysis/clt_dwnlnk_udp_packet_info.csv: row 0, total 39934/45180, 88.39%\n",
      "/home/wmnlab/D/database/2022-10-11/_Bandlock_Udp/sm03/#03/analysis/clt_dwnlnk_udp_packet_info.csv: row 1, total 41614/46561, 89.38%\n",
      "/home/wmnlab/D/database/2022-10-11/_Bandlock_Udp/sm03/#04/analysis/clt_dwnlnk_udp_packet_info.csv: row 1, total 40589/45525, 89.16%\n",
      "/home/wmnlab/D/database/2022-10-11/_Bandlock_Udp/sm04/#01/analysis/clt_dwnlnk_udp_packet_info.csv: row 1, total 44549/46726, 95.34%\n",
      "/home/wmnlab/D/database/2022-10-11/_Bandlock_Udp/sm04/#02/analysis/clt_dwnlnk_udp_packet_info.csv: row 1, total 41292/44765, 92.24%\n",
      "/home/wmnlab/D/database/2022-10-11/_Bandlock_Udp/sm04/#03/analysis/clt_dwnlnk_udp_packet_info.csv: row 1, total 42505/46180, 92.04%\n",
      "/home/wmnlab/D/database/2022-10-11/_Bandlock_Udp/sm04/#04/analysis/clt_dwnlnk_udp_packet_info.csv: row 1, total 39962/44451, 89.9%\n",
      "/home/wmnlab/D/database/2022-10-11/_Bandlock_Udp/sm05/#01/analysis/clt_dwnlnk_udp_packet_info.csv: row 1, total 44828/46743, 95.9%\n",
      "/home/wmnlab/D/database/2022-10-11/_Bandlock_Udp/sm05/#02/analysis/clt_dwnlnk_udp_packet_info.csv: row 0, total 41467/44859, 92.44%\n",
      "/home/wmnlab/D/database/2022-10-11/_Bandlock_Udp/sm05/#03/analysis/clt_dwnlnk_udp_packet_info.csv: row 1, total 42970/45463, 94.52%\n",
      "/home/wmnlab/D/database/2022-10-11/_Bandlock_Udp/sm05/#04/analysis/clt_dwnlnk_udp_packet_info.csv: row 1, total 40636/44804, 90.7%\n",
      "/home/wmnlab/D/database/2022-10-11/_Bandlock_Udp/sm06/#01/analysis/clt_dwnlnk_udp_packet_info.csv: row 0, total 45306/47414, 95.55%\n",
      "/home/wmnlab/D/database/2022-10-11/_Bandlock_Udp/sm06/#02/analysis/clt_dwnlnk_udp_packet_info.csv: row 1, total 41324/44915, 92.0%\n",
      "/home/wmnlab/D/database/2022-10-11/_Bandlock_Udp/sm06/#03/analysis/clt_dwnlnk_udp_packet_info.csv: row 0, total 41574/44657, 93.1%\n",
      "process is still alive!\n",
      "/home/wmnlab/D/database/2022-10-11/_Bandlock_Udp/sm06/#04/analysis/clt_dwnlnk_udp_packet_info.csv: row 1, total 39763/44820, 88.72%\n",
      "/home/wmnlab/D/database/2022-10-11/_Bandlock_Udp/sm07/#01/analysis/clt_dwnlnk_udp_packet_info.csv: row 0, total 43858/46559, 94.2%\n",
      "/home/wmnlab/D/database/2022-10-11/_Bandlock_Udp/sm07/#02/analysis/clt_dwnlnk_udp_packet_info.csv: row 0, total 41212/44686, 92.23%\n",
      "/home/wmnlab/D/database/2022-10-11/_Bandlock_Udp/sm07/#03/analysis/clt_dwnlnk_udp_packet_info.csv: row 1, total 41430/45250, 91.56%\n",
      "/home/wmnlab/D/database/2022-10-11/_Bandlock_Udp/sm07/#04/analysis/clt_dwnlnk_udp_packet_info.csv: row 2, total 40002/44460, 89.97%\n",
      "/home/wmnlab/D/database/2022-10-11/_Bandlock_Udp/sm08/#01/analysis/clt_dwnlnk_udp_packet_info.csv: row 1, total 45243/47039, 96.18%\n",
      "/home/wmnlab/D/database/2022-10-11/_Bandlock_Udp/sm08/#02/analysis/clt_dwnlnk_udp_packet_info.csv: row 1, total 44106/45842, 96.21%\n",
      "/home/wmnlab/D/database/2022-10-11/_Bandlock_Udp/sm08/#03/analysis/clt_dwnlnk_udp_packet_info.csv: row 1, total 43834/44946, 97.53%\n",
      "/home/wmnlab/D/database/2022-10-11/_Bandlock_Udp/sm08/#04/analysis/clt_dwnlnk_udp_packet_info.csv: row 0, total 41450/45141, 91.82%\n",
      "/home/wmnlab/D/database/2022-10-20/_Udp_Stationary_Bandlock/sm04/#01/analysis/clt_dwnlnk_udp_packet_info.csv: row 0, total 166332/195818, 84.94%\n",
      "/home/wmnlab/D/database/2022-10-20/_Udp_Stationary_Bandlock/sm05/#01/analysis/clt_dwnlnk_udp_packet_info.csv: row 2, total 204639/236301, 86.6%\n",
      "/home/wmnlab/D/database/2022-10-20/_Udp_Stationary_Bandlock/sm06/#01/analysis/clt_dwnlnk_udp_packet_info.csv: row 0, total 204775/230999, 88.65%\n",
      "/home/wmnlab/D/database/2022-10-20/_Udp_Stationary_Bandlock/sm07/#01/analysis/clt_dwnlnk_udp_packet_info.csv: row 0, total 259848/289963, 89.61%\n",
      "/home/wmnlab/D/database/2022-10-20/_Udp_Stationary_Bandlock/sm08/#01/analysis/clt_dwnlnk_udp_packet_info.csv: row 0, total 204639/234925, 87.11%\n",
      "/home/wmnlab/D/database/2022-10-20/_Udp_Stationary_SameSetting/sm04/#01/analysis/clt_dwnlnk_udp_packet_info.csv: row 0, total 246822/276853, 89.15%\n",
      "/home/wmnlab/D/database/2022-10-20/_Udp_Stationary_SameSetting/sm05/#01/analysis/clt_dwnlnk_udp_packet_info.csv: row 0, total 258399/285004, 90.67%\n",
      "/home/wmnlab/D/database/2022-10-20/_Udp_Stationary_SameSetting/sm07/#01/analysis/clt_dwnlnk_udp_packet_info.csv: row 0, total 292155/315597, 92.57%\n",
      "/home/wmnlab/D/database/2022-10-20/_Udp_Stationary_SameSetting/sm08/#01/analysis/clt_dwnlnk_udp_packet_info.csv: row 0, total 170962/205773, 83.08%\n",
      "/home/wmnlab/D/database/2022-11-11/_Test1/sm06/#01/analysis/clt_dwnlnk_udp_packet_info.csv: row 1, total 9287/11611, 79.98%\n",
      "process is still alive!\n",
      "/home/wmnlab/D/database/2022-11-11/_Test1/sm06/#02/analysis/clt_dwnlnk_udp_packet_info.csv: row 0, total 7636/8895, 85.85%\n",
      "/home/wmnlab/D/database/2022-11-11/_Test1/sm07/#01/analysis/clt_dwnlnk_udp_packet_info.csv: row 0, total 3687/4120, 89.49%\n",
      "/home/wmnlab/D/database/2022-11-11/_Test1/sm07/#02/analysis/clt_dwnlnk_udp_packet_info.csv: row 1, total 6410/7501, 85.46%\n",
      "/home/wmnlab/D/database/2022-11-15-test/_Test1/sm00/#01/analysis/clt_dwnlnk_udp_packet_info.csv: row 1, total 66264/67276, 98.5%\n",
      "/home/wmnlab/D/database/2022-11-15-test/_Test1/sm01/#01/analysis/clt_dwnlnk_udp_packet_info.csv: row 1, total 59426/66013, 90.02%\n",
      "/home/wmnlab/D/database/2022-11-29/_Bandlock_Udp_B1_B3/sm05/#01/middle/udp_dnlk_client_pkt_info.csv: row 0, total 44794/46450, 96.43%\n",
      "/home/wmnlab/D/database/2022-11-29/_Bandlock_Udp_B1_B3/sm05/#02/middle/udp_dnlk_client_pkt_info.csv: row 0, total 43024/44744, 96.16%\n",
      "/home/wmnlab/D/database/2022-11-29/_Bandlock_Udp_B1_B3/sm05/#03/middle/udp_dnlk_client_pkt_info.csv: row 1, total 43149/46419, 92.96%\n",
      "/home/wmnlab/D/database/2022-11-29/_Bandlock_Udp_B1_B3/sm05/#04/middle/udp_dnlk_client_pkt_info.csv: row 0, total 40098/44118, 90.89%\n",
      "/home/wmnlab/D/database/2022-11-29/_Bandlock_Udp_B1_B3/sm06/#01/middle/udp_dnlk_client_pkt_info.csv: row 1, total 43942/46029, 95.47%\n",
      "/home/wmnlab/D/database/2022-11-29/_Bandlock_Udp_B1_B3/sm06/#02/middle/udp_dnlk_client_pkt_info.csv: row 0, total 38851/43322, 89.68%\n",
      "/home/wmnlab/D/database/2022-11-29/_Bandlock_Udp_B1_B3/sm06/#03/middle/udp_dnlk_client_pkt_info.csv: row 1, total 40307/45218, 89.14%\n",
      "/home/wmnlab/D/database/2022-11-29/_Bandlock_Udp_B1_B3/sm06/#04/middle/udp_dnlk_client_pkt_info.csv: row 0, total 37707/44200, 85.31%\n",
      "/home/wmnlab/D/database/2022-11-29/_Bandlock_Udp_B1_B3/sm07/#01/middle/udp_dnlk_client_pkt_info.csv: row 0, total 44534/46000, 96.81%\n",
      "/home/wmnlab/D/database/2022-11-29/_Bandlock_Udp_B1_B3/sm07/#02/middle/udp_dnlk_client_pkt_info.csv: row 1, total 41390/45028, 91.92%\n",
      "/home/wmnlab/D/database/2022-11-29/_Bandlock_Udp_B1_B3/sm07/#03/middle/udp_dnlk_client_pkt_info.csv: row 0, total 42124/45940, 91.69%\n",
      "/home/wmnlab/D/database/2022-11-29/_Bandlock_Udp_B1_B3/sm07/#04/middle/udp_dnlk_client_pkt_info.csv: row 1, total 39869/44854, 88.89%\n",
      "/home/wmnlab/D/database/2022-11-29/_Bandlock_Udp_B1_B3/sm08/#01/middle/udp_dnlk_client_pkt_info.csv: row 1, total 43390/45904, 94.52%\n",
      "process is still alive!\n",
      "/home/wmnlab/D/database/2022-11-29/_Bandlock_Udp_B1_B3/sm08/#02/middle/udp_dnlk_client_pkt_info.csv: row 1, total 43309/46064, 94.02%\n",
      "/home/wmnlab/D/database/2022-11-29/_Bandlock_Udp_B1_B3/sm08/#03/middle/udp_dnlk_client_pkt_info.csv: row 0, total 42816/45392, 94.32%\n",
      "/home/wmnlab/D/database/2022-11-29/_Bandlock_Udp_B1_B3/sm08/#04/middle/udp_dnlk_client_pkt_info.csv: row 2, total 43301/45543, 95.08%\n",
      "/home/wmnlab/D/database/2022-11-29/_Bandlock_Udp_B28_B1/sm05/#01/middle/udp_dnlk_client_pkt_info.csv: row 0, total 39978/45129, 88.59%\n",
      "/home/wmnlab/D/database/2022-11-29/_Bandlock_Udp_B28_B1/sm05/#02/middle/udp_dnlk_client_pkt_info.csv: row 0, total 38275/43904, 87.18%\n",
      "/home/wmnlab/D/database/2022-11-29/_Bandlock_Udp_B28_B1/sm05/#03/middle/udp_dnlk_client_pkt_info.csv: row 1, total 39769/44788, 88.79%\n",
      "/home/wmnlab/D/database/2022-11-29/_Bandlock_Udp_B28_B1/sm05/#04/middle/udp_dnlk_client_pkt_info.csv: row 0, total 36074/41506, 86.91%\n",
      "/home/wmnlab/D/database/2022-11-29/_Bandlock_Udp_B28_B1/sm06/#01/middle/udp_dnlk_client_pkt_info.csv: row 0, total 39682/44977, 88.23%\n",
      "/home/wmnlab/D/database/2022-11-29/_Bandlock_Udp_B28_B1/sm06/#02/middle/udp_dnlk_client_pkt_info.csv: row 1, total 38224/44476, 85.94%\n",
      "/home/wmnlab/D/database/2022-11-29/_Bandlock_Udp_B28_B1/sm06/#03/middle/udp_dnlk_client_pkt_info.csv: row 1, total 38546/44184, 87.24%\n",
      "/home/wmnlab/D/database/2022-11-29/_Bandlock_Udp_B28_B1/sm06/#04/middle/udp_dnlk_client_pkt_info.csv: row 1, total 34153/40271, 84.81%\n",
      "/home/wmnlab/D/database/2022-11-29/_Bandlock_Udp_B28_B1/sm07/#01/middle/udp_dnlk_client_pkt_info.csv: row 3, total 39176/45044, 86.97%\n",
      "/home/wmnlab/D/database/2022-11-29/_Bandlock_Udp_B28_B1/sm07/#02/middle/udp_dnlk_client_pkt_info.csv: row 0, total 38384/44542, 86.17%\n",
      "/home/wmnlab/D/database/2022-11-29/_Bandlock_Udp_B28_B1/sm07/#03/middle/udp_dnlk_client_pkt_info.csv: row 1, total 37832/44393, 85.22%\n",
      "/home/wmnlab/D/database/2022-11-29/_Bandlock_Udp_B28_B1/sm07/#04/middle/udp_dnlk_client_pkt_info.csv: row 1, total 35569/41306, 86.11%\n",
      "/home/wmnlab/D/database/2022-11-29/_Bandlock_Udp_B28_B1/sm08/#01/middle/udp_dnlk_client_pkt_info.csv: row 1, total 41165/45564, 90.35%\n",
      "/home/wmnlab/D/database/2022-11-29/_Bandlock_Udp_B28_B1/sm08/#02/middle/udp_dnlk_client_pkt_info.csv: row 0, total 40691/44323, 91.81%\n",
      "/home/wmnlab/D/database/2022-11-29/_Bandlock_Udp_B28_B1/sm08/#03/middle/udp_dnlk_client_pkt_info.csv: row 0, total 39501/44613, 88.54%\n",
      "/home/wmnlab/D/database/2022-11-29/_Bandlock_Udp_B28_B1/sm08/#04/middle/udp_dnlk_client_pkt_info.csv: row 1, total 35400/40037, 88.42%\n",
      "/home/wmnlab/D/database/2022-11-29/_Bandlock_Udp_B3_B28/sm05/#01/middle/udp_dnlk_client_pkt_info.csv: row 2, total 43948/46305, 94.91%\n",
      "process is still alive!\n",
      "/home/wmnlab/D/database/2022-11-29/_Bandlock_Udp_B3_B28/sm05/#02/middle/udp_dnlk_client_pkt_info.csv: row 0, total 40730/44747, 91.02%\n",
      "/home/wmnlab/D/database/2022-11-29/_Bandlock_Udp_B3_B28/sm05/#03/middle/udp_dnlk_client_pkt_info.csv: row 1, total 40703/46473, 87.58%\n",
      "/home/wmnlab/D/database/2022-11-29/_Bandlock_Udp_B3_B28/sm05/#04/middle/udp_dnlk_client_pkt_info.csv: row 1, total 38964/44448, 87.66%\n",
      "/home/wmnlab/D/database/2022-11-29/_Bandlock_Udp_B3_B28/sm06/#01/middle/udp_dnlk_client_pkt_info.csv: row 0, total 39387/45388, 86.78%\n",
      "/home/wmnlab/D/database/2022-11-29/_Bandlock_Udp_B3_B28/sm06/#02/middle/udp_dnlk_client_pkt_info.csv: row 0, total 39122/44720, 87.48%\n",
      "/home/wmnlab/D/database/2022-11-29/_Bandlock_Udp_B3_B28/sm06/#03/middle/udp_dnlk_client_pkt_info.csv: row 0, total 40503/46406, 87.28%\n",
      "/home/wmnlab/D/database/2022-11-29/_Bandlock_Udp_B3_B28/sm06/#04/middle/udp_dnlk_client_pkt_info.csv: row 0, total 39321/44776, 87.82%\n",
      "/home/wmnlab/D/database/2022-11-29/_Bandlock_Udp_B3_B28/sm07/#01/middle/udp_dnlk_client_pkt_info.csv: row 0, total 41776/45701, 91.41%\n",
      "/home/wmnlab/D/database/2022-11-29/_Bandlock_Udp_B3_B28/sm07/#02/middle/udp_dnlk_client_pkt_info.csv: row 2, total 39234/44865, 87.45%\n",
      "/home/wmnlab/D/database/2022-11-29/_Bandlock_Udp_B3_B28/sm07/#03/middle/udp_dnlk_client_pkt_info.csv: row 4, total 41085/46561, 88.24%\n",
      "/home/wmnlab/D/database/2022-11-29/_Bandlock_Udp_B3_B28/sm07/#04/middle/udp_dnlk_client_pkt_info.csv: row 2, total 39050/44976, 86.82%\n",
      "/home/wmnlab/D/database/2022-11-29/_Bandlock_Udp_B3_B28/sm08/#01/middle/udp_dnlk_client_pkt_info.csv: row 0, total 44892/46314, 96.93%\n",
      "/home/wmnlab/D/database/2022-11-29/_Bandlock_Udp_B3_B28/sm08/#02/middle/udp_dnlk_client_pkt_info.csv: row 0, total 41620/45417, 91.64%\n",
      "/home/wmnlab/D/database/2022-11-29/_Bandlock_Udp_B3_B28/sm08/#03/middle/udp_dnlk_client_pkt_info.csv: row 0, total 43362/46777, 92.7%\n",
      "/home/wmnlab/D/database/2022-11-29/_Bandlock_Udp_B3_B28/sm08/#04/middle/udp_dnlk_client_pkt_info.csv: row 0, total 38899/44527, 87.36%\n",
      "process is still alive!\n",
      "/home/wmnlab/D/database/2022-12-12/_275_Bus_Udp/sm00/#01/middle/udp_dnlk_client_pkt_info.csv: row 0, total 201144/228028, 88.21%\n",
      "/home/wmnlab/D/database/2022-12-12/_275_Bus_Udp/sm01/#01/middle/udp_dnlk_client_pkt_info.csv: row 0, total 201893/225844, 89.39%\n",
      "/home/wmnlab/D/database/2022-12-20/_Bandlock_Udp_B1_B3/sm05/#01/middle/udp_dnlk_client_pkt_info.csv: row 0, total 56670/63427, 89.35%\n",
      "/home/wmnlab/D/database/2022-12-20/_Bandlock_Udp_B1_B3/sm05/#02/middle/udp_dnlk_client_pkt_info.csv: row 0, total 62855/71813, 87.53%\n",
      "/home/wmnlab/D/database/2022-12-20/_Bandlock_Udp_B1_B3/sm05/#03/middle/udp_dnlk_client_pkt_info.csv: row 0, total 62472/69996, 89.25%\n",
      "/home/wmnlab/D/database/2022-12-20/_Bandlock_Udp_B1_B3/sm05/#04/middle/udp_dnlk_client_pkt_info.csv: row 0, total 47029/52853, 88.98%\n",
      "/home/wmnlab/D/database/2022-12-20/_Bandlock_Udp_B1_B3/sm05/#05/middle/udp_dnlk_client_pkt_info.csv: row 0, total 50165/56500, 88.79%\n",
      "/home/wmnlab/D/database/2022-12-20/_Bandlock_Udp_B1_B3/sm05/#06/middle/udp_dnlk_client_pkt_info.csv: row 0, total 40329/47247, 85.36%\n",
      "/home/wmnlab/D/database/2022-12-20/_Bandlock_Udp_B1_B3/sm06/#01/middle/udp_dnlk_client_pkt_info.csv: row 131, total 11750/171584, 6.85%\n",
      "/home/wmnlab/D/database/2022-12-20/_Bandlock_Udp_B1_B3/sm06/#02/middle/udp_dnlk_client_pkt_info.csv: row 5, total 10526/199672, 5.27%\n",
      "/home/wmnlab/D/database/2022-12-20/_Bandlock_Udp_B1_B3/sm06/#03/middle/udp_dnlk_client_pkt_info.csv: row 0, total 10354/195168, 5.31%\n",
      "/home/wmnlab/D/database/2022-12-20/_Bandlock_Udp_B1_B3/sm06/#04/middle/udp_dnlk_client_pkt_info.csv: row 887, total 6987/146256, 4.78%\n",
      "/home/wmnlab/D/database/2022-12-20/_Bandlock_Udp_B1_B3/sm06/#05/middle/udp_dnlk_client_pkt_info.csv: row 3, total 9680/155503, 6.22%\n",
      "/home/wmnlab/D/database/2022-12-20/_Bandlock_Udp_B1_B3/sm06/#06/middle/udp_dnlk_client_pkt_info.csv: row 116, total 9160/157913, 5.8%\n",
      "/home/wmnlab/D/database/2022-12-20/_Bandlock_Udp_B1_B3/sm07/#01/middle/udp_dnlk_client_pkt_info.csv: row 6, total 14006/170784, 8.2%\n",
      "/home/wmnlab/D/database/2022-12-20/_Bandlock_Udp_B1_B3/sm07/#02/middle/udp_dnlk_client_pkt_info.csv: row 0, total 16676/194879, 8.56%\n",
      "process is still alive!\n",
      "/home/wmnlab/D/database/2022-12-20/_Bandlock_Udp_B1_B3/sm07/#03/middle/udp_dnlk_client_pkt_info.csv: row 18, total 12314/194422, 6.33%\n",
      "/home/wmnlab/D/database/2022-12-20/_Bandlock_Udp_B1_B3/sm07/#04/middle/udp_dnlk_client_pkt_info.csv: row 2, total 9031/138434, 6.52%\n",
      "/home/wmnlab/D/database/2022-12-20/_Bandlock_Udp_B1_B3/sm07/#05/middle/udp_dnlk_client_pkt_info.csv: row 1, total 9324/155166, 6.01%\n",
      "/home/wmnlab/D/database/2022-12-20/_Bandlock_Udp_B1_B3/sm07/#06/middle/udp_dnlk_client_pkt_info.csv: row 9, total 8709/152976, 5.69%\n",
      "/home/wmnlab/D/database/2022-12-20/_Bandlock_Udp_B1_B3/sm08/#01/middle/udp_dnlk_client_pkt_info.csv: row 2, total 55891/63070, 88.62%\n",
      "/home/wmnlab/D/database/2022-12-20/_Bandlock_Udp_B1_B3/sm08/#02/middle/udp_dnlk_client_pkt_info.csv: row 2, total 64570/72341, 89.26%\n",
      "/home/wmnlab/D/database/2022-12-20/_Bandlock_Udp_B1_B3/sm08/#03/middle/udp_dnlk_client_pkt_info.csv: row 0, total 62375/69947, 89.17%\n",
      "/home/wmnlab/D/database/2022-12-20/_Bandlock_Udp_B1_B3/sm08/#04/middle/udp_dnlk_client_pkt_info.csv: row 1, total 45508/51271, 88.76%\n",
      "/home/wmnlab/D/database/2022-12-20/_Bandlock_Udp_B1_B3/sm08/#05/middle/udp_dnlk_client_pkt_info.csv: row 1, total 50061/57166, 87.57%\n",
      "/home/wmnlab/D/database/2022-12-20/_Bandlock_Udp_B1_B3/sm08/#06/middle/udp_dnlk_client_pkt_info.csv: row 0, total 49048/55547, 88.3%\n",
      "/home/wmnlab/D/database/2022-12-20/_Bandlock_Udp_B28_B1/sm05/#01/middle/udp_dnlk_client_pkt_info.csv: row 0, total 54997/61848, 88.92%\n",
      "/home/wmnlab/D/database/2022-12-20/_Bandlock_Udp_B28_B1/sm05/#02/middle/udp_dnlk_client_pkt_info.csv: row 1, total 38826/43999, 88.24%\n",
      "/home/wmnlab/D/database/2022-12-20/_Bandlock_Udp_B28_B1/sm07/#01/middle/udp_dnlk_client_pkt_info.csv: row 29, total 8824/170512, 5.18%\n",
      "/home/wmnlab/D/database/2022-12-20/_Bandlock_Udp_B28_B1/sm07/#02/middle/udp_dnlk_client_pkt_info.csv: row 95, total 5643/122440, 4.61%\n",
      "/home/wmnlab/D/database/2022-12-20/_Bandlock_Udp_B28_B1/sm08/#01/middle/udp_dnlk_client_pkt_info.csv: row 0, total 56988/61360, 92.87%\n",
      "/home/wmnlab/D/database/2022-12-20/_Bandlock_Udp_B28_B1/sm08/#02/middle/udp_dnlk_client_pkt_info.csv: row 1, total 40047/43966, 91.09%\n",
      "/home/wmnlab/D/database/2022-12-20/_Bandlock_Udp_B3_B28/sm05/#01/middle/udp_dnlk_client_pkt_info.csv: row 0, total 42325/47569, 88.98%\n",
      "/home/wmnlab/D/database/2022-12-20/_Bandlock_Udp_B3_B28/sm05/#02/middle/udp_dnlk_client_pkt_info.csv: row 3, total 49551/56405, 87.85%\n",
      "process is still alive!\n",
      "/home/wmnlab/D/database/2022-12-20/_Bandlock_Udp_B3_B28/sm06/#01/middle/udp_dnlk_client_pkt_info.csv: row 1, total 8650/131052, 6.6%\n",
      "/home/wmnlab/D/database/2022-12-20/_Bandlock_Udp_B3_B28/sm06/#02/middle/udp_dnlk_client_pkt_info.csv: row 526, total 10178/151774, 6.71%\n",
      "/home/wmnlab/D/database/2022-12-20/_Bandlock_Udp_B3_B28/sm08/#01/middle/udp_dnlk_client_pkt_info.csv: row 0, total 42134/47885, 87.99%\n",
      "/home/wmnlab/D/database/2022-12-20/_Bandlock_Udp_B3_B28/sm08/#02/middle/udp_dnlk_client_pkt_info.csv: row 2, total 49438/55800, 88.6%\n",
      "/home/wmnlab/D/database/2022-12-22/_Bandlock_Udp_B1_B3/sm05/#01/middle/udp_dnlk_client_pkt_info.csv: row 1, total 55074/62227, 88.5%\n",
      "/home/wmnlab/D/database/2022-12-22/_Bandlock_Udp_B1_B3/sm05/#02/middle/udp_dnlk_client_pkt_info.csv: row 0, total 52417/60628, 86.46%\n",
      "/home/wmnlab/D/database/2022-12-22/_Bandlock_Udp_B1_B3/sm05/#03/middle/udp_dnlk_client_pkt_info.csv: row 0, total 47172/54355, 86.79%\n",
      "/home/wmnlab/D/database/2022-12-22/_Bandlock_Udp_B1_B3/sm05/#04/middle/udp_dnlk_client_pkt_info.csv: row 0, total 58215/67655, 86.05%\n",
      "/home/wmnlab/D/database/2022-12-22/_Bandlock_Udp_B1_B3/sm06/#01/middle/udp_dnlk_client_pkt_info.csv: row 1, total 53704/60008, 89.49%\n",
      "/home/wmnlab/D/database/2022-12-22/_Bandlock_Udp_B1_B3/sm06/#02/middle/udp_dnlk_client_pkt_info.csv: row 1, total 56972/61260, 93.0%\n",
      "/home/wmnlab/D/database/2022-12-22/_Bandlock_Udp_B1_B3/sm06/#03/middle/udp_dnlk_client_pkt_info.csv: row 0, total 49583/53976, 91.86%\n",
      "/home/wmnlab/D/database/2022-12-22/_Bandlock_Udp_B1_B3/sm06/#04/middle/udp_dnlk_client_pkt_info.csv: row 1, total 63402/68210, 92.95%\n",
      "/home/wmnlab/D/database/2022-12-22/_Bandlock_Udp_B1_B3/sm07/#01/middle/udp_dnlk_client_pkt_info.csv: row 0, total 55118/62129, 88.72%\n",
      "/home/wmnlab/D/database/2022-12-22/_Bandlock_Udp_B1_B3/sm07/#02/middle/udp_dnlk_client_pkt_info.csv: row 0, total 52610/61186, 85.98%\n",
      "process is still alive!\n",
      "/home/wmnlab/D/database/2022-12-22/_Bandlock_Udp_B1_B3/sm07/#03/middle/udp_dnlk_client_pkt_info.csv: row 0, total 48010/55329, 86.77%\n",
      "/home/wmnlab/D/database/2022-12-22/_Bandlock_Udp_B1_B3/sm07/#04/middle/udp_dnlk_client_pkt_info.csv: row 0, total 60482/67478, 89.63%\n",
      "/home/wmnlab/D/database/2022-12-22/_Bandlock_Udp_B1_B3/sm08/#01/middle/udp_dnlk_client_pkt_info.csv: row 2, total 1/3, 33.33%\n",
      "/home/wmnlab/D/database/2022-12-22/_Bandlock_Udp_B1_B3/sm08/#02/middle/udp_dnlk_client_pkt_info.csv: row 0, total 53714/60349, 89.01%\n",
      "/home/wmnlab/D/database/2022-12-22/_Bandlock_Udp_B1_B3/sm08/#03/middle/udp_dnlk_client_pkt_info.csv: row 0, total 47292/54866, 86.2%\n",
      "/home/wmnlab/D/database/2022-12-22/_Bandlock_Udp_B1_B3/sm08/#04/middle/udp_dnlk_client_pkt_info.csv: row 0, total 61160/68120, 89.78%\n",
      "/home/wmnlab/D/database/2022-12-22/_Bandlock_Udp_B3_B7/sm05/#01/middle/udp_dnlk_client_pkt_info.csv: row 1, total 58926/68603, 85.89%\n",
      "/home/wmnlab/D/database/2022-12-22/_Bandlock_Udp_B3_B7/sm05/#02/middle/udp_dnlk_client_pkt_info.csv: row 0, total 53272/60260, 88.4%\n",
      "/home/wmnlab/D/database/2022-12-22/_Bandlock_Udp_B3_B7/sm05/#03/middle/udp_dnlk_client_pkt_info.csv: row 0, total 47495/54248, 87.55%\n",
      "/home/wmnlab/D/database/2022-12-22/_Bandlock_Udp_B3_B7/sm05/#04/middle/udp_dnlk_client_pkt_info.csv: row 0, total 57497/65312, 88.03%\n",
      "/home/wmnlab/D/database/2022-12-22/_Bandlock_Udp_B3_B7/sm06/#01/middle/udp_dnlk_client_pkt_info.csv: row 13, total 11946/202645, 5.9%\n",
      "/home/wmnlab/D/database/2022-12-22/_Bandlock_Udp_B3_B7/sm06/#02/middle/udp_dnlk_client_pkt_info.csv: row 703, total 8837/168121, 5.26%\n",
      "/home/wmnlab/D/database/2022-12-22/_Bandlock_Udp_B3_B7/sm06/#03/middle/udp_dnlk_client_pkt_info.csv: row 15, total 11874/143284, 8.29%\n",
      "/home/wmnlab/D/database/2022-12-22/_Bandlock_Udp_B3_B7/sm06/#04/middle/udp_dnlk_client_pkt_info.csv: row 237, total 13071/175112, 7.46%\n",
      "/home/wmnlab/D/database/2022-12-22/_Bandlock_Udp_B3_B7/sm07/#01/middle/udp_dnlk_client_pkt_info.csv: row 73, total 11401/183198, 6.22%\n",
      "/home/wmnlab/D/database/2022-12-22/_Bandlock_Udp_B3_B7/sm07/#02/middle/udp_dnlk_client_pkt_info.csv: row 79, total 7809/168270, 4.64%\n",
      "/home/wmnlab/D/database/2022-12-22/_Bandlock_Udp_B3_B7/sm07/#03/middle/udp_dnlk_client_pkt_info.csv: row 18, total 10051/146610, 6.86%\n",
      "/home/wmnlab/D/database/2022-12-22/_Bandlock_Udp_B3_B7/sm07/#04/middle/udp_dnlk_client_pkt_info.csv: row 21, total 10893/177879, 6.12%\n",
      "/home/wmnlab/D/database/2022-12-22/_Bandlock_Udp_B3_B7/sm08/#01/middle/udp_dnlk_client_pkt_info.csv: row 0, total 11679/187516, 6.23%\n",
      "/home/wmnlab/D/database/2022-12-22/_Bandlock_Udp_B3_B7/sm08/#02/middle/udp_dnlk_client_pkt_info.csv: row 0, total 10099/161556, 6.25%\n",
      "process is still alive!\n",
      "/home/wmnlab/D/database/2022-12-22/_Bandlock_Udp_B3_B7/sm08/#03/middle/udp_dnlk_client_pkt_info.csv: row 1, total 11849/142046, 8.34%\n",
      "/home/wmnlab/D/database/2022-12-22/_Bandlock_Udp_B3_B7/sm08/#04/middle/udp_dnlk_client_pkt_info.csv: row 265, total 11764/177244, 6.64%\n",
      "/home/wmnlab/D/database/2022-12-22/_Bandlock_Udp_B7_B8/sm05/#01/middle/udp_dnlk_client_pkt_info.csv: row 1, total 40176/45646, 88.02%\n",
      "/home/wmnlab/D/database/2022-12-22/_Bandlock_Udp_B7_B8/sm05/#02/middle/udp_dnlk_client_pkt_info.csv: row 0, total 40279/46002, 87.56%\n",
      "/home/wmnlab/D/database/2022-12-22/_Bandlock_Udp_B7_B8/sm05/#03/middle/udp_dnlk_client_pkt_info.csv: row 0, total 61723/68841, 89.66%\n",
      "/home/wmnlab/D/database/2022-12-22/_Bandlock_Udp_B7_B8/sm05/#04/middle/udp_dnlk_client_pkt_info.csv: row 1, total 53322/59545, 89.55%\n",
      "/home/wmnlab/D/database/2022-12-22/_Bandlock_Udp_B7_B8/sm06/#01/middle/udp_dnlk_client_pkt_info.csv: row 1, total 40868/45076, 90.66%\n",
      "/home/wmnlab/D/database/2022-12-22/_Bandlock_Udp_B7_B8/sm06/#02/middle/udp_dnlk_client_pkt_info.csv: row 0, total 41400/45578, 90.83%\n",
      "/home/wmnlab/D/database/2022-12-22/_Bandlock_Udp_B7_B8/sm06/#03/middle/udp_dnlk_client_pkt_info.csv: row 3, total 62399/67935, 91.85%\n",
      "/home/wmnlab/D/database/2022-12-22/_Bandlock_Udp_B7_B8/sm06/#04/middle/udp_dnlk_client_pkt_info.csv: row 1, total 53817/58508, 91.98%\n",
      "/home/wmnlab/D/database/2022-12-22/_Bandlock_Udp_B7_B8/sm07/#01/middle/udp_dnlk_client_pkt_info.csv: row 1, total 40581/45086, 90.01%\n",
      "/home/wmnlab/D/database/2022-12-22/_Bandlock_Udp_B7_B8/sm07/#02/middle/udp_dnlk_client_pkt_info.csv: row 1, total 41001/45684, 89.75%\n",
      "/home/wmnlab/D/database/2022-12-22/_Bandlock_Udp_B7_B8/sm07/#03/middle/udp_dnlk_client_pkt_info.csv: row 1, total 60645/68481, 88.56%\n",
      "/home/wmnlab/D/database/2022-12-22/_Bandlock_Udp_B7_B8/sm07/#04/middle/udp_dnlk_client_pkt_info.csv: row 1, total 53185/59440, 89.48%\n",
      "/home/wmnlab/D/database/2022-12-22/_Bandlock_Udp_B7_B8/sm08/#01/middle/udp_dnlk_client_pkt_info.csv: row 1, total 42576/46732, 91.11%\n",
      "/home/wmnlab/D/database/2022-12-22/_Bandlock_Udp_B7_B8/sm08/#02/middle/udp_dnlk_client_pkt_info.csv: row 1, total 41117/45831, 89.71%\n",
      "/home/wmnlab/D/database/2022-12-22/_Bandlock_Udp_B7_B8/sm08/#03/middle/udp_dnlk_client_pkt_info.csv: row 1, total 60116/68462, 87.81%\n",
      "/home/wmnlab/D/database/2022-12-22/_Bandlock_Udp_B7_B8/sm08/#04/middle/udp_dnlk_client_pkt_info.csv: row 1, total 53539/59092, 90.6%\n",
      "/home/wmnlab/D/database/2022-12-22/_Bandlock_Udp_B8_B1/sm05/#01/middle/udp_dnlk_client_pkt_info.csv: row 0, total 40753/47605, 85.61%\n",
      "/home/wmnlab/D/database/2022-12-22/_Bandlock_Udp_B8_B1/sm05/#02/middle/udp_dnlk_client_pkt_info.csv: row 0, total 55724/62272, 89.48%\n",
      "process is still alive!\n",
      "/home/wmnlab/D/database/2022-12-22/_Bandlock_Udp_B8_B1/sm05/#03/middle/udp_dnlk_client_pkt_info.csv: row 1, total 41957/46515, 90.2%\n",
      "/home/wmnlab/D/database/2022-12-22/_Bandlock_Udp_B8_B1/sm05/#04/middle/udp_dnlk_client_pkt_info.csv: row 2, total 46210/51421, 89.87%\n",
      "/home/wmnlab/D/database/2022-12-22/_Bandlock_Udp_B8_B1/sm06/#01/middle/udp_dnlk_client_pkt_info.csv: row 1, total 43091/47781, 90.18%\n",
      "/home/wmnlab/D/database/2022-12-22/_Bandlock_Udp_B8_B1/sm06/#02/middle/udp_dnlk_client_pkt_info.csv: row 1, total 53996/60632, 89.06%\n",
      "/home/wmnlab/D/database/2022-12-22/_Bandlock_Udp_B8_B1/sm06/#03/middle/udp_dnlk_client_pkt_info.csv: row 2, total 41643/46349, 89.85%\n",
      "/home/wmnlab/D/database/2022-12-22/_Bandlock_Udp_B8_B1/sm06/#04/middle/udp_dnlk_client_pkt_info.csv: row 1, total 45097/50642, 89.05%\n",
      "/home/wmnlab/D/database/2022-12-22/_Bandlock_Udp_B8_B1/sm07/#01/middle/udp_dnlk_client_pkt_info.csv: row 1, total 44663/48289, 92.49%\n",
      "/home/wmnlab/D/database/2022-12-22/_Bandlock_Udp_B8_B1/sm07/#02/middle/udp_dnlk_client_pkt_info.csv: row 1, total 56474/61766, 91.43%\n",
      "/home/wmnlab/D/database/2022-12-22/_Bandlock_Udp_B8_B1/sm07/#03/middle/udp_dnlk_client_pkt_info.csv: row 1, total 44550/47862, 93.08%\n",
      "/home/wmnlab/D/database/2022-12-22/_Bandlock_Udp_B8_B1/sm07/#04/middle/udp_dnlk_client_pkt_info.csv: row 0, total 47319/52103, 90.82%\n",
      "/home/wmnlab/D/database/2022-12-22/_Bandlock_Udp_B8_B1/sm08/#01/middle/udp_dnlk_client_pkt_info.csv: row 2, total 44229/48603, 91.0%\n",
      "/home/wmnlab/D/database/2022-12-22/_Bandlock_Udp_B8_B1/sm08/#02/middle/udp_dnlk_client_pkt_info.csv: row 3, total 55700/61142, 91.1%\n",
      "/home/wmnlab/D/database/2022-12-22/_Bandlock_Udp_B8_B1/sm08/#03/middle/udp_dnlk_client_pkt_info.csv: row 0, total 42848/47042, 91.08%\n",
      "/home/wmnlab/D/database/2022-12-22/_Bandlock_Udp_B8_B1/sm08/#04/middle/udp_dnlk_client_pkt_info.csv: row 1, total 45939/51277, 89.59%\n",
      "process is still alive!\n",
      "/home/wmnlab/D/database/2022-12-26/_Modem_Phone_Comparative_Exeriments/sm07/#01/middle/udp_dnlk_client_pkt_info.csv: row 2, total 64590/72174, 89.49%\n",
      "/home/wmnlab/D/database/2022-12-26/_Modem_Phone_Comparative_Exeriments/sm07/#02/middle/udp_dnlk_client_pkt_info.csv: row 1, total 49755/54851, 90.71%\n",
      "/home/wmnlab/D/database/2022-12-26/_Modem_Phone_Comparative_Exeriments/sm07/#03/middle/udp_dnlk_client_pkt_info.csv: row 1, total 48175/52957, 90.97%\n",
      "/home/wmnlab/D/database/2022-12-26/_Modem_Phone_Comparative_Exeriments/sm07/#04/middle/udp_dnlk_client_pkt_info.csv: row 1, total 47817/51942, 92.06%\n",
      "/home/wmnlab/D/database/2022-12-26/_Modem_Phone_Comparative_Exeriments/sm07/#05/middle/udp_dnlk_client_pkt_info.csv: row 1, total 53475/59200, 90.33%\n"
     ]
    },
    {
     "name": "stderr",
     "output_type": "stream",
     "text": [
      "/tmp/ipykernel_74793/2735628477.py:27: DtypeWarning: Columns (9,11) have mixed types. Specify dtype option on import or set low_memory=False.\n",
      "  df = pd.read_csv(filepath,\n"
     ]
    },
    {
     "name": "stdout",
     "output_type": "stream",
     "text": [
      "/home/wmnlab/D/database/2022-12-26/_Modem_Phone_Comparative_Exeriments/sm07/#06/middle/udp_dnlk_client_pkt_info.csv: row 2, total 42202/227222, 18.57%\n",
      "process is still alive!\n",
      "/home/wmnlab/D/database/2022-12-26/_Modem_Phone_Comparative_Exeriments/sm08/#01/middle/udp_dnlk_client_pkt_info.csv: row 1, total 64840/73388, 88.35%\n",
      "/home/wmnlab/D/database/2022-12-26/_Modem_Phone_Comparative_Exeriments/sm08/#02/middle/udp_dnlk_client_pkt_info.csv: row 1, total 51231/58023, 88.29%\n",
      "/home/wmnlab/D/database/2022-12-26/_Modem_Phone_Comparative_Exeriments/sm08/#03/middle/udp_dnlk_client_pkt_info.csv: row 1, total 46201/52521, 87.97%\n",
      "/home/wmnlab/D/database/2022-12-26/_Modem_Phone_Comparative_Exeriments/sm08/#04/middle/udp_dnlk_client_pkt_info.csv: row 1, total 45475/51676, 88.0%\n",
      "/home/wmnlab/D/database/2022-12-26/_Modem_Phone_Comparative_Exeriments/sm08/#05/middle/udp_dnlk_client_pkt_info.csv: row 1, total 52730/59924, 87.99%\n"
     ]
    },
    {
     "name": "stderr",
     "output_type": "stream",
     "text": [
      "/tmp/ipykernel_74793/2735628477.py:27: DtypeWarning: Columns (9,11) have mixed types. Specify dtype option on import or set low_memory=False.\n",
      "  df = pd.read_csv(filepath,\n"
     ]
    },
    {
     "name": "stdout",
     "output_type": "stream",
     "text": [
      "/home/wmnlab/D/database/2022-12-26/_Modem_Phone_Comparative_Exeriments/sm08/#06/middle/udp_dnlk_client_pkt_info.csv: row 1, total 46184/232117, 19.9%\n",
      "/home/wmnlab/D/database/2023-01-01/_MRT_Greenline/sm00/#01/middle/udp_dnlk_client_pkt_info.csv: row 0, total 82055/95478, 85.94%\n",
      "/home/wmnlab/D/database/2023-01-01/_MRT_Greenline/sm00/#02/middle/udp_dnlk_client_pkt_info.csv: row 1, total 78384/93079, 84.21%\n",
      "process is still alive!\n",
      "/home/wmnlab/D/database/2023-01-01/_MRT_Greenline/sm00/#03/middle/udp_dnlk_client_pkt_info.csv: row 0, total 80394/93403, 86.07%\n",
      "/home/wmnlab/D/database/2023-01-01/_MRT_Greenline/sm00/#04/middle/udp_dnlk_client_pkt_info.csv: row 0, total 75052/88471, 84.83%\n",
      "/home/wmnlab/D/database/2023-01-01/_MRT_Greenline/sm01/#01/middle/udp_dnlk_client_pkt_info.csv: row 0, total 81027/95488, 84.86%\n",
      "/home/wmnlab/D/database/2023-01-01/_MRT_Greenline/sm01/#02/middle/udp_dnlk_client_pkt_info.csv: row 0, total 77902/92284, 84.42%\n",
      "/home/wmnlab/D/database/2023-01-01/_MRT_Greenline/sm01/#03/middle/udp_dnlk_client_pkt_info.csv: row 1, total 80555/94133, 85.58%\n",
      "/home/wmnlab/D/database/2023-01-01/_MRT_Greenline/sm01/#04/middle/udp_dnlk_client_pkt_info.csv: row 1, total 74694/88717, 84.19%\n",
      "**********************************************************************\n"
     ]
    }
   ],
   "source": [
    "# Client Downlink\n",
    "root = \"/home/wmnlab/D/database\"\n",
    "visited = set()  # Set to keep track of visited nodes of graph (tree).\n",
    "pbar = tqdm(total=48_763)\n",
    "dfs(visited, root, filetags=('clt_dwnlnk_udp_packet_info.csv','udp_dnlk_client_pkt_info.csv'), tags=[])\n",
    "\n",
    "# /tmp/ipykernel_74252/819301199.py:27: DtypeWarning: Columns (9,11) have mixed types. Specify dtype option on import or set low_memory=False.\n",
    "# df = pd.read_csv(filepath,\n",
    "# 應該是在講 sequence.number 和 payload.time_epoch\n",
    "# sequence.number: 8557(int)  8558@8559(str)\n",
    "# payload.time_epoch: 1672045053.819261(float)  1672045053.821261@1672045053.823261(str)\n",
    "# 但無傷大雅，這份 code 用不到它們兩位"
   ]
  },
  {
   "cell_type": "code",
   "execution_count": 3,
   "metadata": {},
   "outputs": [
    {
     "data": {
      "application/vnd.jupyter.widget-view+json": {
       "model_id": "fdcf00198aef43f690fb361620be689b",
       "version_major": 2,
       "version_minor": 0
      },
      "text/plain": [
       "  0%|          | 0/48763 [00:00<?, ?it/s]"
      ]
     },
     "metadata": {},
     "output_type": "display_data"
    },
    {
     "name": "stdout",
     "output_type": "stream",
     "text": [
      "process is still alive!\n",
      "process is still alive!\n",
      "process is still alive!\n",
      "process is still alive!\n",
      "process is still alive!\n",
      "process is still alive!\n",
      "process is still alive!\n",
      "process is still alive!\n",
      "process is still alive!\n",
      "process is still alive!\n",
      "process is still alive!\n",
      "process is still alive!\n",
      "process is still alive!\n",
      "process is still alive!\n",
      "**********************************************************************\n"
     ]
    }
   ],
   "source": [
    "# Client Uplink\n",
    "root = \"/home/wmnlab/D/database\"\n",
    "visited = set()  # Set to keep track of visited nodes of graph (tree).\n",
    "pbar = tqdm(total=48_763)\n",
    "dfs(visited, root, filetags=('clt_uplnk_udp_packet_info.csv','udp_uplk_client_pkt_info.csv'), tags=[])"
   ]
  },
  {
   "cell_type": "code",
   "execution_count": 4,
   "metadata": {},
   "outputs": [
    {
     "data": {
      "application/vnd.jupyter.widget-view+json": {
       "model_id": "459a97b25807472c9f832314c826d1c8",
       "version_major": 2,
       "version_minor": 0
      },
      "text/plain": [
       "  0%|          | 0/48763 [00:00<?, ?it/s]"
      ]
     },
     "metadata": {},
     "output_type": "display_data"
    },
    {
     "name": "stdout",
     "output_type": "stream",
     "text": [
      "process is still alive!\n",
      "process is still alive!\n",
      "process is still alive!\n",
      "process is still alive!\n",
      "process is still alive!\n",
      "process is still alive!\n",
      "process is still alive!\n",
      "process is still alive!\n",
      "process is still alive!\n",
      "process is still alive!\n",
      "process is still alive!\n",
      "process is still alive!\n",
      "process is still alive!\n",
      "process is still alive!\n",
      "**********************************************************************\n"
     ]
    }
   ],
   "source": [
    "# Server Downlink\n",
    "root = \"/home/wmnlab/D/database\"\n",
    "visited = set()  # Set to keep track of visited nodes of graph (tree).\n",
    "pbar = tqdm(total=48_763)\n",
    "dfs(visited, root, filetags=('srv_dwnlnk_udp_packet_info.csv','udp_dnlk_server_pkt_info.csv'), tags=[])"
   ]
  },
  {
   "cell_type": "code",
   "execution_count": 5,
   "metadata": {},
   "outputs": [
    {
     "data": {
      "application/vnd.jupyter.widget-view+json": {
       "model_id": "de98382e4532494a96872d4f03a7cf6e",
       "version_major": 2,
       "version_minor": 0
      },
      "text/plain": [
       "  0%|          | 0/48763 [00:00<?, ?it/s]"
      ]
     },
     "metadata": {},
     "output_type": "display_data"
    },
    {
     "name": "stdout",
     "output_type": "stream",
     "text": [
      "process is still alive!\n",
      "process is still alive!\n",
      "process is still alive!\n",
      "process is still alive!\n",
      "process is still alive!\n",
      "process is still alive!\n",
      "process is still alive!\n",
      "process is still alive!\n",
      "process is still alive!\n",
      "process is still alive!\n",
      "process is still alive!\n",
      "process is still alive!\n",
      "process is still alive!\n",
      "process is still alive!\n",
      "**********************************************************************\n"
     ]
    },
    {
     "ename": "",
     "evalue": "",
     "output_type": "error",
     "traceback": [
      "\u001b[1;31mThe Kernel crashed while executing code in the the current cell or a previous cell. Please review the code in the cell(s) to identify a possible cause of the failure. Click <a href='https://aka.ms/vscodeJupyterKernelCrash'>here</a> for more info. View Jupyter <a href='command:jupyter.viewOutput'>log</a> for further details."
     ]
    }
   ],
   "source": [
    "# Server Uplink\n",
    "root = \"/home/wmnlab/D/database\"\n",
    "visited = set()  # Set to keep track of visited nodes of graph (tree).\n",
    "pbar = tqdm(total=48_763)\n",
    "dfs(visited, root, filetags=('srv_uplnk_udp_packet_info.csv','udp_uplk_server_pkt_info.csv'), tags=[])"
   ]
  },
  {
   "cell_type": "code",
   "execution_count": null,
   "metadata": {},
   "outputs": [],
   "source": []
  }
 ],
 "metadata": {
  "kernelspec": {
   "display_name": "Python 3",
   "language": "python",
   "name": "python3"
  },
  "language_info": {
   "codemirror_mode": {
    "name": "ipython",
    "version": 3
   },
   "file_extension": ".py",
   "mimetype": "text/x-python",
   "name": "python",
   "nbconvert_exporter": "python",
   "pygments_lexer": "ipython3",
   "version": "3.8.10"
  },
  "orig_nbformat": 4,
  "vscode": {
   "interpreter": {
    "hash": "31f2aee4e71d21fbe5cf8b01ff0e069b9275f58929596ceb00d14d90e3e16cd6"
   }
  }
 },
 "nbformat": 4,
 "nbformat_minor": 2
}
